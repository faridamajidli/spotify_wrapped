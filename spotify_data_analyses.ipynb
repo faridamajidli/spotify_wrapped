{
  "cells": [
    {
      "cell_type": "markdown",
      "metadata": {
        "id": "IU19MU4ekXH2"
      },
      "source": [
        "# Spotify Wrapped: Milestone 2"
      ]
    },
    {
      "cell_type": "markdown",
      "metadata": {
        "id": "-YfukhLxkWs_"
      },
      "source": [
        "## Libraries"
      ]
    },
    {
      "cell_type": "code",
      "execution_count": 1,
      "metadata": {
        "colab": {
          "base_uri": "https://localhost:8080/"
        },
        "id": "9d4qX6BckMgo",
        "outputId": "f2ead9a7-d4d5-4bcd-806f-1d40ea07a068"
      },
      "outputs": [
        {
          "name": "stdout",
          "output_type": "stream",
          "text": [
            "Collecting fastavro\n",
            "  Downloading fastavro-1.9.4-cp310-cp310-manylinux_2_17_x86_64.manylinux2014_x86_64.whl (3.1 MB)\n",
            "\u001b[2K     \u001b[90m━━━━━━━━━━━━━━━━━━━━━━━━━━━━━━━━━━━━━━━━\u001b[0m \u001b[32m3.1/3.1 MB\u001b[0m \u001b[31m8.0 MB/s\u001b[0m eta \u001b[36m0:00:00\u001b[0m\n",
            "\u001b[?25hCollecting kafka-python\n",
            "  Downloading kafka_python-2.0.2-py2.py3-none-any.whl (246 kB)\n",
            "\u001b[2K     \u001b[90m━━━━━━━━━━━━━━━━━━━━━━━━━━━━━━━━━━━━━━━━\u001b[0m \u001b[32m246.5/246.5 kB\u001b[0m \u001b[31m19.1 MB/s\u001b[0m eta \u001b[36m0:00:00\u001b[0m\n",
            "\u001b[?25hInstalling collected packages: kafka-python, fastavro\n",
            "Successfully installed fastavro-1.9.4 kafka-python-2.0.2\n",
            "Requirement already satisfied: fastavro in /usr/local/lib/python3.10/dist-packages (1.9.4)\n",
            "Collecting arrow\n",
            "  Downloading arrow-1.3.0-py3-none-any.whl (66 kB)\n",
            "\u001b[2K     \u001b[90m━━━━━━━━━━━━━━━━━━━━━━━━━━━━━━━━━━━━━━━━\u001b[0m \u001b[32m66.4/66.4 kB\u001b[0m \u001b[31m1.2 MB/s\u001b[0m eta \u001b[36m0:00:00\u001b[0m\n",
            "\u001b[?25hRequirement already satisfied: python-dateutil>=2.7.0 in /usr/local/lib/python3.10/dist-packages (from arrow) (2.8.2)\n",
            "Collecting types-python-dateutil>=2.8.10 (from arrow)\n",
            "  Downloading types_python_dateutil-2.9.0.20240316-py3-none-any.whl (9.7 kB)\n",
            "Requirement already satisfied: six>=1.5 in /usr/local/lib/python3.10/dist-packages (from python-dateutil>=2.7.0->arrow) (1.16.0)\n",
            "Installing collected packages: types-python-dateutil, arrow\n",
            "Successfully installed arrow-1.3.0 types-python-dateutil-2.9.0.20240316\n",
            "Collecting faker\n",
            "  Downloading Faker-24.9.0-py3-none-any.whl (1.8 MB)\n",
            "\u001b[2K     \u001b[90m━━━━━━━━━━━━━━━━━━━━━━━━━━━━━━━━━━━━━━━━\u001b[0m \u001b[32m1.8/1.8 MB\u001b[0m \u001b[31m7.9 MB/s\u001b[0m eta \u001b[36m0:00:00\u001b[0m\n",
            "\u001b[?25hRequirement already satisfied: python-dateutil>=2.4 in /usr/local/lib/python3.10/dist-packages (from faker) (2.8.2)\n",
            "Requirement already satisfied: six>=1.5 in /usr/local/lib/python3.10/dist-packages (from python-dateutil>=2.4->faker) (1.16.0)\n",
            "Installing collected packages: faker\n",
            "Successfully installed faker-24.9.0\n",
            "Collecting pycountry-convert\n",
            "  Downloading pycountry_convert-0.7.2-py3-none-any.whl (13 kB)\n",
            "Collecting pprintpp>=0.3.0 (from pycountry-convert)\n",
            "  Downloading pprintpp-0.4.0-py2.py3-none-any.whl (16 kB)\n",
            "Collecting pycountry>=16.11.27.1 (from pycountry-convert)\n",
            "  Downloading pycountry-23.12.11-py3-none-any.whl (6.2 MB)\n",
            "\u001b[2K     \u001b[90m━━━━━━━━━━━━━━━━━━━━━━━━━━━━━━━━━━━━━━━━\u001b[0m \u001b[32m6.2/6.2 MB\u001b[0m \u001b[31m20.5 MB/s\u001b[0m eta \u001b[36m0:00:00\u001b[0m\n",
            "\u001b[?25hRequirement already satisfied: pytest>=3.4.0 in /usr/local/lib/python3.10/dist-packages (from pycountry-convert) (7.4.4)\n",
            "Collecting pytest-mock>=1.6.3 (from pycountry-convert)\n",
            "  Downloading pytest_mock-3.14.0-py3-none-any.whl (9.9 kB)\n",
            "Collecting pytest-cov>=2.5.1 (from pycountry-convert)\n",
            "  Downloading pytest_cov-5.0.0-py3-none-any.whl (21 kB)\n",
            "Collecting repoze.lru>=0.7 (from pycountry-convert)\n",
            "  Downloading repoze.lru-0.7-py3-none-any.whl (10 kB)\n",
            "Requirement already satisfied: wheel>=0.30.0 in /usr/local/lib/python3.10/dist-packages (from pycountry-convert) (0.43.0)\n",
            "Requirement already satisfied: iniconfig in /usr/local/lib/python3.10/dist-packages (from pytest>=3.4.0->pycountry-convert) (2.0.0)\n",
            "Requirement already satisfied: packaging in /usr/local/lib/python3.10/dist-packages (from pytest>=3.4.0->pycountry-convert) (24.0)\n",
            "Requirement already satisfied: pluggy<2.0,>=0.12 in /usr/local/lib/python3.10/dist-packages (from pytest>=3.4.0->pycountry-convert) (1.4.0)\n",
            "Requirement already satisfied: exceptiongroup>=1.0.0rc8 in /usr/local/lib/python3.10/dist-packages (from pytest>=3.4.0->pycountry-convert) (1.2.0)\n",
            "Requirement already satisfied: tomli>=1.0.0 in /usr/local/lib/python3.10/dist-packages (from pytest>=3.4.0->pycountry-convert) (2.0.1)\n",
            "Collecting coverage[toml]>=5.2.1 (from pytest-cov>=2.5.1->pycountry-convert)\n",
            "  Downloading coverage-7.4.4-cp310-cp310-manylinux_2_5_x86_64.manylinux1_x86_64.manylinux_2_17_x86_64.manylinux2014_x86_64.whl (233 kB)\n",
            "\u001b[2K     \u001b[90m━━━━━━━━━━━━━━━━━━━━━━━━━━━━━━━━━━━━━━━━\u001b[0m \u001b[32m233.5/233.5 kB\u001b[0m \u001b[31m26.5 MB/s\u001b[0m eta \u001b[36m0:00:00\u001b[0m\n",
            "\u001b[?25hInstalling collected packages: repoze.lru, pprintpp, pycountry, coverage, pytest-mock, pytest-cov, pycountry-convert\n",
            "Successfully installed coverage-7.4.4 pprintpp-0.4.0 pycountry-23.12.11 pycountry-convert-0.7.2 pytest-cov-5.0.0 pytest-mock-3.14.0 repoze.lru-0.7\n",
            "Collecting azure.storage.queue\n",
            "  Downloading azure_storage_queue-12.9.0-py3-none-any.whl (182 kB)\n",
            "\u001b[2K     \u001b[90m━━━━━━━━━━━━━━━━━━━━━━━━━━━━━━━━━━━━━━━━\u001b[0m \u001b[32m182.2/182.2 kB\u001b[0m \u001b[31m2.1 MB/s\u001b[0m eta \u001b[36m0:00:00\u001b[0m\n",
            "\u001b[?25hCollecting azure-core<2.0.0,>=1.28.0 (from azure.storage.queue)\n",
            "  Downloading azure_core-1.30.1-py3-none-any.whl (193 kB)\n",
            "\u001b[2K     \u001b[90m━━━━━━━━━━━━━━━━━━━━━━━━━━━━━━━━━━━━━━━━\u001b[0m \u001b[32m193.4/193.4 kB\u001b[0m \u001b[31m11.8 MB/s\u001b[0m eta \u001b[36m0:00:00\u001b[0m\n",
            "\u001b[?25hRequirement already satisfied: cryptography>=2.1.4 in /usr/local/lib/python3.10/dist-packages (from azure.storage.queue) (42.0.5)\n",
            "Requirement already satisfied: typing-extensions>=4.3.0 in /usr/local/lib/python3.10/dist-packages (from azure.storage.queue) (4.11.0)\n",
            "Collecting isodate>=0.6.1 (from azure.storage.queue)\n",
            "  Downloading isodate-0.6.1-py2.py3-none-any.whl (41 kB)\n",
            "\u001b[2K     \u001b[90m━━━━━━━━━━━━━━━━━━━━━━━━━━━━━━━━━━━━━━━━\u001b[0m \u001b[32m41.7/41.7 kB\u001b[0m \u001b[31m5.0 MB/s\u001b[0m eta \u001b[36m0:00:00\u001b[0m\n",
            "\u001b[?25hRequirement already satisfied: requests>=2.21.0 in /usr/local/lib/python3.10/dist-packages (from azure-core<2.0.0,>=1.28.0->azure.storage.queue) (2.31.0)\n",
            "Requirement already satisfied: six>=1.11.0 in /usr/local/lib/python3.10/dist-packages (from azure-core<2.0.0,>=1.28.0->azure.storage.queue) (1.16.0)\n",
            "Requirement already satisfied: cffi>=1.12 in /usr/local/lib/python3.10/dist-packages (from cryptography>=2.1.4->azure.storage.queue) (1.16.0)\n",
            "Requirement already satisfied: pycparser in /usr/local/lib/python3.10/dist-packages (from cffi>=1.12->cryptography>=2.1.4->azure.storage.queue) (2.22)\n",
            "Requirement already satisfied: charset-normalizer<4,>=2 in /usr/local/lib/python3.10/dist-packages (from requests>=2.21.0->azure-core<2.0.0,>=1.28.0->azure.storage.queue) (3.3.2)\n",
            "Requirement already satisfied: idna<4,>=2.5 in /usr/local/lib/python3.10/dist-packages (from requests>=2.21.0->azure-core<2.0.0,>=1.28.0->azure.storage.queue) (3.6)\n",
            "Requirement already satisfied: urllib3<3,>=1.21.1 in /usr/local/lib/python3.10/dist-packages (from requests>=2.21.0->azure-core<2.0.0,>=1.28.0->azure.storage.queue) (2.0.7)\n",
            "Requirement already satisfied: certifi>=2017.4.17 in /usr/local/lib/python3.10/dist-packages (from requests>=2.21.0->azure-core<2.0.0,>=1.28.0->azure.storage.queue) (2024.2.2)\n",
            "Installing collected packages: isodate, azure-core, azure.storage.queue\n",
            "Successfully installed azure-core-1.30.1 azure.storage.queue-12.9.0 isodate-0.6.1\n",
            "Collecting pyspark\n",
            "  Downloading pyspark-3.5.1.tar.gz (317.0 MB)\n",
            "\u001b[2K     \u001b[90m━━━━━━━━━━━━━━━━━━━━━━━━━━━━━━━━━━━━━━━━\u001b[0m \u001b[32m317.0/317.0 MB\u001b[0m \u001b[31m4.0 MB/s\u001b[0m eta \u001b[36m0:00:00\u001b[0m\n",
            "\u001b[?25h  Preparing metadata (setup.py) ... \u001b[?25l\u001b[?25hdone\n",
            "Requirement already satisfied: py4j==0.10.9.7 in /usr/local/lib/python3.10/dist-packages (from pyspark) (0.10.9.7)\n",
            "Building wheels for collected packages: pyspark\n",
            "  Building wheel for pyspark (setup.py) ... \u001b[?25l\u001b[?25hdone\n",
            "  Created wheel for pyspark: filename=pyspark-3.5.1-py2.py3-none-any.whl size=317488491 sha256=f7c0fa4d4142c58a50c5d050d54f18c46cc910a963b413f0fbed30984689e2d5\n",
            "  Stored in directory: /root/.cache/pip/wheels/80/1d/60/2c256ed38dddce2fdd93be545214a63e02fbd8d74fb0b7f3a6\n",
            "Successfully built pyspark\n",
            "Installing collected packages: pyspark\n",
            "Successfully installed pyspark-3.5.1\n",
            "Collecting azure.eventhub\n",
            "  Downloading azure_eventhub-5.11.7-py3-none-any.whl (320 kB)\n",
            "\u001b[2K     \u001b[90m━━━━━━━━━━━━━━━━━━━━━━━━━━━━━━━━━━━━━━━━\u001b[0m \u001b[32m320.6/320.6 kB\u001b[0m \u001b[31m2.9 MB/s\u001b[0m eta \u001b[36m0:00:00\u001b[0m\n",
            "\u001b[?25hRequirement already satisfied: azure-core>=1.14.0 in /usr/local/lib/python3.10/dist-packages (from azure.eventhub) (1.30.1)\n",
            "Requirement already satisfied: typing-extensions>=4.0.1 in /usr/local/lib/python3.10/dist-packages (from azure.eventhub) (4.11.0)\n",
            "Requirement already satisfied: requests>=2.21.0 in /usr/local/lib/python3.10/dist-packages (from azure-core>=1.14.0->azure.eventhub) (2.31.0)\n",
            "Requirement already satisfied: six>=1.11.0 in /usr/local/lib/python3.10/dist-packages (from azure-core>=1.14.0->azure.eventhub) (1.16.0)\n",
            "Requirement already satisfied: charset-normalizer<4,>=2 in /usr/local/lib/python3.10/dist-packages (from requests>=2.21.0->azure-core>=1.14.0->azure.eventhub) (3.3.2)\n",
            "Requirement already satisfied: idna<4,>=2.5 in /usr/local/lib/python3.10/dist-packages (from requests>=2.21.0->azure-core>=1.14.0->azure.eventhub) (3.6)\n",
            "Requirement already satisfied: urllib3<3,>=1.21.1 in /usr/local/lib/python3.10/dist-packages (from requests>=2.21.0->azure-core>=1.14.0->azure.eventhub) (2.0.7)\n",
            "Requirement already satisfied: certifi>=2017.4.17 in /usr/local/lib/python3.10/dist-packages (from requests>=2.21.0->azure-core>=1.14.0->azure.eventhub) (2024.2.2)\n",
            "Installing collected packages: azure.eventhub\n",
            "Successfully installed azure.eventhub-5.11.7\n",
            "Collecting findspark\n",
            "  Downloading findspark-2.0.1-py2.py3-none-any.whl (4.4 kB)\n",
            "Installing collected packages: findspark\n",
            "Successfully installed findspark-2.0.1\n"
          ]
        }
      ],
      "source": [
        "!pip install fastavro kafka-python\n",
        "!pip install fastavro\n",
        "!pip install arrow\n",
        "!pip install faker\n",
        "!pip install pycountry-convert\n",
        "!pip install azure.storage.queue\n",
        "!pip install pyspark\n",
        "!pip install azure.eventhub\n",
        "!pip install findspark"
      ]
    },
    {
      "cell_type": "code",
      "execution_count": 18,
      "metadata": {
        "id": "1-i21sAuknBU"
      },
      "outputs": [],
      "source": [
        "from fastavro import parse_schema\n",
        "from fastavro import writer, reader\n",
        "from google.colab import drive\n",
        "import pandas as pd\n",
        "import numpy as np\n",
        "import uuid\n",
        "import datetime\n",
        "import random, os\n",
        "from faker import Faker\n",
        "from azure.storage.queue import QueueServiceClient, QueueClient\n",
        "from azure.core.exceptions import ResourceExistsError\n",
        "from google.colab import drive\n",
        "from collections import Counter\n",
        "from pyspark.sql import functions as F\n",
        "from pyspark.sql.functions import session_window\n",
        "from pyspark.sql.functions import window\n",
        "from pyspark.sql import functions as F\n",
        "from pyspark.sql import SparkSession\n",
        "from pyspark.sql.avro.functions import from_avro\n",
        "import os, time\n",
        "import findspark\n",
        "import pyspark\n",
        "import json\n",
        "from pyspark.sql.functions import col, to_timestamp\n",
        "import tensorflow as tf\n",
        "from tensorflow.keras.models import Sequential\n",
        "from tensorflow.keras.layers import LSTM, Dense\n",
        "from sklearn.preprocessing import MinMaxScaler\n",
        "import numpy as np\n",
        "import pandas as pd\n",
        "import tensorflow as tf\n",
        "from tensorflow.keras.models import Sequential\n",
        "from tensorflow.keras.layers import LSTM, Dense\n",
        "from sklearn.preprocessing import MinMaxScaler\n",
        "import numpy as np\n",
        "import pandas as pd\n",
        "import matplotlib.pyplot as plt\n",
        "from pyspark.sql.functions import date_format\n",
        "import tensorflow as tf\n",
        "from tensorflow.keras.models import Sequential\n",
        "from tensorflow.keras.layers import LSTM, Dense\n",
        "from sklearn.preprocessing import MinMaxScaler\n",
        "import numpy as np\n",
        "import pandas as pd\n",
        "import matplotlib.pyplot as plt\n",
        "from pyspark.sql.functions import weekofyear\n",
        "from azure.storage.queue import QueueServiceClient\n",
        "from azure.core.exceptions import ResourceExistsError\n",
        "import io\n",
        "import base64\n",
        "from pyspark.sql.avro.functions import from_avro, to_avro\n",
        "from azure.storage.queue import QueueClient\n",
        "from pyspark.sql import Row\n",
        "import fastavro\n",
        "from pyspark.sql.types import *\n",
        "from azure.storage.queue import QueueServiceClient\n",
        "from azure.core.exceptions import ResourceExistsError\n",
        "import io\n",
        "import base64\n",
        "from pyspark.sql.avro.functions import from_avro, to_avro\n",
        "from azure.storage.queue import QueueClient\n",
        "from pyspark.sql import Row\n",
        "import fastavro\n",
        "from pyspark.sql.functions import col, desc\n",
        "from pyspark.sql.streaming import StreamingQuery\n",
        "from azure.eventhub import EventHubProducerClient, EventData\n",
        "from azure.eventhub import EventHubProducerClient, EventData\n",
        "import os\n",
        "from pyspark.sql.functions import col\n",
        "import time\n",
        "import numpy as np\n",
        "import pandas as pd\n",
        "import matplotlib.pyplot as plt\n",
        "from sklearn.preprocessing import MinMaxScaler\n",
        "from tensorflow.keras.models import Sequential\n",
        "from tensorflow.keras.layers import LSTM, Dense"
      ]
    },
    {
      "cell_type": "markdown",
      "metadata": {
        "id": "CRVRxOwSkyWx"
      },
      "source": [
        "## Kafka Set up"
      ]
    },
    {
      "cell_type": "code",
      "execution_count": 3,
      "metadata": {
        "colab": {
          "base_uri": "https://localhost:8080/"
        },
        "id": "ultyDVpXlY5M",
        "outputId": "a163bfc0-c8f1-46c2-bff0-5ee1808e2b41"
      },
      "outputs": [
        {
          "name": "stdout",
          "output_type": "stream",
          "text": [
            "Writing environment.sh\n"
          ]
        }
      ],
      "source": [
        "%%writefile environment.sh\n",
        "#!/usr/bin/bash\n",
        "export KAFKA_BINARY_VERSION='3.7.0'\n",
        "export SCALA_BINARY_VERSION='2.13'\n",
        "export KAFKA_BINARY_VERSION=$KAFKA_BINARY_VERSION\n",
        "export SCALA_BINARY_VERSION=$SCALA_BINARY_VERSION\n",
        "export PATH=$PATH:$PWD/kafka_$SCALA_BINARY_VERSION-$KAFKA_BINARY_VERSION/bin"
      ]
    },
    {
      "cell_type": "code",
      "execution_count": 4,
      "metadata": {
        "colab": {
          "base_uri": "https://localhost:8080/"
        },
        "id": "PHHfLX4MltgO",
        "outputId": "891d5150-9ea4-41fa-f87a-a16e8e0016de"
      },
      "outputs": [
        {
          "name": "stdout",
          "output_type": "stream",
          "text": [
            "Writing kafka_setup.sh\n"
          ]
        }
      ],
      "source": [
        "%%writefile kafka_setup.sh\n",
        "source ./environment.sh\n",
        "echo kafka_$SCALA_BINARY_VERSION-$KAFKA_BINARY_VERSION\n",
        "echo $PATH\n",
        "\n",
        "# Java Setup\n",
        "wget -O- https://apt.corretto.aws/corretto.key | sudo apt-key add -\n",
        "sudo add-apt-repository 'deb https://apt.corretto.aws stable main' -y\n",
        "sudo apt-get -y update; sudo apt-get install -y java-11-amazon-corretto-jdk\n",
        "\n",
        "# Kafka Setup\n",
        "wget https://downloads.apache.org/kafka/${KAFKA_BINARY_VERSION}/kafka_${SCALA_BINARY_VERSION}-${KAFKA_BINARY_VERSION}.tgz\n",
        "tar xzf kafka_${SCALA_BINARY_VERSION}-${KAFKA_BINARY_VERSION}.tgz\n",
        "\n",
        "UUID=$(./kafka_${SCALA_BINARY_VERSION}-${KAFKA_BINARY_VERSION}/bin/kafka-storage.sh random-uuid)\n",
        "echo \"export UUID=$UUID\" >> ./environment.sh\n",
        "cat environment.sh\n",
        "\n",
        "# Start Kafka Broker\n",
        "\n",
        "echo kafka_$SCALA_BINARY_VERSION-$KAFKA_BINARY_VERSION\n",
        "\n",
        "# offsets.retention.minutes determines how long Kafka retains the commit offsets for consumer groups.\n",
        "echo \"offsets.retention.minutes=300\" >> ./kafka_${SCALA_BINARY_VERSION}-${KAFKA_BINARY_VERSION}/config/kraft/server.properties\n",
        "\n",
        "./kafka_${SCALA_BINARY_VERSION}-${KAFKA_BINARY_VERSION}/bin/kafka-storage.sh format -t ${UUID} -c ./kafka_${SCALA_BINARY_VERSION}-${KAFKA_BINARY_VERSION}/config/kraft/server.properties\n",
        "nohup ./kafka_${SCALA_BINARY_VERSION}-${KAFKA_BINARY_VERSION}/bin/kafka-server-start.sh ./kafka_${SCALA_BINARY_VERSION}-${KAFKA_BINARY_VERSION}/config/kraft/server.properties > kafka_server.log &"
      ]
    },
    {
      "cell_type": "code",
      "execution_count": 5,
      "metadata": {
        "colab": {
          "base_uri": "https://localhost:8080/"
        },
        "id": "KundotPjlzOq",
        "outputId": "556643ee-594a-4f1a-93d3-1d424379f1c1"
      },
      "outputs": [
        {
          "name": "stdout",
          "output_type": "stream",
          "text": [
            "kafka_2.13-3.7.0\n",
            "/opt/bin:/usr/local/nvidia/bin:/usr/local/cuda/bin:/usr/local/sbin:/usr/local/bin:/usr/sbin:/usr/bin:/sbin:/bin:/tools/node/bin:/tools/google-cloud-sdk/bin:/content/kafka_2.13-3.7.0/bin\n",
            "--2024-04-14 19:31:09--  https://apt.corretto.aws/corretto.key\n",
            "Resolving apt.corretto.aws (apt.corretto.aws)... 52.84.18.105, 52.84.18.101, 52.84.18.14, ...\n",
            "Connecting to apt.corretto.aws (apt.corretto.aws)|52.84.18.105|:443... connected.\n",
            "HTTP request sent, awaiting response... 200 OK\n",
            "Length: 1695 (1.7K) [binary/octet-stream]\n",
            "Saving to: ‘STDOUT’\n",
            "\n",
            "\r-                     0%[                    ]       0  --.-KB/s               \r-                   100%[===================>]   1.66K  --.-KB/s    in 0s      \n",
            "\n",
            "2024-04-14 19:31:10 (914 MB/s) - written to stdout [1695/1695]\n",
            "\n",
            "Warning: apt-key is deprecated. Manage keyring files in trusted.gpg.d instead (see apt-key(8)).\n",
            "OK\n",
            "Repository: 'deb https://apt.corretto.aws stable main'\n",
            "Description:\n",
            "Archive for codename: stable components: main\n",
            "More info: https://apt.corretto.aws\n",
            "Adding repository.\n",
            "Adding deb entry to /etc/apt/sources.list.d/archive_uri-https_apt_corretto_aws-jammy.list\n",
            "Adding disabled deb-src entry to /etc/apt/sources.list.d/archive_uri-https_apt_corretto_aws-jammy.list\n",
            "Get:1 https://apt.corretto.aws stable InRelease [10.7 kB]\n",
            "Get:2 https://cloud.r-project.org/bin/linux/ubuntu jammy-cran40/ InRelease [3,626 B]\n",
            "Hit:3 http://archive.ubuntu.com/ubuntu jammy InRelease\n",
            "Get:4 https://developer.download.nvidia.com/compute/cuda/repos/ubuntu2204/x86_64  InRelease [1,581 B]\n",
            "Get:5 http://archive.ubuntu.com/ubuntu jammy-updates InRelease [119 kB]\n",
            "Get:6 http://security.ubuntu.com/ubuntu jammy-security InRelease [110 kB]\n",
            "Get:7 https://apt.corretto.aws stable/main amd64 Packages [17.1 kB]\n",
            "Hit:8 http://archive.ubuntu.com/ubuntu jammy-backports InRelease\n",
            "Get:9 https://developer.download.nvidia.com/compute/cuda/repos/ubuntu2204/x86_64  Packages [808 kB]\n",
            "Hit:10 https://ppa.launchpadcontent.net/c2d4u.team/c2d4u4.0+/ubuntu jammy InRelease\n",
            "Get:11 http://archive.ubuntu.com/ubuntu jammy-updates/universe amd64 Packages [1,375 kB]\n",
            "Get:12 http://archive.ubuntu.com/ubuntu jammy-updates/main amd64 Packages [1,974 kB]\n",
            "Get:13 https://ppa.launchpadcontent.net/deadsnakes/ppa/ubuntu jammy InRelease [18.1 kB]\n",
            "Get:14 http://archive.ubuntu.com/ubuntu jammy-updates/restricted amd64 Packages [2,176 kB]\n",
            "Get:15 http://archive.ubuntu.com/ubuntu jammy-updates/multiverse amd64 Packages [61.3 kB]\n",
            "Get:16 http://security.ubuntu.com/ubuntu jammy-security/restricted amd64 Packages [2,135 kB]\n",
            "Hit:17 https://ppa.launchpadcontent.net/graphics-drivers/ppa/ubuntu jammy InRelease\n",
            "Hit:18 https://ppa.launchpadcontent.net/ubuntugis/ppa/ubuntu jammy InRelease\n",
            "Get:19 https://ppa.launchpadcontent.net/deadsnakes/ppa/ubuntu jammy/main amd64 Packages [27.8 kB]\n",
            "Get:20 http://security.ubuntu.com/ubuntu jammy-security/universe amd64 Packages [1,082 kB]\n",
            "Get:21 http://security.ubuntu.com/ubuntu jammy-security/main amd64 Packages [1,691 kB]\n",
            "Get:22 http://security.ubuntu.com/ubuntu jammy-security/multiverse amd64 Packages [44.7 kB]\n",
            "Fetched 11.7 MB in 2s (6,336 kB/s)\n",
            "Reading package lists... Done\n",
            "W: https://apt.corretto.aws/dists/stable/InRelease: Key is stored in legacy trusted.gpg keyring (/etc/apt/trusted.gpg), see the DEPRECATION section in apt-key(8) for details.\n",
            "Hit:1 https://cloud.r-project.org/bin/linux/ubuntu jammy-cran40/ InRelease\n",
            "Hit:2 https://apt.corretto.aws stable InRelease\n",
            "Hit:3 http://archive.ubuntu.com/ubuntu jammy InRelease\n",
            "Hit:4 http://archive.ubuntu.com/ubuntu jammy-updates InRelease\n",
            "Hit:5 https://developer.download.nvidia.com/compute/cuda/repos/ubuntu2204/x86_64  InRelease\n",
            "Hit:6 http://archive.ubuntu.com/ubuntu jammy-backports InRelease\n",
            "Hit:7 http://security.ubuntu.com/ubuntu jammy-security InRelease\n",
            "Hit:8 https://ppa.launchpadcontent.net/c2d4u.team/c2d4u4.0+/ubuntu jammy InRelease\n",
            "Hit:9 https://ppa.launchpadcontent.net/deadsnakes/ppa/ubuntu jammy InRelease\n",
            "Hit:10 https://ppa.launchpadcontent.net/graphics-drivers/ppa/ubuntu jammy InRelease\n",
            "Hit:11 https://ppa.launchpadcontent.net/ubuntugis/ppa/ubuntu jammy InRelease\n",
            "Reading package lists... Done\n",
            "W: https://apt.corretto.aws/dists/stable/InRelease: Key is stored in legacy trusted.gpg keyring (/etc/apt/trusted.gpg), see the DEPRECATION section in apt-key(8) for details.\n",
            "Reading package lists... Done\n",
            "Building dependency tree... Done\n",
            "Reading state information... Done\n",
            "The following NEW packages will be installed:\n",
            "  java-11-amazon-corretto-jdk\n",
            "0 upgraded, 1 newly installed, 0 to remove and 46 not upgraded.\n",
            "Need to get 195 MB of archives.\n",
            "After this operation, 327 MB of additional disk space will be used.\n",
            "Get:1 https://apt.corretto.aws stable/main amd64 java-11-amazon-corretto-jdk amd64 1:11.0.22.7-1 [195 MB]\n",
            "Fetched 195 MB in 2s (85.8 MB/s)\n",
            "debconf: unable to initialize frontend: Dialog\n",
            "debconf: (No usable dialog-like program is installed, so the dialog based frontend cannot be used. at /usr/share/perl5/Debconf/FrontEnd/Dialog.pm line 78, <> line 1.)\n",
            "debconf: falling back to frontend: Readline\n",
            "debconf: unable to initialize frontend: Readline\n",
            "debconf: (This frontend requires a controlling tty.)\n",
            "debconf: falling back to frontend: Teletype\n",
            "dpkg-preconfigure: unable to re-open stdin: \n",
            "Selecting previously unselected package java-11-amazon-corretto-jdk:amd64.\n",
            "(Reading database ... 121752 files and directories currently installed.)\n",
            "Preparing to unpack .../java-11-amazon-corretto-jdk_1%3a11.0.22.7-1_amd64.deb ...\n",
            "Unpacking java-11-amazon-corretto-jdk:amd64 (1:11.0.22.7-1) ...\n",
            "Setting up java-11-amazon-corretto-jdk:amd64 (1:11.0.22.7-1) ...\n",
            "update-alternatives: using /usr/lib/jvm/java-11-amazon-corretto/bin/java to provide /usr/bin/java (java) in auto mode\n",
            "update-alternatives: using /usr/lib/jvm/java-11-amazon-corretto/bin/keytool to provide /usr/bin/keytool (keytool) in auto mode\n",
            "update-alternatives: using /usr/lib/jvm/java-11-amazon-corretto/bin/rmid to provide /usr/bin/rmid (rmid) in auto mode\n",
            "update-alternatives: using /usr/lib/jvm/java-11-amazon-corretto/bin/rmiregistry to provide /usr/bin/rmiregistry (rmiregistry) in auto mode\n",
            "update-alternatives: using /usr/lib/jvm/java-11-amazon-corretto/bin/jjs to provide /usr/bin/jjs (jjs) in auto mode\n",
            "update-alternatives: using /usr/lib/jvm/java-11-amazon-corretto/bin/pack200 to provide /usr/bin/pack200 (pack200) in auto mode\n",
            "update-alternatives: using /usr/lib/jvm/java-11-amazon-corretto/bin/unpack200 to provide /usr/bin/unpack200 (unpack200) in auto mode\n",
            "update-alternatives: using /usr/lib/jvm/java-11-amazon-corretto/bin/javac to provide /usr/bin/javac (javac) in auto mode\n",
            "update-alternatives: using /usr/lib/jvm/java-11-amazon-corretto/bin/jaotc to provide /usr/bin/jaotc (jaotc) in auto mode\n",
            "update-alternatives: using /usr/lib/jvm/java-11-amazon-corretto/bin/jlink to provide /usr/bin/jlink (jlink) in auto mode\n",
            "update-alternatives: using /usr/lib/jvm/java-11-amazon-corretto/bin/jmod to provide /usr/bin/jmod (jmod) in auto mode\n",
            "update-alternatives: using /usr/lib/jvm/java-11-amazon-corretto/bin/jhsdb to provide /usr/bin/jhsdb (jhsdb) in auto mode\n",
            "update-alternatives: using /usr/lib/jvm/java-11-amazon-corretto/bin/jar to provide /usr/bin/jar (jar) in auto mode\n",
            "update-alternatives: using /usr/lib/jvm/java-11-amazon-corretto/bin/jarsigner to provide /usr/bin/jarsigner (jarsigner) in auto mode\n",
            "update-alternatives: using /usr/lib/jvm/java-11-amazon-corretto/bin/javadoc to provide /usr/bin/javadoc (javadoc) in auto mode\n",
            "update-alternatives: using /usr/lib/jvm/java-11-amazon-corretto/bin/javap to provide /usr/bin/javap (javap) in auto mode\n",
            "update-alternatives: using /usr/lib/jvm/java-11-amazon-corretto/bin/jcmd to provide /usr/bin/jcmd (jcmd) in auto mode\n",
            "update-alternatives: using /usr/lib/jvm/java-11-amazon-corretto/bin/jconsole to provide /usr/bin/jconsole (jconsole) in auto mode\n",
            "update-alternatives: using /usr/lib/jvm/java-11-amazon-corretto/bin/jdb to provide /usr/bin/jdb (jdb) in auto mode\n",
            "update-alternatives: using /usr/lib/jvm/java-11-amazon-corretto/bin/jdeps to provide /usr/bin/jdeps (jdeps) in auto mode\n",
            "update-alternatives: using /usr/lib/jvm/java-11-amazon-corretto/bin/jdeprscan to provide /usr/bin/jdeprscan (jdeprscan) in auto mode\n",
            "update-alternatives: using /usr/lib/jvm/java-11-amazon-corretto/bin/jimage to provide /usr/bin/jimage (jimage) in auto mode\n",
            "update-alternatives: using /usr/lib/jvm/java-11-amazon-corretto/bin/jinfo to provide /usr/bin/jinfo (jinfo) in auto mode\n",
            "update-alternatives: using /usr/lib/jvm/java-11-amazon-corretto/bin/jmap to provide /usr/bin/jmap (jmap) in auto mode\n",
            "update-alternatives: using /usr/lib/jvm/java-11-amazon-corretto/bin/jps to provide /usr/bin/jps (jps) in auto mode\n",
            "update-alternatives: using /usr/lib/jvm/java-11-amazon-corretto/bin/jrunscript to provide /usr/bin/jrunscript (jrunscript) in auto mode\n",
            "update-alternatives: using /usr/lib/jvm/java-11-amazon-corretto/bin/jshell to provide /usr/bin/jshell (jshell) in auto mode\n",
            "update-alternatives: using /usr/lib/jvm/java-11-amazon-corretto/bin/jstack to provide /usr/bin/jstack (jstack) in auto mode\n",
            "update-alternatives: using /usr/lib/jvm/java-11-amazon-corretto/bin/jstat to provide /usr/bin/jstat (jstat) in auto mode\n",
            "update-alternatives: using /usr/lib/jvm/java-11-amazon-corretto/bin/jstatd to provide /usr/bin/jstatd (jstatd) in auto mode\n",
            "update-alternatives: using /usr/lib/jvm/java-11-amazon-corretto/bin/rmic to provide /usr/bin/rmic (rmic) in auto mode\n",
            "update-alternatives: using /usr/lib/jvm/java-11-amazon-corretto/bin/serialver to provide /usr/bin/serialver (serialver) in auto mode\n",
            "--2024-04-14 19:31:28--  https://downloads.apache.org/kafka/3.7.0/kafka_2.13-3.7.0.tgz\n",
            "Resolving downloads.apache.org (downloads.apache.org)... 88.99.208.237, 135.181.214.104, 2a01:4f9:3a:2c57::2, ...\n",
            "Connecting to downloads.apache.org (downloads.apache.org)|88.99.208.237|:443... connected.\n",
            "HTTP request sent, awaiting response... 200 OK\n",
            "Length: 119028138 (114M) [application/x-gzip]\n",
            "Saving to: ‘kafka_2.13-3.7.0.tgz’\n",
            "\n",
            "kafka_2.13-3.7.0.tg 100%[===================>] 113.51M  25.0MB/s    in 5.3s    \n",
            "\n",
            "2024-04-14 19:31:34 (21.6 MB/s) - ‘kafka_2.13-3.7.0.tgz’ saved [119028138/119028138]\n",
            "\n",
            "#!/usr/bin/bash\n",
            "export KAFKA_BINARY_VERSION='3.7.0'\n",
            "export SCALA_BINARY_VERSION='2.13'\n",
            "export KAFKA_BINARY_VERSION=$KAFKA_BINARY_VERSION\n",
            "export SCALA_BINARY_VERSION=$SCALA_BINARY_VERSION\n",
            "export PATH=$PATH:$PWD/kafka_$SCALA_BINARY_VERSION-$KAFKA_BINARY_VERSION/bin\n",
            "export UUID=t3upCCR5R1S0JDG0ljYsoA\n",
            "kafka_2.13-3.7.0\n",
            "metaPropertiesEnsemble=MetaPropertiesEnsemble(metadataLogDir=Optional.empty, dirs={/tmp/kraft-combined-logs: EMPTY})\n",
            "Formatting /tmp/kraft-combined-logs with metadata.version 3.7-IV4.\n",
            "nohup: redirecting stderr to stdout\n",
            "\tzookeeper.ssl.protocol = TLSv1.2\n",
            "\tzookeeper.ssl.truststore.location = null\n",
            "\tzookeeper.ssl.truststore.password = null\n",
            "\tzookeeper.ssl.truststore.type = null\n",
            " (kafka.server.KafkaConfig)\n",
            "[2024-04-14 19:31:43,943] INFO [BrokerServer id=1] Waiting for the broker to be unfenced (kafka.server.BrokerServer)\n",
            "[2024-04-14 19:31:43,971] INFO [BrokerLifecycleManager id=1] The broker has been unfenced. Transitioning from RECOVERY to RUNNING. (kafka.server.BrokerLifecycleManager)\n",
            "[2024-04-14 19:31:43,972] INFO [BrokerServer id=1] Finished waiting for the broker to be unfenced (kafka.server.BrokerServer)\n",
            "[2024-04-14 19:31:43,972] INFO authorizerStart completed for endpoint PLAINTEXT. Endpoint is now READY. (org.apache.kafka.server.network.EndpointReadyFutures)\n",
            "[2024-04-14 19:31:43,972] INFO [SocketServer listenerType=BROKER, nodeId=1] Enabling request processing. (kafka.network.SocketServer)\n",
            "[2024-04-14 19:31:43,972] INFO Awaiting socket connections on 0.0.0.0:9092. (kafka.network.DataPlaneAcceptor)\n",
            "[2024-04-14 19:31:43,986] INFO [BrokerServer id=1] Waiting for all of the authorizer futures to be completed (kafka.server.BrokerServer)\n",
            "[2024-04-14 19:31:43,986] INFO [BrokerServer id=1] Finished waiting for all of the authorizer futures to be completed (kafka.server.BrokerServer)\n",
            "[2024-04-14 19:31:43,986] INFO [BrokerServer id=1] Waiting for all of the SocketServer Acceptors to be started (kafka.server.BrokerServer)\n",
            "[2024-04-14 19:31:43,986] INFO [BrokerServer id=1] Finished waiting for all of the SocketServer Acceptors to be started (kafka.server.BrokerServer)\n",
            "[2024-04-14 19:31:43,986] INFO [BrokerServer id=1] Transition from STARTING to STARTED (kafka.server.BrokerServer)\n",
            "[2024-04-14 19:31:43,987] INFO Kafka version: 3.7.0 (org.apache.kafka.common.utils.AppInfoParser)\n",
            "[2024-04-14 19:31:43,987] INFO Kafka commitId: 2ae524ed625438c5 (org.apache.kafka.common.utils.AppInfoParser)\n",
            "[2024-04-14 19:31:43,987] INFO Kafka startTimeMs: 1713123103987 (org.apache.kafka.common.utils.AppInfoParser)\n",
            "[2024-04-14 19:31:43,988] INFO [KafkaRaftServer nodeId=1] Kafka Server started (kafka.server.KafkaRaftServer)\n"
          ]
        },
        {
          "data": {
            "text/plain": []
          },
          "execution_count": 5,
          "metadata": {},
          "output_type": "execute_result"
        }
      ],
      "source": [
        "%%shell\n",
        "source kafka_setup.sh\n",
        "sleep 10\n",
        "tail -20 kafka_server.log"
      ]
    },
    {
      "cell_type": "code",
      "execution_count": 6,
      "metadata": {
        "colab": {
          "base_uri": "https://localhost:8080/"
        },
        "id": "9HfYKVWal8zM",
        "outputId": "4d86284d-1f1b-4a01-df91-c2908ae7c190"
      },
      "outputs": [
        {
          "name": "stdout",
          "output_type": "stream",
          "text": [
            "Created topic spotifywrapped.\n"
          ]
        },
        {
          "data": {
            "text/plain": []
          },
          "execution_count": 6,
          "metadata": {},
          "output_type": "execute_result"
        }
      ],
      "source": [
        "%%shell\n",
        "source ./environment.sh\n",
        "kafka-topics.sh --bootstrap-server 127.0.0.1:9092 --topic spotifywrapped --create --partitions 6 --replication-factor 1"
      ]
    },
    {
      "cell_type": "code",
      "execution_count": 7,
      "metadata": {
        "colab": {
          "base_uri": "https://localhost:8080/"
        },
        "id": "JqxTBRefmEW8",
        "outputId": "b75dbf84-decb-42cf-f1a0-f1c50f634bad"
      },
      "outputs": [
        {
          "name": "stdout",
          "output_type": "stream",
          "text": [
            "Writing check_kafka_consumers.sh\n"
          ]
        }
      ],
      "source": [
        "%%writefile check_kafka_consumers.sh\n",
        "#!/usr/bin/env bash\n",
        "source ./environment.sh\n",
        "\n",
        "echo \"Active Consumer Groups\"\n",
        "while true\n",
        "do\n",
        "date\n",
        "kafka-consumer-groups.sh --bootstrap-server 127.0.0.1:9092 --describe --all-groups\n",
        "sleep 1\n",
        "done"
      ]
    },
    {
      "cell_type": "code",
      "execution_count": 8,
      "metadata": {
        "colab": {
          "base_uri": "https://localhost:8080/"
        },
        "id": "6iDSJe-SmFHf",
        "outputId": "096a2575-8923-42ff-a2b0-8383175e9c53"
      },
      "outputs": [
        {
          "name": "stdout",
          "output_type": "stream",
          "text": [
            "nohup: redirecting stderr to stdout\n"
          ]
        },
        {
          "data": {
            "text/plain": []
          },
          "execution_count": 8,
          "metadata": {},
          "output_type": "execute_result"
        }
      ],
      "source": [
        "%%shell\n",
        "chmod +x ./check_kafka_consumers.sh\n",
        "nohup ./check_kafka_consumers.sh > kafka_consumers.log &"
      ]
    },
    {
      "cell_type": "code",
      "execution_count": 9,
      "metadata": {
        "colab": {
          "base_uri": "https://localhost:8080/"
        },
        "id": "YmeWMLvEutwV",
        "outputId": "6be87921-9598-445e-df23-6eaeb12bd089"
      },
      "outputs": [
        {
          "name": "stdout",
          "output_type": "stream",
          "text": [
            "Mounted at /content/drive\n"
          ]
        }
      ],
      "source": [
        "drive.mount('/content/drive')"
      ]
    },
    {
      "cell_type": "markdown",
      "metadata": {
        "id": "odXYyoW4mRwy"
      },
      "source": [
        "### Kafka Producer of Spotify Wrapped AVRO Records"
      ]
    },
    {
      "cell_type": "code",
      "execution_count": 10,
      "metadata": {
        "colab": {
          "base_uri": "https://localhost:8080/"
        },
        "id": "bWE8GMA9mWwF",
        "outputId": "82bf9e09-849c-420a-cee0-81b3099fbd9a"
      },
      "outputs": [
        {
          "name": "stdout",
          "output_type": "stream",
          "text": [
            "Writing avro_producer.py\n"
          ]
        }
      ],
      "source": [
        "%%writefile avro_producer.py\n",
        "#!/usr/bin/python\n",
        "# Import the required modules\n",
        "from kafka import KafkaProducer\n",
        "import fastavro\n",
        "import io\n",
        "import pandas as pd\n",
        "import uuid\n",
        "import datetime\n",
        "import random, os\n",
        "from faker import Faker\n",
        "import numpy as np\n",
        "import pycountry_convert as pc\n",
        "import datetime\n",
        "from collections import defaultdict\n",
        "\n",
        "schema = {\n",
        "  \"doc\": \"Spotify Wrapped 2024\",\n",
        "  \"name\": \"SpotifyData\",\n",
        "  \"namespace\": \"com.spotify.wrapped\",\n",
        "  \"type\": \"record\",\n",
        "  \"fields\": [\n",
        "    {\"name\": \"userId\", \"type\": \"string\"},\n",
        "    {\"name\": \"songId\", \"type\": \"int\"},\n",
        "    {\"name\": \"songName\", \"type\": \"string\"},\n",
        "    {\"name\": \"genre\", \"type\": \"string\"},\n",
        "    {\"name\": \"originalDuration\", \"type\": \"int\"},\n",
        "    {\"name\": \"releaseDate\", \"type\": \"int\"},\n",
        "    {\"name\": \"popularity\", \"type\": \"int\"},\n",
        "    {\"name\": \"artist\", \"type\": \"string\"},\n",
        "    {\"name\": \"artistID\", \"type\": \"int\"},\n",
        "    {\"name\": \"interactionTimestamp\", \"type\": \"string\"},\n",
        "    {\"name\": \"location\", \"type\": \"string\"},\n",
        "    {\"name\": \"continent\", \"type\": \"string\"},\n",
        "    {\n",
        "      \"name\": \"interactionType\",\n",
        "      \"type\": {\n",
        "        \"type\": \"enum\",\n",
        "        \"name\": \"InteractionType\",\n",
        "        \"symbols\": [\"play\", \"leave_app\"]\n",
        "      }\n",
        "    },\n",
        "    {\"name\": \"listeningPersonality\", \"type\": \"string\"},\n",
        "    {\n",
        "      \"name\": \"subscriptionType\",\n",
        "      \"type\": {\n",
        "        \"type\": \"enum\",\n",
        "        \"name\": \"SubscriptionType\",\n",
        "        \"symbols\": [\"Free\", \"Premium\", \"Family\"]\n",
        "      }\n",
        "    }\n",
        "  ]\n",
        "}\n",
        "\n",
        "\n",
        "# Parse the updated schema\n",
        "from fastavro import parse_schema\n",
        "parsed_updated_schema = parse_schema(schema)\n",
        "\n",
        "\n",
        "commonality = pd.read_csv(\"/content/drive/MyDrive/data/commonality.csv\")\n",
        "exploration = pd.read_csv(\"/content/drive/MyDrive/data/exploration.csv\")\n",
        "familiarity = pd.read_csv(\"/content/drive/MyDrive/data/familiarity.csv\")\n",
        "loyalty = pd.read_csv(\"/content/drive/MyDrive/data/loyalty.csv\")\n",
        "newness = pd.read_csv(\"/content/drive/MyDrive/data/newness.csv\")\n",
        "timelessness = pd.read_csv(\"/content/drive/MyDrive/data/timelessness.csv\")\n",
        "uniqueness = pd.read_csv(\"/content/drive/MyDrive/data/uniqueness.csv\")\n",
        "variety = pd.read_csv(\"/content/drive/MyDrive/data/variety.csv\")\n",
        "\n",
        "\n",
        "personality_datasets = {\n",
        "    'fe': [('F', familiarity), ('E', exploration)],\n",
        "    'tn': [('T', timelessness), ('N', newness)],\n",
        "    'lv': [('L', loyalty), ('V', variety)],\n",
        "    'cu': [('C', commonality), ('U', uniqueness)]\n",
        "}\n",
        "\n",
        "listening_personalities = {\n",
        "    'ENVC': 'The Early Adopter',\n",
        "    'ENLU': 'The Nomad',\n",
        "    'FNVU': 'The Specialist',\n",
        "    'FNLC': 'The Enthusiast',\n",
        "    'FTLC': 'The Connoisseur',\n",
        "    'FTVU': 'The Deep Diver',\n",
        "    'FNVC': 'The Fanclubber',\n",
        "    'ETLC': 'The Top Charter',\n",
        "    'FTLU': 'The Replayer',\n",
        "    'FTVC': 'The Jukeboxer',\n",
        "    'ENLC': 'The Voyager',\n",
        "    'FNLU': 'The Devotee',\n",
        "    'ETLU': 'The Maverick',\n",
        "    'ETVU': 'The Time Traveler',\n",
        "    'ETVC': 'The Musicologist',\n",
        "    'ENVU': 'The Adventurer',\n",
        "}\n",
        "\n",
        "\n",
        "def get_continent_by_country(country_name):\n",
        "    try:\n",
        "        country_code = pc.country_name_to_country_alpha2(country_name)\n",
        "        continent_code = pc.country_alpha2_to_continent_code(country_code)\n",
        "        continent_name = pc.convert_continent_code_to_continent_name(continent_code)\n",
        "        return continent_name\n",
        "    except:\n",
        "        return \"Unknown\"  # Returns \"Unknown\" if country name is not found or conversion fails\n",
        "\n",
        "def get_recognized_country(fake):\n",
        "    while True:\n",
        "        country_name = fake.country()\n",
        "        try:\n",
        "            # Attempt to convert the country name to a continent\n",
        "            pc.country_name_to_country_alpha2(country_name)\n",
        "            continent_name = get_continent_by_country(country_name)\n",
        "            if continent_name != \"Unknown\":\n",
        "              return country_name  # Return the name if conversion is successful\n",
        "        except:\n",
        "            pass  # If conversion fails, retry with another country\n",
        "\n",
        "\n",
        "def generate_user_data(userid, start_time, end_time, personality_datasets, listening_personalities, subscription_types):\n",
        "    fake = Faker()\n",
        "    lam = 3  # lambda for exponential distribution, implying a song approximately every three minutes\n",
        "    current_time = start_time\n",
        "    records = []\n",
        "\n",
        "    location = get_recognized_country(fake)  # Use the new function to get a recognized country\n",
        "    continent = get_continent_by_country(location)  # Automatically determine continent based on location\n",
        "    subscription_type = fake.random_element(elements=tuple(subscription_types))\n",
        "\n",
        "    selected_datasets = {}\n",
        "    selected_identifiers = []\n",
        "    personality_key = ''\n",
        "\n",
        "    personality_datasetsv2=personality_datasets\n",
        "\n",
        "    # Select datasets and their identifiers\n",
        "    for personality, datasets in personality_datasetsv2.items():\n",
        "      selected = random.choice(datasets)\n",
        "      identifier, dataset = selected\n",
        "      selected_datasets[personality] = dataset\n",
        "      selected_identifiers.append(identifier)\n",
        "      personality_key += identifier\n",
        "    listening_personality = listening_personalities.get(personality_key, '')\n",
        "    combined_dataset = pd.concat([df for df in selected_datasets.values()])\n",
        "\n",
        "    combined_dataset.iloc[:, [0, 2, 5, 6, 7]] = combined_dataset.iloc[:, [0, 2, 5, 6, 7]].replace({',': ''}, regex=True).astype(int)\n",
        "    combined_dataset.iloc[:, [1, 3, 4]] = combined_dataset.iloc[:, [1, 3, 4]].astype(str)\n",
        "\n",
        "    # Generate and collect records\n",
        "    while current_time <= end_time:\n",
        "        random_number = random.randint(0, combined_dataset.shape[0] - 1)\n",
        "        interaction_type = \"play\" if current_time < end_time else \"leave_app\"\n",
        "        record = {\n",
        "            \"userId\": userid,\n",
        "            \"songId\": combined_dataset.iloc[random_number, 0],\n",
        "            \"songName\": combined_dataset.iloc[random_number, 1],\n",
        "            \"genre\": combined_dataset.iloc[random_number, 4],\n",
        "            \"originalDuration\": combined_dataset.iloc[random_number, 6],\n",
        "            \"releaseDate\": combined_dataset.iloc[random_number, 5],\n",
        "            \"popularity\": combined_dataset.iloc[random_number, 7],\n",
        "            \"artist\": combined_dataset.iloc[random_number, 3],\n",
        "            \"artistID\": combined_dataset.iloc[random_number, 2],\n",
        "            \"interactionTimestamp\": current_time.strftime('%Y-%m-%d %H:%M:%S'),\n",
        "            \"location\": location,\n",
        "            \"continent\": continent,\n",
        "            \"interactionType\": interaction_type,\n",
        "            \"listeningPersonality\": listening_personality,\n",
        "            \"subscriptionType\": subscription_type\n",
        "        }\n",
        "        records.append(record)\n",
        "\n",
        "        # Update time for next record\n",
        "        if interaction_type == \"play\":\n",
        "            inter_arrival_time = np.random.exponential(scale=lam)\n",
        "            current_time += datetime.timedelta(minutes=inter_arrival_time)\n",
        "            if current_time >= end_time:\n",
        "                # Ensure the last interaction is 'leave_app'\n",
        "                record[\"interactionType\"] = \"leave_app\"\n",
        "                break\n",
        "\n",
        "    return records\n",
        "\n",
        "\n",
        "def generate_multiple_user_data(start_day, end_day, personality_datasets, listening_personalities, subscription_types, partitions, producer, topic_name):\n",
        "    lam_arrival = 1/0.05  # rate = 0.05 every minute\n",
        "    current_time = start_day\n",
        "    all_user_records = []\n",
        "    lam_service_duration = 20  # average session duration of 20 minutes\n",
        "\n",
        "    while current_time < end_day:\n",
        "        # Generate inter-arrival time for new user sessions\n",
        "        inter_arrival_time_user = np.random.exponential(scale=lam_arrival)\n",
        "        user_start_time = current_time + datetime.timedelta(minutes=inter_arrival_time_user)\n",
        "        current_time = user_start_time\n",
        "\n",
        "        # Simulate each user's session length (e.g., between 30 and 120 minutes)\n",
        "        session_length = datetime.timedelta(minutes=max(np.random.exponential(scale=lam_service_duration), 5))\n",
        "        user_end_time = user_start_time + session_length\n",
        "\n",
        "        # Adjust the end time if it exceeds the simulation period\n",
        "        if user_end_time > end_day:\n",
        "            user_end_time = end_day\n",
        "\n",
        "        # Generate a unique user_id for each session\n",
        "        user_personality_df = pd.read_csv(\"/content/drive/MyDrive/data/user_personality_df.csv\")\n",
        "        user_id = random.choice(user_personality_df['user_id'].tolist())\n",
        "\n",
        "        # Generate data for an individual user session\n",
        "        user_data = generate_user_data(user_id, user_start_time, user_end_time, personality_datasets, listening_personalities, subscription_types)\n",
        "        all_user_records.extend(user_data)\n",
        "        for record in user_data:\n",
        "          continent=record[\"continent\"]\n",
        "          producer.send(\n",
        "            topic_name,\n",
        "            value=record,\n",
        "            partition=partitions[continent])\n",
        "\n",
        "    return all_user_records\n",
        "\n",
        "# Create a Kafka producer with value serializer\n",
        "def serialize(user_data):\n",
        "  print(\"Serialize:\" + str(user_data))\n",
        "  schemaless_bytes_writer = io.BytesIO()\n",
        "  fastavro.schemaless_writer(schemaless_bytes_writer, schema, user_data)\n",
        "  return schemaless_bytes_writer.getvalue()\n",
        "\n",
        "producer = KafkaProducer(\n",
        "    bootstrap_servers=['127.0.0.1:9092'],\n",
        "    value_serializer=serialize\n",
        ")\n",
        "\n",
        "\n",
        "# topic name is a command line argument, if not present it defaults to spotifywrapped\n",
        "import sys\n",
        "topic_name_default=\"spotifywrapped\"\n",
        "if len(sys.argv) > 1:\n",
        "  topic_name = sys.argv[1]\n",
        "else:\n",
        "  topic_name = topic_name_default\n",
        "\n",
        "subscription_types = [\"Free\", \"Premium\", \"Family\"]  # Example subscription types\n",
        "records=defaultdict(list)\n",
        "\n",
        "records[\"Asia\"]\n",
        "records[\"Europe\"]\n",
        "records[\"Africa\"]\n",
        "records[\"North America\"]\n",
        "records[\"Oceania\"]\n",
        "records[\"South America\"]\n",
        "records[\"Antarctica\"]\n",
        "partitions={ continent: partition_id for partition_id, continent in enumerate(records.keys()) }\n",
        "partitions[\"Antarctica\"]=4\n",
        "\n",
        "start_day = datetime.datetime.now()\n",
        "end_day = start_day + datetime.timedelta(hours=8640)\n",
        "all_data = generate_multiple_user_data(start_day, end_day, personality_datasets, listening_personalities, subscription_types, partitions, producer, topic_name)\n",
        "\n",
        "producer.flush()"
      ]
    },
    {
      "cell_type": "code",
      "execution_count": 11,
      "metadata": {
        "colab": {
          "base_uri": "https://localhost:8080/"
        },
        "id": "GzJ4bLK_ojbb",
        "outputId": "9d8720d2-782f-4fb0-fa58-341b8ee574ee"
      },
      "outputs": [
        {
          "name": "stdout",
          "output_type": "stream",
          "text": [
            "nohup: redirecting stderr to stdout\n"
          ]
        }
      ],
      "source": [
        "!nohup python avro_producer.py > avro_producer.log &"
      ]
    },
    {
      "cell_type": "code",
      "execution_count": 12,
      "metadata": {
        "colab": {
          "base_uri": "https://localhost:8080/"
        },
        "id": "I_YA0T2sol89",
        "outputId": "1f446d68-08b9-452f-a686-783fe9352be5"
      },
      "outputs": [
        {
          "name": "stdout",
          "output_type": "stream",
          "text": [
            "Serialize:{'userId': '395fd8a4-e7e8-45ad-936c-f2363b0559fe', 'songId': 1842, 'songName': 'Folsom Prison Blues', 'genre': 'arkansas country', 'originalDuration': 156, 'releaseDate': 1964, 'popularity': 58, 'artist': 'Johnny Cash', 'artistID': 1053, 'interactionTimestamp': '2024-04-15 05:25:50', 'location': 'Cyprus', 'continent': 'Asia', 'interactionType': 'play', 'listeningPersonality': 'The Fanclubber', 'subscriptionType': 'Premium'}\n",
            "Serialize:{'userId': '395fd8a4-e7e8-45ad-936c-f2363b0559fe', 'songId': 34, 'songName': \"Don't Know Why\", 'genre': 'adult standards', 'originalDuration': 186, 'releaseDate': 2002, 'popularity': 74, 'artist': 'Norah Jones', 'artistID': 1000, 'interactionTimestamp': '2024-04-15 05:27:17', 'location': 'Cyprus', 'continent': 'Asia', 'interactionType': 'play', 'listeningPersonality': 'The Fanclubber', 'subscriptionType': 'Premium'}\n",
            "Serialize:{'userId': '395fd8a4-e7e8-45ad-936c-f2363b0559fe', 'songId': 279, 'songName': 'Munich', 'genre': 'alternative dance', 'originalDuration': 226, 'releaseDate': 2005, 'popularity': 61, 'artist': 'Editors', 'artistID': 1024, 'interactionTimestamp': '2024-04-15 05:30:30', 'location': 'Cyprus', 'continent': 'Asia', 'interactionType': 'leave_app', 'listeningPersonality': 'The Fanclubber', 'subscriptionType': 'Premium'}\n",
            "Serialize:{'userId': '0598fcfe-945c-4689-a062-9905f51f6a8f', 'songId': 287, 'songName': 'Go Like Elijah', 'genre': 'alternative pop rock', 'originalDuration': 242, 'releaseDate': 2009, 'popularity': 40, 'artist': 'Chi Coltrane', 'artistID': 1179, 'interactionTimestamp': '2024-04-15 06:30:01', 'location': 'Northern Mariana Islands', 'continent': 'Oceania', 'interactionType': 'play', 'listeningPersonality': 'The Musicologist', 'subscriptionType': 'Free'}\n",
            "Serialize:{'userId': '0598fcfe-945c-4689-a062-9905f51f6a8f', 'songId': 828, 'songName': 'Fire and Rain', 'genre': 'adult standards', 'originalDuration': 201, 'releaseDate': 1970, 'popularity': 73, 'artist': 'James Taylor', 'artistID': 1405, 'interactionTimestamp': '2024-04-15 06:34:59', 'location': 'Northern Mariana Islands', 'continent': 'Oceania', 'interactionType': 'play', 'listeningPersonality': 'The Musicologist', 'subscriptionType': 'Free'}\n",
            "Serialize:{'userId': '0598fcfe-945c-4689-a062-9905f51f6a8f', 'songId': 816, 'songName': 'Almost Cut My Hair', 'genre': 'album rock', 'originalDuration': 269, 'releaseDate': 1970, 'popularity': 62, 'artist': 'Crosby, Stills, Nash & Young', 'artistID': 1400, 'interactionTimestamp': '2024-04-15 06:36:41', 'location': 'Northern Mariana Islands', 'continent': 'Oceania', 'interactionType': 'play', 'listeningPersonality': 'The Musicologist', 'subscriptionType': 'Free'}\n",
            "Serialize:{'userId': '0598fcfe-945c-4689-a062-9905f51f6a8f', 'songId': 1420, 'songName': 'Luka', 'genre': 'folk', 'originalDuration': 232, 'releaseDate': 1987, 'popularity': 45, 'artist': 'Suzanne Vega', 'artistID': 1583, 'interactionTimestamp': '2024-04-15 06:37:57', 'location': 'Northern Mariana Islands', 'continent': 'Oceania', 'interactionType': 'play', 'listeningPersonality': 'The Musicologist', 'subscriptionType': 'Free'}\n",
            "Serialize:{'userId': '0598fcfe-945c-4689-a062-9905f51f6a8f', 'songId': 604, 'songName': 'Let It Go', 'genre': 'neo mellow', 'originalDuration': 261, 'releaseDate': 2014, 'popularity': 74, 'artist': 'James Bay', 'artistID': 1315, 'interactionTimestamp': '2024-04-15 06:39:13', 'location': 'Northern Mariana Islands', 'continent': 'Oceania', 'interactionType': 'play', 'listeningPersonality': 'The Musicologist', 'subscriptionType': 'Free'}\n",
            "Serialize:{'userId': '0598fcfe-945c-4689-a062-9905f51f6a8f', 'songId': 1661, 'songName': 'Street Spirit (Fade Out)', 'genre': 'alternative rock', 'originalDuration': 254, 'releaseDate': 1995, 'popularity': 62, 'artist': 'Radiohead', 'artistID': 1632, 'interactionTimestamp': '2024-04-15 06:40:38', 'location': 'Northern Mariana Islands', 'continent': 'Oceania', 'interactionType': 'play', 'listeningPersonality': 'The Musicologist', 'subscriptionType': 'Free'}\n",
            "Serialize:{'userId': '0598fcfe-945c-4689-a062-9905f51f6a8f', 'songId': 1986, 'songName': 'Blue Suede Shoes', 'genre': 'adult standards', 'originalDuration': 119, 'releaseDate': 1956, 'popularity': 62, 'artist': 'Elvis Presley', 'artistID': 1010, 'interactionTimestamp': '2024-04-15 06:43:03', 'location': 'Northern Mariana Islands', 'continent': 'Oceania', 'interactionType': 'play', 'listeningPersonality': 'The Musicologist', 'subscriptionType': 'Free'}\n",
            "Serialize:{'userId': '0598fcfe-945c-4689-a062-9905f51f6a8f', 'songId': 234, 'songName': 'I Would Stay', 'genre': 'dutch indie', 'originalDuration': 232, 'releaseDate': 2000, 'popularity': 55, 'artist': 'Krezip', 'artistID': 1126, 'interactionTimestamp': '2024-04-15 06:46:11', 'location': 'Northern Mariana Islands', 'continent': 'Oceania', 'interactionType': 'play', 'listeningPersonality': 'The Musicologist', 'subscriptionType': 'Free'}\n",
            "Serialize:{'userId': '0598fcfe-945c-4689-a062-9905f51f6a8f', 'songId': 1421, 'songName': 'Seven Wonders - 2017 Remaster', 'genre': 'album rock', 'originalDuration': 222, 'releaseDate': 1987, 'popularity': 63, 'artist': 'Fleetwood Mac', 'artistID': 1458, 'interactionTimestamp': '2024-04-15 06:48:19', 'location': 'Northern Mariana Islands', 'continent': 'Oceania', 'interactionType': 'play', 'listeningPersonality': 'The Musicologist', 'subscriptionType': 'Free'}\n",
            "Serialize:{'userId': '0598fcfe-945c-4689-a062-9905f51f6a8f', 'songId': 1752, 'songName': \"The Drugs Don't Work\", 'genre': 'alternative rock', 'originalDuration': 305, 'releaseDate': 1997, 'popularity': 64, 'artist': 'The Verve', 'artistID': 1669, 'interactionTimestamp': '2024-04-15 06:49:53', 'location': 'Northern Mariana Islands', 'continent': 'Oceania', 'interactionType': 'play', 'listeningPersonality': 'The Musicologist', 'subscriptionType': 'Free'}\n",
            "Serialize:{'userId': '0598fcfe-945c-4689-a062-9905f51f6a8f', 'songId': 303, 'songName': \"Rockin' All Over The World\", 'genre': 'album rock', 'originalDuration': 217, 'releaseDate': 2005, 'popularity': 47, 'artist': 'Status Quo', 'artistID': 1059, 'interactionTimestamp': '2024-04-15 06:52:52', 'location': 'Northern Mariana Islands', 'continent': 'Oceania', 'interactionType': 'leave_app', 'listeningPersonality': 'The Musicologist', 'subscriptionType': 'Free'}\n",
            "Serialize:{'userId': 'f9783d83-9e4e-4155-91ef-7cc0b96463bd', 'songId': 735, 'songName': 'Zij Gelooft In Mij', 'genre': 'dutch pop', 'originalDuration': 240, 'releaseDate': 2018, 'popularity': 30, 'artist': 'Andre Hazes', 'artistID': 1090, 'interactionTimestamp': '2024-04-15 07:08:45', 'location': \"Lao People's Democratic Republic\", 'continent': 'Asia', 'interactionType': 'play', 'listeningPersonality': 'The Musicologist', 'subscriptionType': 'Family'}\n",
            "Serialize:{'userId': 'f9783d83-9e4e-4155-91ef-7cc0b96463bd', 'songId': 210, 'songName': 'Society', 'genre': 'permanent wave', 'originalDuration': 236, 'releaseDate': 2007, 'popularity': 67, 'artist': 'Eddie Vedder', 'artistID': 1145, 'interactionTimestamp': '2024-04-15 07:10:49', 'location': \"Lao People's Democratic Republic\", 'continent': 'Asia', 'interactionType': 'play', 'listeningPersonality': 'The Musicologist', 'subscriptionType': 'Family'}\n",
            "Serialize:{'userId': 'f9783d83-9e4e-4155-91ef-7cc0b96463bd', 'songId': 1350, 'songName': 'Sometimes It Snows in April', 'genre': 'funk', 'originalDuration': 409, 'releaseDate': 1986, 'popularity': 53, 'artist': 'Prince', 'artistID': 1527, 'interactionTimestamp': '2024-04-15 07:15:20', 'location': \"Lao People's Democratic Republic\", 'continent': 'Asia', 'interactionType': 'play', 'listeningPersonality': 'The Musicologist', 'subscriptionType': 'Family'}\n",
            "Serialize:{'userId': 'f9783d83-9e4e-4155-91ef-7cc0b96463bd', 'songId': 116, 'songName': \"Europa (Earth's Cry Heaven's Smile)\", 'genre': 'blues rock', 'originalDuration': 306, 'releaseDate': 2007, 'popularity': 59, 'artist': 'Santana', 'artistID': 1091, 'interactionTimestamp': '2024-04-15 07:15:47', 'location': \"Lao People's Democratic Republic\", 'continent': 'Asia', 'interactionType': 'play', 'listeningPersonality': 'The Musicologist', 'subscriptionType': 'Family'}\n",
            "Serialize:{'userId': 'f9783d83-9e4e-4155-91ef-7cc0b96463bd', 'songId': 109, 'songName': 'All Summer Long', 'genre': 'alternative metal', 'originalDuration': 298, 'releaseDate': 2007, 'popularity': 72, 'artist': 'Kid Rock', 'artistID': 1085, 'interactionTimestamp': '2024-04-15 07:16:46', 'location': \"Lao People's Democratic Republic\", 'continent': 'Asia', 'interactionType': 'leave_app', 'listeningPersonality': 'The Musicologist', 'subscriptionType': 'Family'}\n",
            "Serialize:{'userId': '9d36c9b3-16b5-4f17-b0f7-68e3cf4b65d5', 'songId': 928, 'songName': \"Knockin' On Heaven's Door - Remastered\", 'genre': 'album rock', 'originalDuration': 150, 'releaseDate': 1973, 'popularity': 74, 'artist': 'Bob Dylan', 'artistID': 1440, 'interactionTimestamp': '2024-04-15 07:33:29', 'location': 'Azerbaijan', 'continent': 'Asia', 'interactionType': 'play', 'listeningPersonality': 'The Replayer', 'subscriptionType': 'Premium'}\n",
            "Serialize:{'userId': '9d36c9b3-16b5-4f17-b0f7-68e3cf4b65d5', 'songId': 1954, 'songName': 'Fortunate Son', 'genre': 'album rock', 'originalDuration': 141, 'releaseDate': 1969, 'popularity': 80, 'artist': 'Creedence Clearwater Revival', 'artistID': 1396, 'interactionTimestamp': '2024-04-15 07:34:09', 'location': 'Azerbaijan', 'continent': 'Asia', 'interactionType': 'play', 'listeningPersonality': 'The Replayer', 'subscriptionType': 'Premium'}\n",
            "Serialize:{'userId': '9d36c9b3-16b5-4f17-b0f7-68e3cf4b65d5', 'songId': 1065, 'songName': 'Cocaine', 'genre': 'album rock', 'originalDuration': 222, 'releaseDate': 1977, 'popularity': 68, 'artist': 'Eric Clapton', 'artistID': 1329, 'interactionTimestamp': '2024-04-15 07:37:45', 'location': 'Azerbaijan', 'continent': 'Asia', 'interactionType': 'play', 'listeningPersonality': 'The Replayer', 'subscriptionType': 'Premium'}\n",
            "Serialize:{'userId': '9d36c9b3-16b5-4f17-b0f7-68e3cf4b65d5', 'songId': 1875, 'songName': 'I Want You', 'genre': 'album rock', 'originalDuration': 185, 'releaseDate': 1966, 'popularity': 58, 'artist': 'Bob Dylan', 'artistID': 1440, 'interactionTimestamp': '2024-04-15 07:39:45', 'location': 'Azerbaijan', 'continent': 'Asia', 'interactionType': 'play', 'listeningPersonality': 'The Replayer', 'subscriptionType': 'Premium'}\n",
            "Serialize:{'userId': '9d36c9b3-16b5-4f17-b0f7-68e3cf4b65d5', 'songId': 1956, 'songName': 'Bad Moon Rising', 'genre': 'album rock', 'originalDuration': 142, 'releaseDate': 1969, 'popularity': 77, 'artist': 'Creedence Clearwater Revival', 'artistID': 1396, 'interactionTimestamp': '2024-04-15 07:42:21', 'location': 'Azerbaijan', 'continent': 'Asia', 'interactionType': 'play', 'listeningPersonality': 'The Replayer', 'subscriptionType': 'Premium'}\n",
            "Serialize:{'userId': '9d36c9b3-16b5-4f17-b0f7-68e3cf4b65d5', 'songId': 1806, 'songName': 'Otherside', 'genre': 'alternative rock', 'originalDuration': 255, 'releaseDate': 1999, 'popularity': 78, 'artist': 'Red Hot Chili Peppers', 'artistID': 1148, 'interactionTimestamp': '2024-04-15 07:47:19', 'location': 'Azerbaijan', 'continent': 'Asia', 'interactionType': 'play', 'listeningPersonality': 'The Replayer', 'subscriptionType': 'Premium'}\n",
            "Serialize:{'userId': '9d36c9b3-16b5-4f17-b0f7-68e3cf4b65d5', 'songId': 1541, 'songName': 'Year of the Cat - 2001 Remaster', 'genre': 'album rock', 'originalDuration': 401, 'releaseDate': 1991, 'popularity': 61, 'artist': 'Al Stewart', 'artistID': 1612, 'interactionTimestamp': '2024-04-15 07:50:53', 'location': 'Azerbaijan', 'continent': 'Asia', 'interactionType': 'play', 'listeningPersonality': 'The Replayer', 'subscriptionType': 'Premium'}\n",
            "Serialize:{'userId': '9d36c9b3-16b5-4f17-b0f7-68e3cf4b65d5', 'songId': 919, 'songName': 'Always On My Mind', 'genre': 'adult standards', 'originalDuration': 218, 'releaseDate': 1973, 'popularity': 61, 'artist': 'Elvis Presley', 'artistID': 1010, 'interactionTimestamp': '2024-04-15 07:54:58', 'location': 'Azerbaijan', 'continent': 'Asia', 'interactionType': 'play', 'listeningPersonality': 'The Replayer', 'subscriptionType': 'Premium'}\n",
            "Serialize:{'userId': '9d36c9b3-16b5-4f17-b0f7-68e3cf4b65d5', 'songId': 1287, 'songName': 'Private Dancer - 2015 Remaster', 'genre': 'disco', 'originalDuration': 434, 'releaseDate': 1984, 'popularity': 59, 'artist': 'Tina Turner', 'artistID': 1546, 'interactionTimestamp': '2024-04-15 07:58:38', 'location': 'Azerbaijan', 'continent': 'Asia', 'interactionType': 'leave_app', 'listeningPersonality': 'The Replayer', 'subscriptionType': 'Premium'}\n",
            "Serialize:{'userId': 'cb4c0d32-2ea1-4a03-b4cd-ca1a4f7e94db', 'songId': 1863, 'songName': 'Mr. Tambourine Man', 'genre': 'art rock', 'originalDuration': 149, 'releaseDate': 1965, 'popularity': 62, 'artist': 'The Byrds', 'artistID': 1702, 'interactionTimestamp': '2024-04-15 07:41:47', 'location': 'Hong Kong', 'continent': 'Asia', 'interactionType': 'play', 'listeningPersonality': 'The Maverick', 'subscriptionType': 'Family'}\n",
            "Serialize:{'userId': 'cb4c0d32-2ea1-4a03-b4cd-ca1a4f7e94db', 'songId': 981, 'songName': 'Sailing', 'genre': 'adult standards', 'originalDuration': 278, 'releaseDate': 1975, 'popularity': 68, 'artist': 'Rod Stewart', 'artistID': 1421, 'interactionTimestamp': '2024-04-15 07:43:56', 'location': 'Hong Kong', 'continent': 'Asia', 'interactionType': 'play', 'listeningPersonality': 'The Maverick', 'subscriptionType': 'Family'}\n",
            "Serialize:{'userId': 'cb4c0d32-2ea1-4a03-b4cd-ca1a4f7e94db', 'songId': 1303, 'songName': 'Nightporter', 'genre': 'art pop', 'originalDuration': 408, 'releaseDate': 1984, 'popularity': 41, 'artist': 'Japan', 'artistID': 1552, 'interactionTimestamp': '2024-04-15 07:44:06', 'location': 'Hong Kong', 'continent': 'Asia', 'interactionType': 'play', 'listeningPersonality': 'The Maverick', 'subscriptionType': 'Family'}\n",
            "Serialize:{'userId': 'cb4c0d32-2ea1-4a03-b4cd-ca1a4f7e94db', 'songId': 1993, 'songName': 'Take Five', 'genre': 'bebop', 'originalDuration': 324, 'releaseDate': 1959, 'popularity': 65, 'artist': 'The Dave Brubeck Quartet', 'artistID': 1729, 'interactionTimestamp': '2024-04-15 07:44:55', 'location': 'Hong Kong', 'continent': 'Asia', 'interactionType': 'play', 'listeningPersonality': 'The Maverick', 'subscriptionType': 'Family'}\n",
            "Serialize:{'userId': 'cb4c0d32-2ea1-4a03-b4cd-ca1a4f7e94db', 'songId': 1288, 'songName': 'Easy Lover', 'genre': 'yacht rock', 'originalDuration': 306, 'releaseDate': 1984, 'popularity': 64, 'artist': 'Philip Bailey', 'artistID': 1547, 'interactionTimestamp': '2024-04-15 07:46:48', 'location': 'Hong Kong', 'continent': 'Asia', 'interactionType': 'play', 'listeningPersonality': 'The Maverick', 'subscriptionType': 'Family'}\n",
            "Serialize:{'userId': 'cb4c0d32-2ea1-4a03-b4cd-ca1a4f7e94db', 'songId': 1989, 'songName': 'Summertime', 'genre': 'adult standards', 'originalDuration': 298, 'releaseDate': 1958, 'popularity': 66, 'artist': 'Louis Armstrong', 'artistID': 1716, 'interactionTimestamp': '2024-04-15 07:51:00', 'location': 'Hong Kong', 'continent': 'Asia', 'interactionType': 'play', 'listeningPersonality': 'The Maverick', 'subscriptionType': 'Family'}\n",
            "Serialize:{'userId': 'cb4c0d32-2ea1-4a03-b4cd-ca1a4f7e94db', 'songId': 143, 'songName': 'Alie', 'genre': 'dutch rock', 'originalDuration': 181, 'releaseDate': 2008, 'popularity': 42, 'artist': 'Normaal', 'artistID': 1108, 'interactionTimestamp': '2024-04-15 07:53:07', 'location': 'Hong Kong', 'continent': 'Asia', 'interactionType': 'play', 'listeningPersonality': 'The Maverick', 'subscriptionType': 'Family'}\n",
            "Serialize:{'userId': 'cb4c0d32-2ea1-4a03-b4cd-ca1a4f7e94db', 'songId': 1361, 'songName': 'The Lady In Red', 'genre': 'classic uk pop', 'originalDuration': 256, 'releaseDate': 1986, 'popularity': 74, 'artist': 'Chris de Burgh', 'artistID': 1567, 'interactionTimestamp': '2024-04-15 07:55:49', 'location': 'Hong Kong', 'continent': 'Asia', 'interactionType': 'play', 'listeningPersonality': 'The Maverick', 'subscriptionType': 'Family'}\n",
            "Serialize:{'userId': 'cb4c0d32-2ea1-4a03-b4cd-ca1a4f7e94db', 'songId': 806, 'songName': 'The Boxer', 'genre': 'classic rock', 'originalDuration': 309, 'releaseDate': 1970, 'popularity': 72, 'artist': 'Simon & Garfunkel', 'artistID': 1394, 'interactionTimestamp': '2024-04-15 07:58:02', 'location': 'Hong Kong', 'continent': 'Asia', 'interactionType': 'leave_app', 'listeningPersonality': 'The Maverick', 'subscriptionType': 'Family'}\n",
            "Serialize:{'userId': 'ec762bc5-14c9-4218-982a-fb54819ea2e5', 'songId': 1603, 'songName': 'Creep', 'genre': 'alternative rock', 'originalDuration': 239, 'releaseDate': 1993, 'popularity': 82, 'artist': 'Radiohead', 'artistID': 1632, 'interactionTimestamp': '2024-04-15 08:02:15', 'location': 'Mongolia', 'continent': 'Asia', 'interactionType': 'play', 'listeningPersonality': 'The Nomad', 'subscriptionType': 'Premium'}\n",
            "Serialize:{'userId': 'ec762bc5-14c9-4218-982a-fb54819ea2e5', 'songId': 415, 'songName': 'A Night Like This', 'genre': 'dutch pop', 'originalDuration': 226, 'releaseDate': 2010, 'popularity': 40, 'artist': 'Caro Emerald', 'artistID': 1231, 'interactionTimestamp': '2024-04-15 08:04:59', 'location': 'Mongolia', 'continent': 'Asia', 'interactionType': 'play', 'listeningPersonality': 'The Nomad', 'subscriptionType': 'Premium'}\n",
            "Serialize:{'userId': 'ec762bc5-14c9-4218-982a-fb54819ea2e5', 'songId': 176, 'songName': 'Hollereer', 'genre': 'dutch hip hop', 'originalDuration': 346, 'releaseDate': 2008, 'popularity': 46, 'artist': 'De Jeugd Van Tegenwoordig', 'artistID': 1128, 'interactionTimestamp': '2024-04-15 08:06:41', 'location': 'Mongolia', 'continent': 'Asia', 'interactionType': 'play', 'listeningPersonality': 'The Nomad', 'subscriptionType': 'Premium'}\n"
          ]
        }
      ],
      "source": [
        "!sleep 5\n",
        "!tail -40 avro_producer.log"
      ]
    },
    {
      "cell_type": "markdown",
      "metadata": {
        "id": "Q99PRWf3ooH0"
      },
      "source": [
        "### Kafka Consumer"
      ]
    },
    {
      "cell_type": "code",
      "execution_count": 13,
      "metadata": {
        "colab": {
          "base_uri": "https://localhost:8080/"
        },
        "id": "81B9vQe2FShG",
        "outputId": "1a96e7bb-3961-4a5f-8b86-3f33065f9b7c"
      },
      "outputs": [
        {
          "name": "stdout",
          "output_type": "stream",
          "text": [
            "Writing avro_consumer.py\n"
          ]
        }
      ],
      "source": [
        "%%writefile avro_consumer.py\n",
        "#!/usr/bin/python\n",
        "# Import the required modules\n",
        "from kafka import KafkaConsumer\n",
        "import fastavro\n",
        "import io\n",
        "import pandas as pd\n",
        "import uuid\n",
        "import datetime\n",
        "import random, os\n",
        "from faker import Faker\n",
        "import numpy as np\n",
        "from azure.storage.queue import QueueClient\n",
        "from fastavro import schemaless_writer\n",
        "import io\n",
        "import base64\n",
        "from datetime import datetime\n",
        "\n",
        "schema = {\n",
        "  \"doc\": \"Spotify Wrapped 2024\",\n",
        "  \"name\": \"SpotifyData\",\n",
        "  \"namespace\": \"com.spotify.wrapped\",\n",
        "  \"type\": \"record\",\n",
        "  \"fields\": [\n",
        "    {\"name\": \"userId\", \"type\": \"string\"},\n",
        "    {\"name\": \"songId\", \"type\": \"int\"},\n",
        "    {\"name\": \"songName\", \"type\": \"string\"},\n",
        "    {\"name\": \"genre\", \"type\": \"string\"},\n",
        "    {\"name\": \"originalDuration\", \"type\": \"int\"},\n",
        "    {\"name\": \"releaseDate\", \"type\": \"int\"},\n",
        "    {\"name\": \"popularity\", \"type\": \"int\"},\n",
        "    {\"name\": \"artist\", \"type\": \"string\"},\n",
        "    {\"name\": \"artistID\", \"type\": \"int\"},\n",
        "    {\"name\": \"interactionTimestamp\", \"type\": \"string\"},\n",
        "    {\"name\": \"location\", \"type\": \"string\"},\n",
        "    {\"name\": \"continent\", \"type\": \"string\"},\n",
        "    {\n",
        "      \"name\": \"interactionType\",\n",
        "      \"type\": {\n",
        "        \"type\": \"enum\",\n",
        "        \"name\": \"InteractionType\",\n",
        "        \"symbols\": [\"play\", \"leave_app\"]\n",
        "      }\n",
        "    },\n",
        "    {\"name\": \"listeningPersonality\", \"type\": \"string\"},\n",
        "    {\n",
        "      \"name\": \"subscriptionType\",\n",
        "      \"type\": {\n",
        "        \"type\": \"enum\",\n",
        "        \"name\": \"SubscriptionType\",\n",
        "        \"symbols\": [\"Free\", \"Premium\", \"Family\"]\n",
        "      }\n",
        "    }\n",
        "  ]\n",
        "}\n",
        "\n",
        "\n",
        "# Parse the updated schema\n",
        "from fastavro import parse_schema\n",
        "parsed_updated_schema = parse_schema(schema)\n",
        "\n",
        "# Create a Kafka producer with value serializer\n",
        "def deserialize(message):\n",
        "  # print(\"Deserialize:\" + str(message))\n",
        "\n",
        "  import io\n",
        "  schemaless_bytes_reader = io.BytesIO(message)\n",
        "  try:\n",
        "    record=fastavro.schemaless_reader(schemaless_bytes_reader, schema)\n",
        "    return record\n",
        "  except Exception as ex:\n",
        "    print(ex)\n",
        "    return \"pass\"\n",
        "\n",
        "# Create a Kafka consumer with value deserializer\n",
        "# topic name is a command line argument, if not present it defaults to spotifywrapped\n",
        "import sys\n",
        "topic_name_default=\"spotifywrapped\"\n",
        "if len(sys.argv) > 1:\n",
        "  topic_name = sys.argv[1]\n",
        "else:\n",
        "  topic_name = topic_name_default\n",
        "\n",
        "consumer = KafkaConsumer(\n",
        "    topic_name,\n",
        "    bootstrap_servers=['localhost:9092'],\n",
        "    auto_offset_reset='earliest',\n",
        "    enable_auto_commit=True,\n",
        "    group_id='Python_AVRO_Consumer',\n",
        "    value_deserializer=deserialize #lambda v: fastavro.schemaless_reader(io.BytesIO(v), schema)\n",
        ")\n",
        "\n",
        "#Consume messages from the topic and print them\n",
        "for message in consumer:\n",
        "    print(\"=\"*10)\n",
        "    print(message.value)"
      ]
    },
    {
      "cell_type": "code",
      "execution_count": 14,
      "metadata": {
        "colab": {
          "base_uri": "https://localhost:8080/"
        },
        "id": "vm0IU-oVLWGi",
        "outputId": "a1e5bab3-69b6-4018-d990-3921fa39329b"
      },
      "outputs": [
        {
          "name": "stdout",
          "output_type": "stream",
          "text": [
            "nohup: redirecting stderr to stdout\n"
          ]
        }
      ],
      "source": [
        "!nohup python avro_consumer.py > avro_consumer.log &"
      ]
    },
    {
      "cell_type": "code",
      "execution_count": 15,
      "metadata": {
        "colab": {
          "base_uri": "https://localhost:8080/"
        },
        "id": "1cDtIh-ULYWL",
        "outputId": "9e0c1321-dfb1-4e23-d987-65d8ef9701ec"
      },
      "outputs": [
        {
          "name": "stdout",
          "output_type": "stream",
          "text": [
            "{'userId': '7857dfb6-3404-4657-8b15-23209138ff8a', 'songId': 1827, 'songName': 'Hey Boy Hey Girl', 'genre': 'alternative dance', 'originalDuration': 290, 'releaseDate': 1999, 'popularity': 65, 'artist': 'The Chemical Brothers', 'artistID': 1695, 'interactionTimestamp': '2024-04-16 18:07:00', 'location': 'Switzerland', 'continent': 'Europe', 'interactionType': 'play', 'listeningPersonality': 'The Nomad', 'subscriptionType': 'Free'}\n",
            "==========\n",
            "{'userId': '7857dfb6-3404-4657-8b15-23209138ff8a', 'songId': 700, 'songName': 'Everything Now', 'genre': 'alternative dance', 'originalDuration': 303, 'releaseDate': 2017, 'popularity': 66, 'artist': 'Arcade Fire', 'artistID': 1353, 'interactionTimestamp': '2024-04-16 18:12:18', 'location': 'Switzerland', 'continent': 'Europe', 'interactionType': 'play', 'listeningPersonality': 'The Nomad', 'subscriptionType': 'Free'}\n",
            "==========\n",
            "{'userId': '7857dfb6-3404-4657-8b15-23209138ff8a', 'songId': 63, 'songName': 'Smoorverliefd', 'genre': 'dutch cabaret', 'originalDuration': 195, 'releaseDate': 2008, 'popularity': 48, 'artist': 'Doe Maar', 'artistID': 1054, 'interactionTimestamp': '2024-04-16 18:14:20', 'location': 'Switzerland', 'continent': 'Europe', 'interactionType': 'play', 'listeningPersonality': 'The Nomad', 'subscriptionType': 'Free'}\n",
            "==========\n",
            "{'userId': '7857dfb6-3404-4657-8b15-23209138ff8a', 'songId': 701, 'songName': 'Sorry', 'genre': 'alternative pop rock', 'originalDuration': 215, 'releaseDate': 2017, 'popularity': 62, 'artist': 'Nothing But Thieves', 'artistID': 1354, 'interactionTimestamp': '2024-04-16 18:14:31', 'location': 'Switzerland', 'continent': 'Europe', 'interactionType': 'play', 'listeningPersonality': 'The Nomad', 'subscriptionType': 'Free'}\n",
            "==========\n",
            "{'userId': '7857dfb6-3404-4657-8b15-23209138ff8a', 'songId': 1652, 'songName': 'Mmm Mmm Mmm Mmm', 'genre': 'canadian rock', 'originalDuration': 235, 'releaseDate': 1994, 'popularity': 57, 'artist': 'Crash Test Dummies', 'artistID': 1649, 'interactionTimestamp': '2024-04-16 18:15:28', 'location': 'Switzerland', 'continent': 'Europe', 'interactionType': 'play', 'listeningPersonality': 'The Nomad', 'subscriptionType': 'Free'}\n",
            "==========\n",
            "{'userId': '7857dfb6-3404-4657-8b15-23209138ff8a', 'songId': 66, 'songName': 'Crazy', 'genre': 'british soul', 'originalDuration': 357, 'releaseDate': 2004, 'popularity': 63, 'artist': 'Seal', 'artistID': 1057, 'interactionTimestamp': '2024-04-16 18:15:50', 'location': 'Switzerland', 'continent': 'Europe', 'interactionType': 'play', 'listeningPersonality': 'The Nomad', 'subscriptionType': 'Free'}\n",
            "==========\n",
            "{'userId': '7857dfb6-3404-4657-8b15-23209138ff8a', 'songId': 625, 'songName': 'Three Days In A Row', 'genre': 'dutch indie', 'originalDuration': 254, 'releaseDate': 2015, 'popularity': 13, 'artist': 'Anouk', 'artistID': 1073, 'interactionTimestamp': '2024-04-16 18:18:59', 'location': 'Switzerland', 'continent': 'Europe', 'interactionType': 'play', 'listeningPersonality': 'The Nomad', 'subscriptionType': 'Free'}\n",
            "==========\n",
            "{'userId': '7857dfb6-3404-4657-8b15-23209138ff8a', 'songId': 18, 'songName': 'Uninvited', 'genre': 'alternative rock', 'originalDuration': 276, 'releaseDate': 2005, 'popularity': 57, 'artist': 'Alanis Morissette', 'artistID': 1017, 'interactionTimestamp': '2024-04-16 18:19:46', 'location': 'Switzerland', 'continent': 'Europe', 'interactionType': 'play', 'listeningPersonality': 'The Nomad', 'subscriptionType': 'Free'}\n",
            "==========\n",
            "{'userId': '7857dfb6-3404-4657-8b15-23209138ff8a', 'songId': 586, 'songName': 'Hemel Valt', 'genre': 'dutch hip hop', 'originalDuration': 161, 'releaseDate': 2014, 'popularity': 43, 'artist': 'Typhoon', 'artistID': 1301, 'interactionTimestamp': '2024-04-16 18:20:11', 'location': 'Switzerland', 'continent': 'Europe', 'interactionType': 'play', 'listeningPersonality': 'The Nomad', 'subscriptionType': 'Free'}\n",
            "==========\n",
            "{'userId': '7857dfb6-3404-4657-8b15-23209138ff8a', 'songId': 1071, 'songName': 'I Want You to Want Me', 'genre': 'album rock', 'originalDuration': 191, 'releaseDate': 1977, 'popularity': 70, 'artist': 'Cheap Trick', 'artistID': 1485, 'interactionTimestamp': '2024-04-16 18:20:33', 'location': 'Switzerland', 'continent': 'Europe', 'interactionType': 'play', 'listeningPersonality': 'The Nomad', 'subscriptionType': 'Free'}\n",
            "==========\n"
          ]
        }
      ],
      "source": [
        "!sleep 5\n",
        "!tail -20 avro_consumer.log"
      ]
    },
    {
      "cell_type": "code",
      "execution_count": 16,
      "metadata": {
        "id": "bhDWzOTRcDHC"
      },
      "outputs": [],
      "source": [
        "import time\n",
        "time.sleep(10)"
      ]
    },
    {
      "cell_type": "markdown",
      "metadata": {
        "id": "daSkIosGLtLD"
      },
      "source": [
        "## Spark Set up"
      ]
    },
    {
      "cell_type": "code",
      "execution_count": 19,
      "metadata": {
        "colab": {
          "base_uri": "https://localhost:8080/"
        },
        "id": "_0drdUMfLprH",
        "outputId": "5183ebce-e2cb-4d5c-ef7e-a9e8be43ff21"
      },
      "outputs": [
        {
          "name": "stdout",
          "output_type": "stream",
          "text": [
            "3.5.1\n"
          ]
        }
      ],
      "source": [
        "spark_release='spark-3.5.1'\n",
        "hadoop_version='hadoop3'\n",
        "\n",
        "start=time.time()\n",
        "os.environ['SPARK_RELEASE']=spark_release\n",
        "os.environ['HADOOP_VERSION']=hadoop_version\n",
        "os.environ[\"JAVA_HOME\"] = \"/usr/lib/jvm/java-8-openjdk-amd64\"\n",
        "os.environ[\"SPARK_HOME\"] = f\"/content/{spark_release}-bin-{hadoop_version}\"\n",
        "# Run below commands in google colab\n",
        "!apt-get install openjdk-8-jdk-headless -qq > /dev/null # install Java8\n",
        "!wget -q http://apache.osuosl.org/spark/${SPARK_RELEASE}/${SPARK_RELEASE}-bin-${HADOOP_VERSION}.tgz # download spark-3.3.X\n",
        "!tar xf ${SPARK_RELEASE}-bin-${HADOOP_VERSION}.tgz # unzip it\n",
        "\n",
        "!pip install -q findspark # install findspark\n",
        "# findspark find your Spark Distribution and sets necessary environment variables\n",
        "\n",
        "findspark.init()\n",
        "\n",
        "# Check the pyspark version\n",
        "print(pyspark.__version__)"
      ]
    },
    {
      "cell_type": "markdown",
      "metadata": {
        "id": "vXluuiGaMIij"
      },
      "source": [
        "### Define the Configuration Details of the Spark job"
      ]
    },
    {
      "cell_type": "code",
      "execution_count": 20,
      "metadata": {
        "colab": {
          "base_uri": "https://localhost:8080/"
        },
        "id": "my01eaE2LyTP",
        "outputId": "7a3b7a11-4ade-4442-947c-1cf4712c8c0c"
      },
      "outputs": [
        {
          "name": "stderr",
          "output_type": "stream",
          "text": [
            "/usr/lib/python3.10/subprocess.py:1796: RuntimeWarning: os.fork() was called. os.fork() is incompatible with multithreaded code, and JAX is multithreaded, so this will likely lead to a deadlock.\n",
            "  self.pid = _posixsubprocess.fork_exec(\n"
          ]
        }
      ],
      "source": [
        "kafka_brokers=\"127.0.0.1:9092\" # Can be a comma-separated list of brokers 127.0.0.1:9092\n",
        "topic_name=\"spotifywrapped\"\n",
        "\n",
        "schema  = \"\"\" {\n",
        "  \"doc\": \"Spotify Wrapped 2024\",\n",
        "  \"name\": \"SpotifyData\",\n",
        "  \"namespace\": \"com.spotify.wrapped\",\n",
        "  \"type\": \"record\",\n",
        "  \"fields\": [\n",
        "    {\"name\": \"userId\", \"type\": \"string\"},\n",
        "    {\"name\": \"songId\", \"type\": \"int\"},\n",
        "    {\"name\": \"songName\", \"type\": \"string\"},\n",
        "    {\"name\": \"genre\", \"type\": \"string\"},\n",
        "    {\"name\": \"originalDuration\", \"type\": \"int\"},\n",
        "    {\"name\": \"releaseDate\", \"type\": \"int\"},\n",
        "    {\"name\": \"popularity\", \"type\": \"int\"},\n",
        "    {\"name\": \"artist\", \"type\": \"string\"},\n",
        "    {\"name\": \"artistID\", \"type\": \"int\"},\n",
        "    {\"name\": \"interactionTimestamp\", \"type\": \"string\"},\n",
        "    {\"name\": \"location\", \"type\": \"string\"},\n",
        "    {\"name\": \"continent\", \"type\": \"string\"},\n",
        "    {\n",
        "      \"name\": \"interactionType\",\n",
        "      \"type\": {\n",
        "        \"type\": \"enum\",\n",
        "        \"name\": \"InteractionType\",\n",
        "        \"symbols\": [\"play\", \"leave_app\"]\n",
        "      }\n",
        "    },\n",
        "    {\"name\": \"listeningPersonality\", \"type\": \"string\"},\n",
        "    {\n",
        "      \"name\": \"subscriptionType\",\n",
        "      \"type\": {\n",
        "        \"type\": \"enum\",\n",
        "        \"name\": \"SubscriptionType\",\n",
        "        \"symbols\": [\"Free\", \"Premium\", \"Family\"]\n",
        "      }\n",
        "    }\n",
        "  ]\n",
        "}\"\"\"\n",
        "\n",
        "# Create a Spark session\n",
        "spark = SparkSession \\\n",
        "    .builder \\\n",
        "    .appName(\"StreamingAVROFromKafka\") \\\n",
        "    .config(\"spark.streaming.stopGracefullyOnShutdown\", True) \\\n",
        "    .config(\"spark.sql.streaming.statefulOperator.checkCorrectness.enabled\", \"false\") \\\n",
        "    .config('spark.jars.packages', 'org.apache.spark:spark-sql-kafka-0-10_2.12:3.5.0,org.apache.spark:spark-avro_2.12:3.5.0') \\\n",
        "    .config(\"spark.sql.shuffle.partitions\", 4) \\\n",
        "    .master(\"local[*]\") \\\n",
        "    .getOrCreate()\n",
        "\n",
        "kafkaConf = {\n",
        "    \"kafka.bootstrap.servers\": kafka_brokers,\n",
        "    # Below settins required if kafka is secured:\n",
        "    # \"kafka.sasl.mechanism\": \"PLAIN\",\n",
        "    # \"kafka.security.protocol\": \"SASL_SSL\",\n",
        "    # \"kafka.sasl.jaas.config\": 'org.apache.kafka.common.security.plain.PlainLoginModule required username=\"$ConnectionString\" password=\"Endpoint=sb://eventhubname.servicebus.windows.net/;SharedAccessKeyName=listenpolicyforspark;SharedAccessKey=ckNkSjcyXKGN8FCIRIS3qtkKvW+AEhB6QPaM=;EntityPath=instructortest\";',\n",
        "    \"subscribe\": topic_name, # to read from specific partitions use option: \"assign\": {topic_name:[0,1]})\n",
        "    \"startingOffsets\": \"earliest\", # \"earliest\", \"latest\"\n",
        "    \"enable.auto.commit\": \"true \",\n",
        "    \"groupIdPrefix\": \"Stream_Analytics_\",\n",
        "    \"auto.commit.interval.ms\": \"5000\"\n",
        "}"
      ]
    },
    {
      "cell_type": "code",
      "execution_count": 21,
      "metadata": {
        "id": "B0r81DDVQE8q"
      },
      "outputs": [],
      "source": [
        "# Now we flatten the AVRO record to put each field in a separate column:\n",
        "df = spark \\\n",
        "    .readStream \\\n",
        "    .format(\"kafka\") \\\n",
        "    .options(**kafkaConf)\n",
        "df = df.load()\n",
        "df = df.select(from_avro(df.value, schema).alias(\"spotify\"))"
      ]
    },
    {
      "cell_type": "code",
      "execution_count": 22,
      "metadata": {
        "colab": {
          "base_uri": "https://localhost:8080/"
        },
        "id": "FeBHggb9RXMl",
        "outputId": "23f96290-84f1-434f-8630-7a799423d8db"
      },
      "outputs": [
        {
          "name": "stdout",
          "output_type": "stream",
          "text": [
            "root\n",
            " |-- spotify: struct (nullable = true)\n",
            " |    |-- userId: string (nullable = false)\n",
            " |    |-- songId: integer (nullable = false)\n",
            " |    |-- songName: string (nullable = false)\n",
            " |    |-- genre: string (nullable = false)\n",
            " |    |-- originalDuration: integer (nullable = false)\n",
            " |    |-- releaseDate: integer (nullable = false)\n",
            " |    |-- popularity: integer (nullable = false)\n",
            " |    |-- artist: string (nullable = false)\n",
            " |    |-- artistID: integer (nullable = false)\n",
            " |    |-- interactionTimestamp: string (nullable = false)\n",
            " |    |-- location: string (nullable = false)\n",
            " |    |-- continent: string (nullable = false)\n",
            " |    |-- interactionType: string (nullable = false)\n",
            " |    |-- listeningPersonality: string (nullable = false)\n",
            " |    |-- subscriptionType: string (nullable = false)\n",
            "\n"
          ]
        }
      ],
      "source": [
        "df.printSchema()"
      ]
    },
    {
      "cell_type": "code",
      "execution_count": 23,
      "metadata": {
        "colab": {
          "base_uri": "https://localhost:8080/"
        },
        "id": "6vhfzD4NROMW",
        "outputId": "d60788a1-0c90-414b-ca63-7870c9aaf291"
      },
      "outputs": [
        {
          "name": "stdout",
          "output_type": "stream",
          "text": [
            "root\n",
            " |-- userId: string (nullable = true)\n",
            " |-- songId: integer (nullable = true)\n",
            " |-- songName: string (nullable = true)\n",
            " |-- genre: string (nullable = true)\n",
            " |-- location: string (nullable = true)\n",
            " |-- continent: string (nullable = true)\n",
            " |-- originalDuration: integer (nullable = true)\n",
            " |-- releaseDate: integer (nullable = true)\n",
            " |-- popularity: integer (nullable = true)\n",
            " |-- artist: string (nullable = true)\n",
            " |-- artistID: integer (nullable = true)\n",
            " |-- interactionTimestamp: timestamp (nullable = true)\n",
            " |-- interactionType: string (nullable = true)\n",
            " |-- listeningPersonality: string (nullable = true)\n",
            " |-- subscriptionType: string (nullable = true)\n",
            "\n"
          ]
        }
      ],
      "source": [
        "df = df.select(\n",
        "    col(\"spotify.userId\"),\n",
        "    col(\"spotify.songId\"),\n",
        "    col(\"spotify.songName\"),\n",
        "    col(\"spotify.genre\"),\n",
        "    col(\"spotify.location\"),\n",
        "    col(\"spotify.continent\"),\n",
        "    col(\"spotify.originalDuration\"),\n",
        "    col(\"spotify.releaseDate\"),\n",
        "    col(\"spotify.popularity\"),\n",
        "    col(\"spotify.artist\"),\n",
        "    col(\"spotify.artistID\"),\n",
        "    to_timestamp(col(\"spotify.interactionTimestamp\"), \"yyyy-MM-dd HH:mm:ss\").alias(\"interactionTimestamp\"),\n",
        "    col(\"spotify.interactionType\"),\n",
        "    col(\"spotify.listeningPersonality\"),\n",
        "    col(\"spotify.subscriptionType\")\n",
        ")\n",
        "\n",
        "df.printSchema()"
      ]
    },
    {
      "cell_type": "code",
      "execution_count": 24,
      "metadata": {
        "id": "tE1Il-sKeGeO"
      },
      "outputs": [],
      "source": [
        "!mkdir checkpoint"
      ]
    },
    {
      "cell_type": "markdown",
      "metadata": {
        "id": "LIjNJDJOISPu"
      },
      "source": [
        "## 3 Main Stakeholders: Spotify (Internal Use), Spotify Users, Spotify Artists"
      ]
    },
    {
      "cell_type": "markdown",
      "metadata": {
        "id": "Z8mLidvjIi6x"
      },
      "source": [
        "### Group Analysis 1: Spotify (Internal Use)"
      ]
    },
    {
      "cell_type": "markdown",
      "metadata": {
        "id": "KikUUu2-AV-R"
      },
      "source": [
        "#### Subanalysis 1: Predictions (1 model and 2 datasets)"
      ]
    },
    {
      "cell_type": "markdown",
      "metadata": {
        "id": "dMnBiKyOU82z"
      },
      "source": [
        "**First Dataset: Count of Users For Every 1-week Window**"
      ]
    },
    {
      "cell_type": "markdown",
      "metadata": {
        "id": "cirOVFpLLWe2"
      },
      "source": [
        "The model predicts the number of users in the next week."
      ]
    },
    {
      "cell_type": "code",
      "execution_count": null,
      "metadata": {
        "id": "nU2d1bxrU-j9"
      },
      "outputs": [],
      "source": [
        "df_user_count_per_minute = df.groupBy(window(df.interactionTimestamp, \"10080 minute\")\n",
        ").agg(\n",
        "    F.approx_count_distinct(\"userId\").alias(\"userCount\")\n",
        ").select(\n",
        "    F.col(\"window.start\").alias(\"windowStart\"),\n",
        "    F.col(\"userCount\")\n",
        ").orderBy(\"window.start\", ascending=True)\n",
        "\n",
        "# Now define the streaming query to output this aggregation\n",
        "query_user_count_per_minute = df_user_count_per_minute \\\n",
        "    .writeStream \\\n",
        "    .outputMode(\"complete\") \\\n",
        "    .format(\"memory\") \\\n",
        "    .queryName(\"user_count\") \\\n",
        "    .start()\n",
        "\n",
        "#the query is outputted in panda after!!"
      ]
    },
    {
      "cell_type": "code",
      "execution_count": null,
      "metadata": {
        "colab": {
          "base_uri": "https://localhost:8080/"
        },
        "id": "pQE7YjyxTvfJ",
        "outputId": "fc9c62cb-7d1c-4447-b8ec-598475229280"
      },
      "outputs": [
        {
          "name": "stdout",
          "output_type": "stream",
          "text": [
            "   windowStart  userCount\n",
            "0   2024-04-11        230\n",
            "1   2024-04-18        449\n",
            "2   2024-04-25        447\n",
            "3   2024-05-02        510\n",
            "4   2024-05-09        547\n",
            "5   2024-05-16        449\n",
            "6   2024-05-23        541\n",
            "7   2024-05-30        538\n",
            "8   2024-06-06        461\n",
            "9   2024-06-13        484\n",
            "10  2024-06-20        486\n",
            "11  2024-06-27        474\n",
            "12  2024-07-04        447\n",
            "13  2024-07-11        479\n",
            "14  2024-07-18        502\n",
            "15  2024-07-25        516\n",
            "16  2024-08-01        451\n",
            "17  2024-08-08        492\n",
            "18  2024-08-15        471\n",
            "19  2024-08-22        432\n",
            "20  2024-08-29        476\n",
            "21  2024-09-05        456\n",
            "22  2024-09-12        518\n",
            "23  2024-09-19        486\n",
            "24  2024-09-26        466\n",
            "25  2024-10-03        481\n",
            "26  2024-10-10        447\n",
            "27  2024-10-17        524\n",
            "28  2024-10-24        456\n",
            "29  2024-10-31        524\n",
            "30  2024-11-07        492\n",
            "31  2024-11-14        541\n",
            "32  2024-11-21        502\n",
            "33  2024-11-28        492\n",
            "34  2024-12-05        461\n",
            "35  2024-12-12        451\n",
            "36  2024-12-19        481\n",
            "37  2024-12-26        459\n",
            "38  2025-01-02        524\n",
            "39  2025-01-09        502\n",
            "40  2025-01-16        481\n",
            "41  2025-01-23        476\n",
            "42  2025-01-30        447\n",
            "43  2025-02-06        486\n",
            "44  2025-02-13        466\n",
            "45  2025-02-20        484\n",
            "46  2025-02-27        532\n",
            "47  2025-03-06        466\n",
            "48  2025-03-13        486\n",
            "49  2025-03-20        544\n",
            "50  2025-03-27        456\n",
            "51  2025-04-03        432\n"
          ]
        }
      ],
      "source": [
        "x=spark.sql(\"select * from user_count\").toPandas()\n",
        "x\n",
        "# Load your dataset (assuming it's already been converted to a Pandas DataFrame)\n",
        "x2 = x\n",
        "print(x)"
      ]
    },
    {
      "cell_type": "code",
      "execution_count": null,
      "metadata": {
        "colab": {
          "base_uri": "https://localhost:8080/"
        },
        "id": "jGD5M227CQSx",
        "outputId": "b8dc2f0e-092f-4c75-e30f-915f710be9d3"
      },
      "outputs": [
        {
          "name": "stdout",
          "output_type": "stream",
          "text": [
            "Epoch 1/100\n"
          ]
        },
        {
          "name": "stderr",
          "output_type": "stream",
          "text": [
            "Exception ignored in: <function JavaObject.__init__.<locals>.<lambda> at 0x78ccd12024d0>\n",
            "Traceback (most recent call last):\n",
            "  File \"/usr/local/lib/python3.10/dist-packages/py4j/java_gateway.py\", line 1359, in <lambda>\n",
            "    lambda wr, cc=self._gateway_client, id=self._target_id:\n",
            "KeyboardInterrupt: \n"
          ]
        },
        {
          "name": "stdout",
          "output_type": "stream",
          "text": [
            "2/2 [==============================] - 86s 11s/step - loss: 0.6658 - val_loss: 0.6031\n",
            "Epoch 2/100\n",
            "2/2 [==============================] - 1s 539ms/step - loss: 0.6064 - val_loss: 0.5456\n",
            "Epoch 3/100\n",
            "2/2 [==============================] - 1s 528ms/step - loss: 0.5491 - val_loss: 0.4892\n",
            "Epoch 4/100\n",
            "2/2 [==============================] - 1s 492ms/step - loss: 0.4922 - val_loss: 0.4324\n",
            "Epoch 5/100\n",
            "2/2 [==============================] - 1s 533ms/step - loss: 0.4353 - val_loss: 0.3742\n",
            "Epoch 6/100\n",
            "2/2 [==============================] - 1s 455ms/step - loss: 0.3773 - val_loss: 0.3149\n",
            "Epoch 7/100\n",
            "2/2 [==============================] - 1s 666ms/step - loss: 0.3178 - val_loss: 0.2551\n",
            "Epoch 8/100\n",
            "2/2 [==============================] - 1s 502ms/step - loss: 0.2581 - val_loss: 0.1956\n",
            "Epoch 9/100\n",
            "2/2 [==============================] - 1s 464ms/step - loss: 0.1986 - val_loss: 0.1380\n",
            "Epoch 10/100\n",
            "2/2 [==============================] - 0s 376ms/step - loss: 0.1413 - val_loss: 0.0856\n",
            "Epoch 11/100\n",
            "2/2 [==============================] - 0s 396ms/step - loss: 0.0889 - val_loss: 0.0423\n",
            "Epoch 12/100\n",
            "2/2 [==============================] - 0s 208ms/step - loss: 0.0470 - val_loss: 0.0148\n",
            "Epoch 13/100\n",
            "2/2 [==============================] - 0s 58ms/step - loss: 0.0203 - val_loss: 0.0086\n",
            "Epoch 14/100\n",
            "2/2 [==============================] - 0s 235ms/step - loss: 0.0165 - val_loss: 0.0216\n",
            "Epoch 15/100\n",
            "2/2 [==============================] - 0s 474ms/step - loss: 0.0307 - val_loss: 0.0361\n",
            "Epoch 16/100\n",
            "2/2 [==============================] - 0s 388ms/step - loss: 0.0458 - val_loss: 0.0365\n",
            "Epoch 17/100\n",
            "2/2 [==============================] - 0s 366ms/step - loss: 0.0459 - val_loss: 0.0281\n",
            "Epoch 18/100\n",
            "2/2 [==============================] - 1s 636ms/step - loss: 0.0367 - val_loss: 0.0185\n",
            "Epoch 19/100\n",
            "2/2 [==============================] - 1s 1s/step - loss: 0.0264 - val_loss: 0.0109\n",
            "Epoch 20/100\n",
            "2/2 [==============================] - 1s 880ms/step - loss: 0.0181 - val_loss: 0.0080\n",
            "Epoch 21/100\n",
            "2/2 [==============================] - 0s 345ms/step - loss: 0.0149 - val_loss: 0.0088\n",
            "Epoch 22/100\n",
            "2/2 [==============================] - 1s 595ms/step - loss: 0.0151 - val_loss: 0.0108\n",
            "Epoch 23/100\n",
            "2/2 [==============================] - 1s 1s/step - loss: 0.0168 - val_loss: 0.0131\n",
            "Epoch 24/100\n",
            "2/2 [==============================] - 1s 669ms/step - loss: 0.0190 - val_loss: 0.0143\n",
            "Epoch 25/100\n",
            "2/2 [==============================] - 1s 726ms/step - loss: 0.0200 - val_loss: 0.0132\n",
            "Epoch 26/100\n",
            "2/2 [==============================] - 0s 317ms/step - loss: 0.0189 - val_loss: 0.0112\n",
            "Epoch 27/100\n",
            "2/2 [==============================] - 1s 443ms/step - loss: 0.0171 - val_loss: 0.0095\n",
            "Epoch 28/100\n",
            "2/2 [==============================] - 1s 841ms/step - loss: 0.0154 - val_loss: 0.0082\n",
            "Epoch 29/100\n",
            "2/2 [==============================] - 1s 771ms/step - loss: 0.0144 - val_loss: 0.0079\n",
            "Epoch 30/100\n",
            "2/2 [==============================] - 1s 492ms/step - loss: 0.0143 - val_loss: 0.0086\n",
            "Epoch 31/100\n",
            "2/2 [==============================] - 1s 599ms/step - loss: 0.0151 - val_loss: 0.0093\n",
            "Epoch 32/100\n",
            "2/2 [==============================] - 0s 467ms/step - loss: 0.0159 - val_loss: 0.0099\n",
            "Epoch 33/100\n",
            "2/2 [==============================] - 0s 454ms/step - loss: 0.0167 - val_loss: 0.0100\n",
            "Epoch 34/100\n",
            "2/2 [==============================] - 0s 309ms/step - loss: 0.0167 - val_loss: 0.0098\n",
            "Epoch 35/100\n",
            "2/2 [==============================] - 0s 362ms/step - loss: 0.0164 - val_loss: 0.0095\n",
            "Epoch 36/100\n",
            "2/2 [==============================] - 0s 330ms/step - loss: 0.0161 - val_loss: 0.0092\n",
            "Epoch 37/100\n",
            "2/2 [==============================] - 0s 220ms/step - loss: 0.0156 - val_loss: 0.0088\n",
            "Epoch 38/100\n",
            "2/2 [==============================] - 0s 279ms/step - loss: 0.0152 - val_loss: 0.0082\n",
            "Epoch 39/100\n",
            "2/2 [==============================] - 1s 603ms/step - loss: 0.0144 - val_loss: 0.0078\n",
            "Epoch 40/100\n",
            "2/2 [==============================] - 1s 528ms/step - loss: 0.0139 - val_loss: 0.0080\n",
            "Epoch 41/100\n",
            "2/2 [==============================] - 0s 114ms/step - loss: 0.0138 - val_loss: 0.0087\n",
            "Epoch 42/100\n",
            "2/2 [==============================] - 0s 370ms/step - loss: 0.0144 - val_loss: 0.0096\n",
            "Epoch 43/100\n",
            "2/2 [==============================] - 1s 569ms/step - loss: 0.0151 - val_loss: 0.0105\n",
            "Epoch 44/100\n",
            "2/2 [==============================] - 0s 365ms/step - loss: 0.0160 - val_loss: 0.0115\n",
            "Epoch 45/100\n",
            "2/2 [==============================] - 1s 609ms/step - loss: 0.0169 - val_loss: 0.0122\n",
            "Epoch 46/100\n",
            "2/2 [==============================] - 0s 269ms/step - loss: 0.0176 - val_loss: 0.0120\n",
            "Epoch 47/100\n",
            "2/2 [==============================] - 1s 520ms/step - loss: 0.0173 - val_loss: 0.0104\n",
            "Epoch 48/100\n",
            "2/2 [==============================] - 0s 411ms/step - loss: 0.0158 - val_loss: 0.0086\n",
            "Epoch 49/100\n",
            "2/2 [==============================] - 1s 688ms/step - loss: 0.0143 - val_loss: 0.0079\n",
            "Epoch 50/100\n",
            "2/2 [==============================] - 0s 305ms/step - loss: 0.0137 - val_loss: 0.0078\n",
            "Epoch 51/100\n",
            "2/2 [==============================] - 1s 717ms/step - loss: 0.0137 - val_loss: 0.0079\n",
            "Epoch 52/100\n",
            "2/2 [==============================] - 1s 879ms/step - loss: 0.0138 - val_loss: 0.0078\n",
            "Epoch 53/100\n",
            "2/2 [==============================] - 1s 574ms/step - loss: 0.0137 - val_loss: 0.0078\n",
            "Epoch 54/100\n",
            "2/2 [==============================] - 0s 348ms/step - loss: 0.0137 - val_loss: 0.0078\n",
            "Epoch 55/100\n",
            "2/2 [==============================] - 1s 801ms/step - loss: 0.0136 - val_loss: 0.0078\n",
            "Epoch 56/100\n",
            "2/2 [==============================] - 1s 973ms/step - loss: 0.0136 - val_loss: 0.0080\n",
            "Epoch 57/100\n",
            "2/2 [==============================] - 1s 493ms/step - loss: 0.0140 - val_loss: 0.0083\n",
            "Epoch 58/100\n",
            "2/2 [==============================] - 0s 235ms/step - loss: 0.0143 - val_loss: 0.0082\n",
            "Epoch 59/100\n",
            "2/2 [==============================] - 1s 549ms/step - loss: 0.0141 - val_loss: 0.0080\n",
            "Epoch 60/100\n",
            "2/2 [==============================] - 1s 943ms/step - loss: 0.0139 - val_loss: 0.0079\n",
            "Epoch 61/100\n",
            "2/2 [==============================] - 0s 251ms/step - loss: 0.0138 - val_loss: 0.0078\n",
            "Epoch 62/100\n",
            "2/2 [==============================] - 1s 620ms/step - loss: 0.0136 - val_loss: 0.0078\n",
            "Epoch 63/100\n",
            "2/2 [==============================] - 1s 585ms/step - loss: 0.0135 - val_loss: 0.0084\n",
            "Epoch 64/100\n",
            "2/2 [==============================] - 1s 603ms/step - loss: 0.0140 - val_loss: 0.0088\n",
            "Epoch 65/100\n",
            "2/2 [==============================] - 1s 547ms/step - loss: 0.0143 - val_loss: 0.0087\n",
            "Epoch 66/100\n",
            "2/2 [==============================] - 1s 609ms/step - loss: 0.0142 - val_loss: 0.0083\n",
            "Epoch 67/100\n",
            "2/2 [==============================] - 0s 439ms/step - loss: 0.0138 - val_loss: 0.0079\n",
            "Epoch 68/100\n",
            "2/2 [==============================] - 0s 234ms/step - loss: 0.0135 - val_loss: 0.0078\n",
            "Epoch 69/100\n",
            "2/2 [==============================] - 0s 102ms/step - loss: 0.0135 - val_loss: 0.0078\n",
            "Epoch 70/100\n",
            "2/2 [==============================] - 0s 364ms/step - loss: 0.0135 - val_loss: 0.0078\n",
            "Epoch 71/100\n",
            "2/2 [==============================] - 0s 362ms/step - loss: 0.0135 - val_loss: 0.0078\n",
            "Epoch 72/100\n",
            "2/2 [==============================] - 0s 240ms/step - loss: 0.0135 - val_loss: 0.0078\n",
            "Epoch 73/100\n",
            "2/2 [==============================] - 0s 295ms/step - loss: 0.0134 - val_loss: 0.0079\n",
            "Epoch 74/100\n",
            "2/2 [==============================] - 0s 177ms/step - loss: 0.0135 - val_loss: 0.0080\n",
            "Epoch 75/100\n",
            "2/2 [==============================] - 1s 763ms/step - loss: 0.0134 - val_loss: 0.0078\n",
            "Epoch 76/100\n",
            "2/2 [==============================] - 0s 286ms/step - loss: 0.0134 - val_loss: 0.0080\n",
            "Epoch 77/100\n",
            "2/2 [==============================] - 0s 471ms/step - loss: 0.0136 - val_loss: 0.0084\n",
            "Epoch 78/100\n",
            "2/2 [==============================] - 1s 666ms/step - loss: 0.0142 - val_loss: 0.0090\n",
            "Epoch 79/100\n",
            "2/2 [==============================] - 0s 319ms/step - loss: 0.0148 - val_loss: 0.0090\n",
            "Epoch 80/100\n",
            "2/2 [==============================] - 1s 609ms/step - loss: 0.0147 - val_loss: 0.0084\n",
            "Epoch 81/100\n",
            "2/2 [==============================] - 1s 484ms/step - loss: 0.0140 - val_loss: 0.0078\n",
            "Epoch 82/100\n",
            "2/2 [==============================] - 1s 531ms/step - loss: 0.0133 - val_loss: 0.0079\n",
            "Epoch 83/100\n",
            "2/2 [==============================] - 1s 563ms/step - loss: 0.0133 - val_loss: 0.0084\n",
            "Epoch 84/100\n",
            "2/2 [==============================] - 1s 455ms/step - loss: 0.0137 - val_loss: 0.0088\n",
            "Epoch 85/100\n",
            "2/2 [==============================] - 1s 1s/step - loss: 0.0140 - val_loss: 0.0091\n",
            "Epoch 86/100\n",
            "2/2 [==============================] - 1s 1s/step - loss: 0.0143 - val_loss: 0.0092\n",
            "Epoch 87/100\n",
            "2/2 [==============================] - 1s 608ms/step - loss: 0.0143 - val_loss: 0.0084\n",
            "Epoch 88/100\n",
            "2/2 [==============================] - 1s 1s/step - loss: 0.0135 - val_loss: 0.0077\n",
            "Epoch 89/100\n",
            "2/2 [==============================] - 1s 645ms/step - loss: 0.0132 - val_loss: 0.0082\n",
            "Epoch 90/100\n",
            "2/2 [==============================] - 0s 334ms/step - loss: 0.0137 - val_loss: 0.0086\n",
            "Epoch 91/100\n",
            "2/2 [==============================] - 1s 1s/step - loss: 0.0142 - val_loss: 0.0087\n",
            "Epoch 92/100\n",
            "2/2 [==============================] - 1s 632ms/step - loss: 0.0142 - val_loss: 0.0082\n",
            "Epoch 93/100\n",
            "2/2 [==============================] - 1s 966ms/step - loss: 0.0136 - val_loss: 0.0077\n",
            "Epoch 94/100\n",
            "2/2 [==============================] - 1s 528ms/step - loss: 0.0131 - val_loss: 0.0081\n",
            "Epoch 95/100\n",
            "2/2 [==============================] - 1s 621ms/step - loss: 0.0133 - val_loss: 0.0083\n",
            "Epoch 96/100\n",
            "2/2 [==============================] - 0s 265ms/step - loss: 0.0134 - val_loss: 0.0080\n",
            "Epoch 97/100\n",
            "2/2 [==============================] - 0s 145ms/step - loss: 0.0132 - val_loss: 0.0078\n",
            "Epoch 98/100\n",
            "2/2 [==============================] - 0s 338ms/step - loss: 0.0130 - val_loss: 0.0078\n",
            "Epoch 99/100\n",
            "2/2 [==============================] - 1s 620ms/step - loss: 0.0130 - val_loss: 0.0078\n",
            "Epoch 100/100\n",
            "2/2 [==============================] - 1s 641ms/step - loss: 0.0130 - val_loss: 0.0077\n",
            "2/2 [==============================] - 13s 9ms/step\n",
            "1/1 [==============================] - 0s 68ms/step\n"
          ]
        }
      ],
      "source": [
        "x=spark.sql(\"select * from user_count\").toPandas()\n",
        "x\n",
        "# Load your dataset (assuming it's already been converted to a Pandas DataFrame)\n",
        "x2 = x\n",
        "\n",
        "# Normalize the userCount column\n",
        "scaler = MinMaxScaler(feature_range=(0, 1))\n",
        "user_counts_scaled = scaler.fit_transform(x2[['userCount']].values)\n",
        "\n",
        "# Convert to a time series problem\n",
        "def create_dataset(dataset, time_step=1):\n",
        "    dataX, dataY = [], []\n",
        "    for i in range(len(dataset) - time_step - 1):\n",
        "        a = dataset[i:(i + time_step), 0]\n",
        "        dataX.append(a)\n",
        "        dataY.append(dataset[i + time_step, 0])\n",
        "    return np.array(dataX), np.array(dataY)\n",
        "\n",
        "time_step = 3\n",
        "X, y = create_dataset(user_counts_scaled, time_step)\n",
        "X = X.reshape(X.shape[0], X.shape[1], 1)\n",
        "\n",
        "# Split into train and test sets\n",
        "train_size = int(len(X) * 0.7)\n",
        "test_size = len(X) - train_size\n",
        "trainX, testX = X[0:train_size], X[train_size:len(X)]\n",
        "trainY, testY = y[0:train_size], y[train_size:len(y)]\n",
        "\n",
        "# Create the LSTM model\n",
        "model = Sequential()\n",
        "model.add(LSTM(50, return_sequences=True, input_shape=(time_step, 1)))\n",
        "model.add(LSTM(50, return_sequences=False))\n",
        "model.add(Dense(1))\n",
        "model.compile(optimizer='adam', loss='mean_squared_error')\n",
        "\n",
        "# Train the model\n",
        "model.fit(trainX, trainY, validation_data=(testX, testY), epochs=100, batch_size=32, verbose=1)\n",
        "\n",
        "# Make predictions\n",
        "train_predict = model.predict(trainX)\n",
        "test_predict = model.predict(testX)\n",
        "\n",
        "# Inverse transform predictions\n",
        "train_predict = scaler.inverse_transform(train_predict)\n",
        "test_predict = scaler.inverse_transform(test_predict)"
      ]
    },
    {
      "cell_type": "code",
      "execution_count": null,
      "metadata": {
        "colab": {
          "base_uri": "https://localhost:8080/",
          "height": 358
        },
        "id": "9AG3rhnzCVWM",
        "outputId": "d49d5601-3a5f-46da-fca0-304e2874b282"
      },
      "outputs": [
        {
          "data": {
            "image/png": "[encoded data removed]",
            "text/plain": [
              "<Figure size 1200x600 with 1 Axes>"
            ]
          },
          "metadata": {},
          "output_type": "display_data"
        }
      ],
      "source": [
        "# Generate some example data for demonstration purposes\n",
        "# In your actual code, replace these with your real data\n",
        "actual_test_data = scaler.inverse_transform(testY.reshape(-1, 1))\n",
        "predicted_test_data = test_predict\n",
        "\n",
        "# Make sure that the length of actual and predicted data is the same\n",
        "assert len(actual_test_data) == len(predicted_test_data), \"The lengths of actual and predicted data must match.\"\n",
        "\n",
        "# Create an index for the x-axis\n",
        "time_steps = pd.to_datetime(x['windowStart'][train_size:train_size + len(actual_test_data)])\n",
        "\n",
        "# Create the plot\n",
        "plt.figure(figsize=(12, 6))\n",
        "plt.plot(time_steps, actual_test_data, label='Actual Test Data', marker='o')\n",
        "plt.plot(time_steps, predicted_test_data, label='Predicted Test Data', marker='x')\n",
        "\n",
        "# Add title and labels\n",
        "plt.title('Test Data vs Predicted Data')\n",
        "plt.xlabel('Week')\n",
        "plt.ylabel('User Count')\n",
        "\n",
        "# Add a legend to help us differentiate between the two lines\n",
        "plt.legend()\n",
        "\n",
        "# Show the plot\n",
        "plt.show()"
      ]
    },
    {
      "cell_type": "markdown",
      "metadata": {
        "id": "xOqMKT9Y9nnv"
      },
      "source": [
        "**Second Dataset: Count of Session Per Day**"
      ]
    },
    {
      "cell_type": "markdown",
      "metadata": {
        "id": "78CRCJ1R4U8A"
      },
      "source": [
        " This line groups events into sessions per user. A session window is defined by a period of activity followed by inactivity. Here, a new session is started if there's a gap of more than 10 minutes between events. So, if a user is inactive for more than 10 minutes, the next event from that user starts a new session. This grouping operation creates a new session window for each user based on their activity."
      ]
    },
    {
      "cell_type": "code",
      "execution_count": null,
      "metadata": {
        "id": "6l4_vnHBvQPy"
      },
      "outputs": [],
      "source": [
        "# Using window for sessionization along with user grouping\n",
        "sessionized = df.groupBy(\n",
        "    session_window(df.interactionTimestamp, \"10 minutes\"),  # 10-minute windows for sessionization\n",
        "    col(\"userId\")\n",
        ").agg(\n",
        "    F.count(\"*\").alias(\"interactionsCount\")  # Count interactions per session per user\n",
        ").select(\"session_window\")\n",
        "\n",
        "\n",
        "sessionsPerDay = sessionized.withColumn(\n",
        "    \"sessionDate\",\n",
        "    date_format(col(\"session_window\").start, \"yyyy-MM-dd\")  # Format the start time of window as date\n",
        ").groupBy(\n",
        "    \"sessionDate\"\n",
        ").agg(F.count(\"*\").alias(\"sessionsPerDay\")  # Sum interactions to get total per day\n",
        ").orderBy(\"sessionDate\", ascending=True)"
      ]
    },
    {
      "cell_type": "code",
      "execution_count": null,
      "metadata": {
        "id": "2MJpIn_3vx53"
      },
      "outputs": [],
      "source": [
        "query_test = sessionsPerDay \\\n",
        "    .writeStream \\\n",
        "    .outputMode(\"complete\") \\\n",
        "    .format(\"memory\") \\\n",
        "    .queryName(\"test\") \\\n",
        "    .start()"
      ]
    },
    {
      "cell_type": "code",
      "execution_count": null,
      "metadata": {
        "id": "bZW18mrSSNpC"
      },
      "outputs": [],
      "source": [
        "xsession=spark.sql(\"select * from test\")"
      ]
    },
    {
      "cell_type": "code",
      "execution_count": null,
      "metadata": {
        "colab": {
          "base_uri": "https://localhost:8080/",
          "height": 1000
        },
        "id": "Fl5Z0Fk0VEOa",
        "outputId": "eb8c9fca-041e-46f0-d7de-358df83c27ad"
      },
      "outputs": [
        {
          "name": "stdout",
          "output_type": "stream",
          "text": [
            "Epoch 1/100\n",
            "8/8 [==============================] - 75s 2s/step - loss: 0.3101 - val_loss: 0.2066\n",
            "Epoch 2/100\n",
            "8/8 [==============================] - 1s 81ms/step - loss: 0.1683 - val_loss: 0.0784\n",
            "Epoch 3/100\n",
            "8/8 [==============================] - 1s 86ms/step - loss: 0.0500 - val_loss: 0.0286\n",
            "Epoch 4/100\n",
            "8/8 [==============================] - 1s 120ms/step - loss: 0.0395 - val_loss: 0.0399\n",
            "Epoch 5/100\n",
            "8/8 [==============================] - 1s 109ms/step - loss: 0.0313 - val_loss: 0.0258\n",
            "Epoch 6/100\n",
            "8/8 [==============================] - 1s 134ms/step - loss: 0.0295 - val_loss: 0.0276\n",
            "Epoch 7/100\n",
            "8/8 [==============================] - 0s 49ms/step - loss: 0.0302 - val_loss: 0.0256\n",
            "Epoch 8/100\n",
            "8/8 [==============================] - 1s 191ms/step - loss: 0.0279 - val_loss: 0.0264\n",
            "Epoch 9/100\n",
            "8/8 [==============================] - 1s 114ms/step - loss: 0.0284 - val_loss: 0.0260\n",
            "Epoch 10/100\n",
            "8/8 [==============================] - 1s 195ms/step - loss: 0.0277 - val_loss: 0.0253\n",
            "Epoch 11/100\n",
            "8/8 [==============================] - 1s 159ms/step - loss: 0.0279 - val_loss: 0.0253\n",
            "Epoch 12/100\n",
            "8/8 [==============================] - 1s 81ms/step - loss: 0.0281 - val_loss: 0.0254\n",
            "Epoch 13/100\n",
            "8/8 [==============================] - 1s 117ms/step - loss: 0.0276 - val_loss: 0.0252\n",
            "Epoch 14/100\n",
            "8/8 [==============================] - 1s 123ms/step - loss: 0.0276 - val_loss: 0.0252\n",
            "Epoch 15/100\n",
            "8/8 [==============================] - 1s 117ms/step - loss: 0.0276 - val_loss: 0.0251\n",
            "Epoch 16/100\n",
            "8/8 [==============================] - 1s 102ms/step - loss: 0.0275 - val_loss: 0.0251\n",
            "Epoch 17/100\n",
            "8/8 [==============================] - 1s 136ms/step - loss: 0.0274 - val_loss: 0.0252\n",
            "Epoch 18/100\n",
            "8/8 [==============================] - 1s 100ms/step - loss: 0.0276 - val_loss: 0.0251\n",
            "Epoch 19/100\n",
            "8/8 [==============================] - 0s 47ms/step - loss: 0.0274 - val_loss: 0.0253\n",
            "Epoch 20/100\n",
            "8/8 [==============================] - 1s 81ms/step - loss: 0.0275 - val_loss: 0.0248\n",
            "Epoch 21/100\n",
            "8/8 [==============================] - 1s 141ms/step - loss: 0.0272 - val_loss: 0.0251\n",
            "Epoch 22/100\n",
            "8/8 [==============================] - 1s 110ms/step - loss: 0.0273 - val_loss: 0.0256\n",
            "Epoch 23/100\n",
            "8/8 [==============================] - 1s 103ms/step - loss: 0.0271 - val_loss: 0.0248\n",
            "Epoch 24/100\n",
            "8/8 [==============================] - 2s 214ms/step - loss: 0.0272 - val_loss: 0.0247\n",
            "Epoch 25/100\n",
            "8/8 [==============================] - 2s 253ms/step - loss: 0.0271 - val_loss: 0.0248\n",
            "Epoch 26/100\n",
            "8/8 [==============================] - 1s 166ms/step - loss: 0.0270 - val_loss: 0.0248\n",
            "Epoch 27/100\n",
            "8/8 [==============================] - 1s 149ms/step - loss: 0.0269 - val_loss: 0.0246\n",
            "Epoch 28/100\n",
            "8/8 [==============================] - 1s 199ms/step - loss: 0.0270 - val_loss: 0.0247\n",
            "Epoch 29/100\n",
            "8/8 [==============================] - 0s 63ms/step - loss: 0.0271 - val_loss: 0.0248\n",
            "Epoch 30/100\n",
            "8/8 [==============================] - 0s 34ms/step - loss: 0.0268 - val_loss: 0.0244\n",
            "Epoch 31/100\n",
            "8/8 [==============================] - 0s 48ms/step - loss: 0.0270 - val_loss: 0.0249\n",
            "Epoch 32/100\n",
            "8/8 [==============================] - 1s 79ms/step - loss: 0.0268 - val_loss: 0.0245\n",
            "Epoch 33/100\n",
            "8/8 [==============================] - 1s 82ms/step - loss: 0.0268 - val_loss: 0.0246\n",
            "Epoch 34/100\n",
            "8/8 [==============================] - 0s 50ms/step - loss: 0.0268 - val_loss: 0.0244\n",
            "Epoch 35/100\n",
            "8/8 [==============================] - 0s 48ms/step - loss: 0.0267 - val_loss: 0.0245\n",
            "Epoch 36/100\n",
            "8/8 [==============================] - 0s 38ms/step - loss: 0.0267 - val_loss: 0.0244\n",
            "Epoch 37/100\n",
            "8/8 [==============================] - 1s 130ms/step - loss: 0.0267 - val_loss: 0.0246\n",
            "Epoch 38/100\n",
            "8/8 [==============================] - 1s 109ms/step - loss: 0.0266 - val_loss: 0.0243\n",
            "Epoch 39/100\n",
            "8/8 [==============================] - 1s 110ms/step - loss: 0.0266 - val_loss: 0.0244\n",
            "Epoch 40/100\n",
            "8/8 [==============================] - 0s 40ms/step - loss: 0.0266 - val_loss: 0.0248\n",
            "Epoch 41/100\n",
            "8/8 [==============================] - 0s 33ms/step - loss: 0.0266 - val_loss: 0.0244\n",
            "Epoch 42/100\n",
            "8/8 [==============================] - 0s 41ms/step - loss: 0.0265 - val_loss: 0.0242\n",
            "Epoch 43/100\n",
            "8/8 [==============================] - 0s 42ms/step - loss: 0.0269 - val_loss: 0.0242\n",
            "Epoch 44/100\n",
            "8/8 [==============================] - 1s 88ms/step - loss: 0.0270 - val_loss: 0.0253\n",
            "Epoch 45/100\n",
            "8/8 [==============================] - 1s 94ms/step - loss: 0.0267 - val_loss: 0.0241\n",
            "Epoch 46/100\n",
            "8/8 [==============================] - 0s 62ms/step - loss: 0.0270 - val_loss: 0.0241\n",
            "Epoch 47/100\n",
            "8/8 [==============================] - 0s 59ms/step - loss: 0.0264 - val_loss: 0.0247\n",
            "Epoch 48/100\n",
            "8/8 [==============================] - 1s 140ms/step - loss: 0.0266 - val_loss: 0.0243\n",
            "Epoch 49/100\n",
            "8/8 [==============================] - 1s 141ms/step - loss: 0.0268 - val_loss: 0.0240\n",
            "Epoch 50/100\n",
            "8/8 [==============================] - 1s 204ms/step - loss: 0.0267 - val_loss: 0.0245\n",
            "Epoch 51/100\n",
            "8/8 [==============================] - 1s 136ms/step - loss: 0.0267 - val_loss: 0.0240\n",
            "Epoch 52/100\n",
            "8/8 [==============================] - 1s 169ms/step - loss: 0.0263 - val_loss: 0.0248\n",
            "Epoch 53/100\n",
            "8/8 [==============================] - 1s 99ms/step - loss: 0.0266 - val_loss: 0.0241\n",
            "Epoch 54/100\n",
            "8/8 [==============================] - 1s 124ms/step - loss: 0.0263 - val_loss: 0.0243\n",
            "Epoch 55/100\n",
            "8/8 [==============================] - 1s 66ms/step - loss: 0.0263 - val_loss: 0.0246\n",
            "Epoch 56/100\n",
            "8/8 [==============================] - 0s 60ms/step - loss: 0.0264 - val_loss: 0.0240\n",
            "Epoch 57/100\n",
            "8/8 [==============================] - 1s 113ms/step - loss: 0.0264 - val_loss: 0.0241\n",
            "Epoch 58/100\n",
            "8/8 [==============================] - 1s 75ms/step - loss: 0.0263 - val_loss: 0.0240\n",
            "Epoch 59/100\n",
            "8/8 [==============================] - 1s 80ms/step - loss: 0.0264 - val_loss: 0.0246\n",
            "Epoch 60/100\n",
            "8/8 [==============================] - 1s 152ms/step - loss: 0.0262 - val_loss: 0.0239\n",
            "Epoch 61/100\n",
            "8/8 [==============================] - 1s 79ms/step - loss: 0.0263 - val_loss: 0.0241\n",
            "Epoch 62/100\n",
            "8/8 [==============================] - 1s 100ms/step - loss: 0.0262 - val_loss: 0.0242\n",
            "Epoch 63/100\n",
            "8/8 [==============================] - 1s 83ms/step - loss: 0.0264 - val_loss: 0.0242\n",
            "Epoch 64/100\n",
            "8/8 [==============================] - 1s 70ms/step - loss: 0.0264 - val_loss: 0.0239\n",
            "Epoch 65/100\n",
            "8/8 [==============================] - 1s 113ms/step - loss: 0.0263 - val_loss: 0.0239\n",
            "Epoch 66/100\n",
            "8/8 [==============================] - 1s 136ms/step - loss: 0.0262 - val_loss: 0.0241\n",
            "Epoch 67/100\n",
            "8/8 [==============================] - 1s 118ms/step - loss: 0.0264 - val_loss: 0.0245\n",
            "Epoch 68/100\n",
            "8/8 [==============================] - 1s 79ms/step - loss: 0.0263 - val_loss: 0.0238\n",
            "Epoch 69/100\n",
            "8/8 [==============================] - 1s 124ms/step - loss: 0.0262 - val_loss: 0.0243\n",
            "Epoch 70/100\n",
            "8/8 [==============================] - 1s 147ms/step - loss: 0.0262 - val_loss: 0.0240\n",
            "Epoch 71/100\n",
            "8/8 [==============================] - 1s 135ms/step - loss: 0.0261 - val_loss: 0.0243\n",
            "Epoch 72/100\n",
            "8/8 [==============================] - 1s 176ms/step - loss: 0.0262 - val_loss: 0.0244\n",
            "Epoch 73/100\n",
            "8/8 [==============================] - 0s 48ms/step - loss: 0.0263 - val_loss: 0.0238\n",
            "Epoch 74/100\n",
            "8/8 [==============================] - 1s 110ms/step - loss: 0.0264 - val_loss: 0.0245\n",
            "Epoch 75/100\n",
            "8/8 [==============================] - 1s 165ms/step - loss: 0.0262 - val_loss: 0.0238\n",
            "Epoch 76/100\n",
            "8/8 [==============================] - 0s 45ms/step - loss: 0.0262 - val_loss: 0.0240\n",
            "Epoch 77/100\n",
            "8/8 [==============================] - 1s 84ms/step - loss: 0.0261 - val_loss: 0.0243\n",
            "Epoch 78/100\n",
            "8/8 [==============================] - 0s 65ms/step - loss: 0.0264 - val_loss: 0.0241\n",
            "Epoch 79/100\n",
            "8/8 [==============================] - 1s 94ms/step - loss: 0.0262 - val_loss: 0.0237\n",
            "Epoch 80/100\n",
            "8/8 [==============================] - 1s 103ms/step - loss: 0.0260 - val_loss: 0.0246\n",
            "Epoch 81/100\n",
            "8/8 [==============================] - 1s 136ms/step - loss: 0.0265 - val_loss: 0.0242\n",
            "Epoch 82/100\n",
            "8/8 [==============================] - 1s 75ms/step - loss: 0.0270 - val_loss: 0.0237\n",
            "Epoch 83/100\n",
            "8/8 [==============================] - 1s 131ms/step - loss: 0.0261 - val_loss: 0.0250\n",
            "Epoch 84/100\n",
            "8/8 [==============================] - 1s 140ms/step - loss: 0.0265 - val_loss: 0.0237\n",
            "Epoch 85/100\n",
            "8/8 [==============================] - 0s 61ms/step - loss: 0.0264 - val_loss: 0.0245\n",
            "Epoch 86/100\n",
            "8/8 [==============================] - 1s 111ms/step - loss: 0.0264 - val_loss: 0.0239\n",
            "Epoch 87/100\n",
            "8/8 [==============================] - 0s 62ms/step - loss: 0.0263 - val_loss: 0.0237\n",
            "Epoch 88/100\n",
            "8/8 [==============================] - 0s 58ms/step - loss: 0.0260 - val_loss: 0.0242\n",
            "Epoch 89/100\n",
            "8/8 [==============================] - 1s 112ms/step - loss: 0.0264 - val_loss: 0.0241\n",
            "Epoch 90/100\n",
            "8/8 [==============================] - 1s 144ms/step - loss: 0.0261 - val_loss: 0.0238\n",
            "Epoch 91/100\n",
            "8/8 [==============================] - 1s 171ms/step - loss: 0.0260 - val_loss: 0.0240\n",
            "Epoch 92/100\n",
            "8/8 [==============================] - 1s 182ms/step - loss: 0.0260 - val_loss: 0.0241\n",
            "Epoch 93/100\n",
            "8/8 [==============================] - 1s 142ms/step - loss: 0.0261 - val_loss: 0.0240\n",
            "Epoch 94/100\n",
            "8/8 [==============================] - 2s 230ms/step - loss: 0.0261 - val_loss: 0.0239\n",
            "Epoch 95/100\n",
            "8/8 [==============================] - 1s 141ms/step - loss: 0.0261 - val_loss: 0.0241\n",
            "Epoch 96/100\n",
            "8/8 [==============================] - 0s 56ms/step - loss: 0.0261 - val_loss: 0.0237\n",
            "Epoch 97/100\n",
            "8/8 [==============================] - 1s 110ms/step - loss: 0.0263 - val_loss: 0.0239\n",
            "Epoch 98/100\n",
            "8/8 [==============================] - 1s 110ms/step - loss: 0.0261 - val_loss: 0.0238\n",
            "Epoch 99/100\n",
            "8/8 [==============================] - 1s 98ms/step - loss: 0.0261 - val_loss: 0.0239\n",
            "Epoch 100/100\n",
            "8/8 [==============================] - 1s 138ms/step - loss: 0.0260 - val_loss: 0.0243\n",
            "8/8 [==============================] - 12s 21ms/step\n",
            "4/4 [==============================] - 0s 52ms/step\n"
          ]
        },
        {
          "data": {
            "image/png": "[encoded data removed]",
            "text/plain": [
              "<Figure size 1200x600 with 1 Axes>"
            ]
          },
          "metadata": {},
          "output_type": "display_data"
        }
      ],
      "source": [
        "xsessionp=xsession.toPandas()\n",
        "\n",
        "# Assuming xsession is a Spark DataFrame with a column 'windowStart' for dates\n",
        "xsessionp = xsession.toPandas()\n",
        "\n",
        "# Normalize the userCount column\n",
        "scaler = MinMaxScaler(feature_range=(0, 1))\n",
        "user_counts_scaled = scaler.fit_transform(xsessionp[['sessionsPerDay']].values)\n",
        "\n",
        "# Convert to a time series problem\n",
        "def create_dataset(dataset, time_step=1):\n",
        "    dataX, dataY = [], []\n",
        "    for i in range(len(dataset) - time_step):\n",
        "        a = dataset[i:(i + time_step), 0]\n",
        "        dataX.append(a)\n",
        "        dataY.append(dataset[i + time_step, 0])\n",
        "    return np.array(dataX), np.array(dataY)\n",
        "\n",
        "time_step = 3\n",
        "X, y = create_dataset(user_counts_scaled, time_step)\n",
        "X = X.reshape(X.shape[0], X.shape[1], 1)\n",
        "\n",
        "# Split into train and test sets\n",
        "train_size = int(len(X) * 0.67)\n",
        "test_size = len(X) - train_size\n",
        "trainX, testX = X[0:train_size], X[train_size:]\n",
        "trainY, testY = y[0:train_size], y[train_size:]\n",
        "\n",
        "# Create the LSTM model\n",
        "model = Sequential()\n",
        "model.add(LSTM(50, return_sequences=True, input_shape=(time_step, 1)))\n",
        "model.add(LSTM(50, return_sequences=False))\n",
        "model.add(Dense(1))\n",
        "model.compile(optimizer='adam', loss='mean_squared_error')\n",
        "\n",
        "# Train the model\n",
        "model.fit(trainX, trainY, validation_data=(testX, testY), epochs=100, batch_size=32, verbose=1)\n",
        "\n",
        "# Make predictions\n",
        "train_predict = model.predict(trainX)\n",
        "test_predict = model.predict(testX)\n",
        "\n",
        "# Inverse transform predictions\n",
        "train_predict = scaler.inverse_transform(train_predict)\n",
        "test_predict = scaler.inverse_transform(test_predict)\n",
        "\n",
        "actual_test_data = scaler.inverse_transform(testY.reshape(-1, 1))\n",
        "predicted_test_data = test_predict\n",
        "\n",
        "assert len(actual_test_data) == len(predicted_test_data), \"The lengths of actual and predicted data must match.\"\n",
        "\n",
        "# Adjust time_steps generation\n",
        "if 'windowStart' in xsessionp.columns:\n",
        "    time_steps = pd.to_datetime(xsessionp['windowStart'][train_size+time_step:train_size+time_step+len(actual_test_data)])\n",
        "else:\n",
        "    # Generate placeholder dates starting in 2024 if windowStart is missing\n",
        "    time_steps = pd.date_range(start='1/1/2024', periods=len(actual_test_data), freq='D')\n",
        "\n",
        "plt.figure(figsize=(12, 6))\n",
        "plt.plot(time_steps, actual_test_data, label='Actual Test Data', marker='o')\n",
        "plt.plot(time_steps, predicted_test_data, label='Predicted Test Data', marker='x')\n",
        "plt.title('Test Data vs Predicted Data')\n",
        "plt.xlabel('Days')\n",
        "plt.ylabel('User Count')\n",
        "plt.legend()\n",
        "plt.show()"
      ]
    },
    {
      "cell_type": "markdown",
      "metadata": {
        "id": "c7MlmT21UfVr"
      },
      "source": [
        "#### Subanalysis 2:  Fraud Messages and Heavy Users"
      ]
    },
    {
      "cell_type": "markdown",
      "metadata": {
        "id": "XbgDtyxSfi0u"
      },
      "source": [
        "##### Heavy Free Users"
      ]
    },
    {
      "cell_type": "markdown",
      "metadata": {
        "id": "EsEc51iXgGTK"
      },
      "source": [
        "When the user is in the top 5 %, then he is considered as a potential user."
      ]
    },
    {
      "cell_type": "code",
      "execution_count": null,
      "metadata": {
        "id": "bEr01KqOMgwL"
      },
      "outputs": [],
      "source": [
        "time.sleep(60)"
      ]
    },
    {
      "cell_type": "code",
      "execution_count": null,
      "metadata": {
        "id": "KXK_BFNOWLVy"
      },
      "outputs": [],
      "source": [
        "sessionizedCounts = df.filter(df.subscriptionType == \"Free\") \\\n",
        "    .groupBy(F.session_window(col(\"interactionTimestamp\"), \"10 minutes\"), col(\"userId\")) \\\n",
        "    .agg(F.count(\"userId\").alias(\"distinct_sessions\"))\n",
        "\n",
        "# Extract the start week from the session window for each session\n",
        "sessionsPerWeek = sessionizedCounts.withColumn(\n",
        "    \"startWeek\",\n",
        "    weekofyear(col(\"session_window\").start)\n",
        ").groupBy(\n",
        "    \"startWeek\", \"userId\"\n",
        ").agg(\n",
        "    F.count(\"distinct_sessions\").alias(\"sessionsPerWeek\")\n",
        ").orderBy(\"sessionsPerWeek\", ascending=False)\n",
        "\n",
        "\n",
        "query_user_count_per_session = sessionsPerWeek \\\n",
        "    .writeStream \\\n",
        "    .outputMode(\"complete\") \\\n",
        "    .format(\"memory\") \\\n",
        "    .queryName(\"user_count_session3\") \\\n",
        "    .start()"
      ]
    },
    {
      "cell_type": "code",
      "execution_count": null,
      "metadata": {
        "id": "powNbWbpc87j"
      },
      "outputs": [],
      "source": [
        "sqlquery=\"SELECT * FROM user_count_session3\"\n",
        "sqlquery=\"\"\"\n",
        "SELECT userId, percentile\n",
        "FROM (\n",
        "    SELECT userId,\n",
        "           PERCENT_RANK() OVER (PARTITION BY startWeek ORDER BY sessionsPerWeek DESC) AS percentile\n",
        "    FROM user_count_session3\n",
        ") tmp\n",
        "ORDER BY percentile DESC\n",
        "LIMIT 10\n",
        "\"\"\""
      ]
    },
    {
      "cell_type": "code",
      "execution_count": null,
      "metadata": {
        "colab": {
          "base_uri": "https://localhost:8080/"
        },
        "id": "-x8k1l_tUOuB",
        "outputId": "f8c17131-4f27-40d3-a33a-7fab59b1087d"
      },
      "outputs": [
        {
          "name": "stdout",
          "output_type": "stream",
          "text": [
            "+--------------------+------------------+\n",
            "|              userId|        percentile|\n",
            "+--------------------+------------------+\n",
            "|f910edde-1bcb-476...|0.9880952380952381|\n",
            "|1d2dcfce-8cd1-4b7...|0.9880952380952381|\n",
            "|6bf6731b-9f02-4d0...|0.9880952380952381|\n",
            "|c1a259cc-b38a-40c...|0.9515151515151515|\n",
            "|81e606e1-4dbc-499...|0.9515151515151515|\n",
            "|291d1431-e665-408...|0.9515151515151515|\n",
            "|f6c0224e-70a8-4c6...|0.9515151515151515|\n",
            "|d3ac0f67-50d2-4c9...|0.9515151515151515|\n",
            "|0b92342e-020f-4c6...|0.9515151515151515|\n",
            "|324de6a3-a6ec-4e9...|0.9515151515151515|\n",
            "+--------------------+------------------+\n",
            "\n"
          ]
        }
      ],
      "source": [
        "heavyuser=spark.sql(sqlquery)\n",
        "heavyuser.show(10)"
      ]
    },
    {
      "cell_type": "code",
      "execution_count": null,
      "metadata": {
        "id": "hSJXCe1IZiGt"
      },
      "outputs": [],
      "source": [
        "heavyuserdf=heavyuser.toPandas()"
      ]
    },
    {
      "cell_type": "code",
      "execution_count": null,
      "metadata": {
        "colab": {
          "base_uri": "https://localhost:8080/",
          "height": 692
        },
        "id": "Eh7Yl4T9bTi3",
        "outputId": "d7118fbd-ef65-47ba-daca-32a1e25d33be"
      },
      "outputs": [
        {
          "name": "stdout",
          "output_type": "stream",
          "text": [
            "  userId  percentile\n",
            "0  User1        0.99\n",
            "1  User2        0.99\n",
            "2  User3        0.99\n",
            "3  User4        0.95\n",
            "4  User5        0.95\n"
          ]
        },
        {
          "data": {
            "image/png": "[encoded data removed]",
            "text/plain": [
              "<Figure size 1000x600 with 1 Axes>"
            ]
          },
          "metadata": {},
          "output_type": "display_data"
        }
      ],
      "source": [
        "# Assuming 'heavyuserdf' is your pandas DataFrame.\n",
        "# Reset the index of the DataFrame to make sure it starts from 0.\n",
        "heavyuserdf.reset_index(drop=True, inplace=True)\n",
        "\n",
        "# Create the 'usersimple' column by concatenating 'User' with the index + 1.\n",
        "heavyuserdf['userId'] = 'User' + (heavyuserdf.index + 1).astype(str)\n",
        "heavyuserdf.head(10)\n",
        "heavyuserdf['percentile']=heavyuserdf['percentile']\n",
        "heavyuserdf['percentile'] = heavyuserdf['percentile'].round(2)\n",
        "print(heavyuserdf.head())\n",
        "\n",
        "colors = ['green' if x > 0.98 else 'grey' for x in heavyuserdf['percentile']]\n",
        "\n",
        "# Creating the bar chart\n",
        "plt.figure(figsize=(10, 6)) # Adjust the size as needed\n",
        "plt.bar(heavyuserdf['userId'], heavyuserdf['percentile'], color=colors)\n",
        "\n",
        "# Adding names for x and y axis, and a title\n",
        "plt.xlabel('User ID')\n",
        "plt.ylabel('Percentile')\n",
        "plt.title('User Percentile Distribution')\n",
        "\n",
        "# Improving the x-axis labels to better fit, especially if you have many userIds\n",
        "plt.xticks(rotation=45, ha=\"right\")\n",
        "\n",
        "plt.tight_layout() # Adjusts subplot params to give some padding\n",
        "plt.show()"
      ]
    },
    {
      "cell_type": "code",
      "execution_count": null,
      "metadata": {
        "id": "esh-nUw4WWjc"
      },
      "outputs": [],
      "source": [
        "account_name = 'iesststreamanalytics0001'\n",
        "account_key = 'pG+SGulHMre57nd0bG2OAzTXp22VyBprS6alDDqem+1DHQWrucMuOriS7i+ZJ46PwPKNjHcIQJH7+AStY1E/tQ=='\n",
        "username = 'dtroje'\n",
        "\n",
        "# The use of `.format()` is unnecessary here as you're using f-string already\n",
        "connection_string = f\"DefaultEndpointsProtocol=https;AccountName={account_name};AccountKey={account_key};EndpointSuffix=core.windows.net\"\n",
        "\n",
        "queues1 = f\"{username}-heavyfreeuser\"\n",
        "\n",
        "queue_service_client = QueueServiceClient.from_connection_string(conn_str=connection_string)\n",
        "\n",
        "try:\n",
        "    queue_service_client.create_queue(queues1)\n",
        "except ResourceExistsError:\n",
        "    print(f\"{queues1} already exists!.\")\n",
        "else:\n",
        "    print(f\"{queues1} created!.\")"
      ]
    },
    {
      "cell_type": "code",
      "execution_count": null,
      "metadata": {
        "id": "ALnhGrQsWjS0"
      },
      "outputs": [],
      "source": [
        "# Define your schema with the appropriate fields\n",
        "schema = {\n",
        "    \"doc\": \"User Count Data\",\n",
        "    \"name\": \"UserData\",\n",
        "    \"namespace\": \"com.example.userdata\",\n",
        "    \"type\": \"record\",\n",
        "    \"fields\": [\n",
        "        {\"name\": \"userId\", \"type\":  \"string\"},\n",
        "        {\"name\": \"percentile\", \"type\": \"double\"}\n",
        "    ]\n",
        "}\n",
        "\n",
        "# Assuming parse_schema is a function that parses the schema for use in serialization\n",
        "# Here it should be from fastavro\n",
        "parsed_updated_schema = fastavro.parse_schema(schema)\n",
        "\n",
        "# Create the queue client\n",
        "queue_client = QueueClient.from_connection_string(conn_str=connection_string, queue_name=queues1)\n",
        "\n",
        "# Serialize and send each row of the DataFrame to the Azure Queue\n",
        "for row in heavyuser.collect():\n",
        "    # Convert row to dictionary\n",
        "    record = {'userId': row['userId'], 'percentile': row['percentile']}\n",
        "\n",
        "    # Serialize record using Avro schema\n",
        "    bytes_writer = io.BytesIO()\n",
        "    fastavro.schemaless_writer(bytes_writer, parsed_updated_schema, record)\n",
        "\n",
        "    # Get the bytes value of the serialized data\n",
        "    serialized_record = bytes_writer.getvalue()\n",
        "\n",
        "    # Convert the serialized data to base64 string as Azure Queue Message need to be in this format\n",
        "    encoded_message = base64.b64encode(serialized_record).decode()\n",
        "\n",
        "    # Send message to the queue\n",
        "    try:\n",
        "        queue_client.send_message(encoded_message)\n",
        "        print(f\"Message for user {record['userId']} sent to the queue.\")\n",
        "    except Exception as e:\n",
        "        print(f\"An error occurred while sending message to the queue: {str(e)}\")"
      ]
    },
    {
      "cell_type": "markdown",
      "metadata": {
        "id": "Zpv2kIOiEwvc"
      },
      "source": [
        "##### Fraud message\n",
        "We do the interaction of each user per week joined with the interaction of teh toatal user in this week. We divide both. We get the % of each user of the total interaction per week. If an user has a huge proportion than a normal threshold then it should be flagged."
      ]
    },
    {
      "cell_type": "code",
      "execution_count": null,
      "metadata": {
        "id": "PmSj9Vh796hE"
      },
      "outputs": [],
      "source": [
        "# Your existing query remains largely the same, but let's also compute the total interactions per window.\n",
        "# This part remains unchanged\n",
        "query_global_user = (\n",
        "    df.select(\"userID\", \"interactionTimestamp\")\\\n",
        "    .groupBy(\"userID\", F.window(\"interactionTimestamp\", \"10080 minute\"))\\\n",
        "    .count()\\\n",
        "    .withColumnRenamed('count', 'userCount')\n",
        ")\n",
        "\n",
        "# Calculate the total interactions per window for all users.\n",
        "total_interactions_per_window = (df.select(\"userID\", \"interactionTimestamp\")\n",
        "    .groupBy(F.window(\"interactionTimestamp\", \"10080 minute\"))\n",
        "    .count()\n",
        "    .withColumnRenamed('count', 'totalInteractions')\n",
        "    .withColumnRenamed('window', 'window1')  # Renaming for clarity # Renaming for clarity in subsequent operations)\n",
        ")"
      ]
    },
    {
      "cell_type": "code",
      "execution_count": null,
      "metadata": {
        "id": "7_1JRgZXvJse"
      },
      "outputs": [],
      "source": [
        "total_interactions_per_w=(total_interactions_per_window\n",
        ".writeStream\n",
        ".format (\"memory\")\n",
        ".outputMode (\"update\" )\n",
        ".queryName (\"join_demo_05\")\n",
        ".start())\n",
        "\n",
        "total__per_window=(query_global_user\n",
        ".writeStream\n",
        ".format (\"memory\")\n",
        ".outputMode (\"update\" )\n",
        ".queryName (\"join_demo_07\")\n",
        ".start())"
      ]
    },
    {
      "cell_type": "code",
      "execution_count": null,
      "metadata": {
        "id": "lWd9zkQKzGiX"
      },
      "outputs": [],
      "source": [
        "join_query = \"\"\"\n",
        "SELECT j07.userID,\n",
        "       ROUND((j07.userCount / j05.totalInteractions),6) AS percentage_activity\n",
        "FROM join_demo_05 j05\n",
        "INNER JOIN join_demo_07 j07\n",
        "ON j05.window1.start = j07.window.start AND\n",
        "   j05.window1.end = j07.window.end\n",
        "ORDER BY percentage_activity DESC\n",
        "LIMIT 10\n",
        "\"\"\""
      ]
    },
    {
      "cell_type": "code",
      "execution_count": null,
      "metadata": {
        "colab": {
          "base_uri": "https://localhost:8080/"
        },
        "id": "bTzQECX5vSGX",
        "outputId": "bc909692-3536-4e8d-bbe5-67e143c0a587"
      },
      "outputs": [
        {
          "name": "stdout",
          "output_type": "stream",
          "text": [
            "+------------------------------------+-------------------+\n",
            "|userID                              |percentage_activity|\n",
            "+------------------------------------+-------------------+\n",
            "|dc4c9de4-4e50-40e2-8e1e-644df23c5611|0.909091           |\n",
            "|b258e1bb-1664-49f3-af1c-e76904cd6777|0.872727           |\n",
            "|a64d104d-81be-466a-a045-a185ca2299f7|0.818182           |\n",
            "|d775cf2f-feca-4236-b4d6-a1e97a9ef517|0.8                |\n",
            "|cf51e8d7-e935-46d1-8405-71527623d699|0.727273           |\n",
            "|37762bec-5b41-45ad-9631-a4971365fef1|0.709091           |\n",
            "|79a0ff8b-d884-4a02-91b2-65a477390857|0.654545           |\n",
            "|02df3968-3455-4045-8e96-384b03cae312|0.636364           |\n",
            "|79cd7820-b98e-443d-af8c-7e74551ed46f|0.636364           |\n",
            "|327dd4f7-a513-4112-a044-088d6dc05b53|0.6                |\n",
            "+------------------------------------+-------------------+\n",
            "\n"
          ]
        }
      ],
      "source": [
        "joined_df = spark.sql(join_query)\n",
        "joined_df.show(20, truncate=False)"
      ]
    },
    {
      "cell_type": "code",
      "execution_count": null,
      "metadata": {
        "colab": {
          "base_uri": "https://localhost:8080/",
          "height": 201
        },
        "id": "ZYRWlBxNckmR",
        "outputId": "10b6ced9-c371-4e63-8d7e-a578a0c899f6"
      },
      "outputs": [
        {
          "data": {
            "application/vnd.google.colaboratory.intrinsic+json": {
              "summary": "{\n  \"name\": \"frauduserdf\",\n  \"rows\": 10,\n  \"fields\": [\n    {\n      \"column\": \"userID\",\n      \"properties\": {\n        \"dtype\": \"string\",\n        \"num_unique_values\": 10,\n        \"samples\": [\n          \"User9\",\n          \"User2\",\n          \"User6\"\n        ],\n        \"semantic_type\": \"\",\n        \"description\": \"\"\n      }\n    },\n    {\n      \"column\": \"percentage_activity\",\n      \"properties\": {\n        \"dtype\": \"number\",\n        \"std\": 0.10820972435250192,\n        \"min\": 0.6,\n        \"max\": 0.909,\n        \"num_unique_values\": 9,\n        \"samples\": [\n          0.636,\n          0.873,\n          0.709\n        ],\n        \"semantic_type\": \"\",\n        \"description\": \"\"\n      }\n    }\n  ]\n}",
              "type": "dataframe",
              "variable_name": "frauduserdf"
            },
            "text/html": [
              "\n",
              "  <div id=\"df-48e3d522-3e2a-49fa-9b9f-c3309b36a445\" class=\"colab-df-container\">\n",
              "    <div>\n",
              "<style scoped>\n",
              "    .dataframe tbody tr th:only-of-type {\n",
              "        vertical-align: middle;\n",
              "    }\n",
              "\n",
              "    .dataframe tbody tr th {\n",
              "        vertical-align: top;\n",
              "    }\n",
              "\n",
              "    .dataframe thead th {\n",
              "        text-align: right;\n",
              "    }\n",
              "</style>\n",
              "<table border=\"1\" class=\"dataframe\">\n",
              "  <thead>\n",
              "    <tr style=\"text-align: right;\">\n",
              "      <th></th>\n",
              "      <th>userID</th>\n",
              "      <th>percentage_activity</th>\n",
              "    </tr>\n",
              "  </thead>\n",
              "  <tbody>\n",
              "    <tr>\n",
              "      <th>0</th>\n",
              "      <td>User1</td>\n",
              "      <td>0.909</td>\n",
              "    </tr>\n",
              "    <tr>\n",
              "      <th>1</th>\n",
              "      <td>User2</td>\n",
              "      <td>0.873</td>\n",
              "    </tr>\n",
              "    <tr>\n",
              "      <th>2</th>\n",
              "      <td>User3</td>\n",
              "      <td>0.818</td>\n",
              "    </tr>\n",
              "    <tr>\n",
              "      <th>3</th>\n",
              "      <td>User4</td>\n",
              "      <td>0.800</td>\n",
              "    </tr>\n",
              "    <tr>\n",
              "      <th>4</th>\n",
              "      <td>User5</td>\n",
              "      <td>0.727</td>\n",
              "    </tr>\n",
              "  </tbody>\n",
              "</table>\n",
              "</div>\n",
              "    <div class=\"colab-df-buttons\">\n",
              "\n",
              "  <div class=\"colab-df-container\">\n",
              "    <button class=\"colab-df-convert\" onclick=\"convertToInteractive('df-48e3d522-3e2a-49fa-9b9f-c3309b36a445')\"\n",
              "            title=\"Convert this dataframe to an interactive table.\"\n",
              "            style=\"display:none;\">\n",
              "\n",
              "  <svg xmlns=\"http://www.w3.org/2000/svg\" height=\"24px\" viewBox=\"0 -960 960 960\">\n",
              "    <path d=\"M120-120v-720h720v720H120Zm60-500h600v-160H180v160Zm220 220h160v-160H400v160Zm0 220h160v-160H400v160ZM180-400h160v-160H180v160Zm440 0h160v-160H620v160ZM180-180h160v-160H180v160Zm440 0h160v-160H620v160Z\"/>\n",
              "  </svg>\n",
              "    </button>\n",
              "\n",
              "  <style>\n",
              "    .colab-df-container {\n",
              "      display:flex;\n",
              "      gap: 12px;\n",
              "    }\n",
              "\n",
              "    .colab-df-convert {\n",
              "      background-color: #E8F0FE;\n",
              "      border: none;\n",
              "      border-radius: 50%;\n",
              "      cursor: pointer;\n",
              "      display: none;\n",
              "      fill: #1967D2;\n",
              "      height: 32px;\n",
              "      padding: 0 0 0 0;\n",
              "      width: 32px;\n",
              "    }\n",
              "\n",
              "    .colab-df-convert:hover {\n",
              "      background-color: #E2EBFA;\n",
              "      box-shadow: 0px 1px 2px rgba(60, 64, 67, 0.3), 0px 1px 3px 1px rgba(60, 64, 67, 0.15);\n",
              "      fill: #174EA6;\n",
              "    }\n",
              "\n",
              "    .colab-df-buttons div {\n",
              "      margin-bottom: 4px;\n",
              "    }\n",
              "\n",
              "    [theme=dark] .colab-df-convert {\n",
              "      background-color: #3B4455;\n",
              "      fill: #D2E3FC;\n",
              "    }\n",
              "\n",
              "    [theme=dark] .colab-df-convert:hover {\n",
              "      background-color: #434B5C;\n",
              "      box-shadow: 0px 1px 3px 1px rgba(0, 0, 0, 0.15);\n",
              "      filter: drop-shadow(0px 1px 2px rgba(0, 0, 0, 0.3));\n",
              "      fill: #FFFFFF;\n",
              "    }\n",
              "  </style>\n",
              "\n",
              "    <script>\n",
              "      const buttonEl =\n",
              "        document.querySelector('#df-48e3d522-3e2a-49fa-9b9f-c3309b36a445 button.colab-df-convert');\n",
              "      buttonEl.style.display =\n",
              "        google.colab.kernel.accessAllowed ? 'block' : 'none';\n",
              "\n",
              "      async function convertToInteractive(key) {\n",
              "        const element = document.querySelector('#df-48e3d522-3e2a-49fa-9b9f-c3309b36a445');\n",
              "        const dataTable =\n",
              "          await google.colab.kernel.invokeFunction('convertToInteractive',\n",
              "                                                    [key], {});\n",
              "        if (!dataTable) return;\n",
              "\n",
              "        const docLinkHtml = 'Like what you see? Visit the ' +\n",
              "          '<a target=\"_blank\" href=https://colab.research.google.com/notebooks/data_table.ipynb>data table notebook</a>'\n",
              "          + ' to learn more about interactive tables.';\n",
              "        element.innerHTML = '';\n",
              "        dataTable['output_type'] = 'display_data';\n",
              "        await google.colab.output.renderOutput(dataTable, element);\n",
              "        const docLink = document.createElement('div');\n",
              "        docLink.innerHTML = docLinkHtml;\n",
              "        element.appendChild(docLink);\n",
              "      }\n",
              "    </script>\n",
              "  </div>\n",
              "\n",
              "\n",
              "<div id=\"df-86c8324d-4934-42d1-a7bb-13a5044e1ec0\">\n",
              "  <button class=\"colab-df-quickchart\" onclick=\"quickchart('df-86c8324d-4934-42d1-a7bb-13a5044e1ec0')\"\n",
              "            title=\"Suggest charts\"\n",
              "            style=\"display:none;\">\n",
              "\n",
              "<svg xmlns=\"http://www.w3.org/2000/svg\" height=\"24px\"viewBox=\"0 0 24 24\"\n",
              "     width=\"24px\">\n",
              "    <g>\n",
              "        <path d=\"M19 3H5c-1.1 0-2 .9-2 2v14c0 1.1.9 2 2 2h14c1.1 0 2-.9 2-2V5c0-1.1-.9-2-2-2zM9 17H7v-7h2v7zm4 0h-2V7h2v10zm4 0h-2v-4h2v4z\"/>\n",
              "    </g>\n",
              "</svg>\n",
              "  </button>\n",
              "\n",
              "<style>\n",
              "  .colab-df-quickchart {\n",
              "      --bg-color: #E8F0FE;\n",
              "      --fill-color: #1967D2;\n",
              "      --hover-bg-color: #E2EBFA;\n",
              "      --hover-fill-color: #174EA6;\n",
              "      --disabled-fill-color: #AAA;\n",
              "      --disabled-bg-color: #DDD;\n",
              "  }\n",
              "\n",
              "  [theme=dark] .colab-df-quickchart {\n",
              "      --bg-color: #3B4455;\n",
              "      --fill-color: #D2E3FC;\n",
              "      --hover-bg-color: #434B5C;\n",
              "      --hover-fill-color: #FFFFFF;\n",
              "      --disabled-bg-color: #3B4455;\n",
              "      --disabled-fill-color: #666;\n",
              "  }\n",
              "\n",
              "  .colab-df-quickchart {\n",
              "    background-color: var(--bg-color);\n",
              "    border: none;\n",
              "    border-radius: 50%;\n",
              "    cursor: pointer;\n",
              "    display: none;\n",
              "    fill: var(--fill-color);\n",
              "    height: 32px;\n",
              "    padding: 0;\n",
              "    width: 32px;\n",
              "  }\n",
              "\n",
              "  .colab-df-quickchart:hover {\n",
              "    background-color: var(--hover-bg-color);\n",
              "    box-shadow: 0 1px 2px rgba(60, 64, 67, 0.3), 0 1px 3px 1px rgba(60, 64, 67, 0.15);\n",
              "    fill: var(--button-hover-fill-color);\n",
              "  }\n",
              "\n",
              "  .colab-df-quickchart-complete:disabled,\n",
              "  .colab-df-quickchart-complete:disabled:hover {\n",
              "    background-color: var(--disabled-bg-color);\n",
              "    fill: var(--disabled-fill-color);\n",
              "    box-shadow: none;\n",
              "  }\n",
              "\n",
              "  .colab-df-spinner {\n",
              "    border: 2px solid var(--fill-color);\n",
              "    border-color: transparent;\n",
              "    border-bottom-color: var(--fill-color);\n",
              "    animation:\n",
              "      spin 1s steps(1) infinite;\n",
              "  }\n",
              "\n",
              "  @keyframes spin {\n",
              "    0% {\n",
              "      border-color: transparent;\n",
              "      border-bottom-color: var(--fill-color);\n",
              "      border-left-color: var(--fill-color);\n",
              "    }\n",
              "    20% {\n",
              "      border-color: transparent;\n",
              "      border-left-color: var(--fill-color);\n",
              "      border-top-color: var(--fill-color);\n",
              "    }\n",
              "    30% {\n",
              "      border-color: transparent;\n",
              "      border-left-color: var(--fill-color);\n",
              "      border-top-color: var(--fill-color);\n",
              "      border-right-color: var(--fill-color);\n",
              "    }\n",
              "    40% {\n",
              "      border-color: transparent;\n",
              "      border-right-color: var(--fill-color);\n",
              "      border-top-color: var(--fill-color);\n",
              "    }\n",
              "    60% {\n",
              "      border-color: transparent;\n",
              "      border-right-color: var(--fill-color);\n",
              "    }\n",
              "    80% {\n",
              "      border-color: transparent;\n",
              "      border-right-color: var(--fill-color);\n",
              "      border-bottom-color: var(--fill-color);\n",
              "    }\n",
              "    90% {\n",
              "      border-color: transparent;\n",
              "      border-bottom-color: var(--fill-color);\n",
              "    }\n",
              "  }\n",
              "</style>\n",
              "\n",
              "  <script>\n",
              "    async function quickchart(key) {\n",
              "      const quickchartButtonEl =\n",
              "        document.querySelector('#' + key + ' button');\n",
              "      quickchartButtonEl.disabled = true;  // To prevent multiple clicks.\n",
              "      quickchartButtonEl.classList.add('colab-df-spinner');\n",
              "      try {\n",
              "        const charts = await google.colab.kernel.invokeFunction(\n",
              "            'suggestCharts', [key], {});\n",
              "      } catch (error) {\n",
              "        console.error('Error during call to suggestCharts:', error);\n",
              "      }\n",
              "      quickchartButtonEl.classList.remove('colab-df-spinner');\n",
              "      quickchartButtonEl.classList.add('colab-df-quickchart-complete');\n",
              "    }\n",
              "    (() => {\n",
              "      let quickchartButtonEl =\n",
              "        document.querySelector('#df-86c8324d-4934-42d1-a7bb-13a5044e1ec0 button');\n",
              "      quickchartButtonEl.style.display =\n",
              "        google.colab.kernel.accessAllowed ? 'block' : 'none';\n",
              "    })();\n",
              "  </script>\n",
              "</div>\n",
              "    </div>\n",
              "  </div>\n"
            ],
            "text/plain": [
              "  userID  percentage_activity\n",
              "0  User1                0.909\n",
              "1  User2                0.873\n",
              "2  User3                0.818\n",
              "3  User4                0.800\n",
              "4  User5                0.727"
            ]
          },
          "execution_count": 41,
          "metadata": {},
          "output_type": "execute_result"
        }
      ],
      "source": [
        "frauduserdf=joined_df.toPandas()\n",
        "# Assuming 'heavyuserdf' is your pandas DataFrame.\n",
        "# Reset the index of the DataFrame to make sure it starts from 0.\n",
        "frauduserdf.reset_index(drop=True, inplace=True)\n",
        "\n",
        "# Create the 'usersimple' column by concatenating 'User' with the index + 1.\n",
        "frauduserdf['userID'] = 'User' + (frauduserdf.index + 1).astype(str)\n",
        "frauduserdf.head(10)\n",
        "frauduserdf['percentage_activity']=frauduserdf['percentage_activity']\n",
        "frauduserdf['percentage_activity'] = frauduserdf['percentage_activity'].round(3)\n",
        "frauduserdf.head()"
      ]
    },
    {
      "cell_type": "code",
      "execution_count": null,
      "metadata": {
        "colab": {
          "base_uri": "https://localhost:8080/",
          "height": 594
        },
        "id": "Wj-N4RrHe5VG",
        "outputId": "a1ab674e-f774-42af-ea96-51fcb0a94998"
      },
      "outputs": [
        {
          "data": {
            "image/png": "[encoded data removed]",
            "text/plain": [
              "<Figure size 1000x600 with 1 Axes>"
            ]
          },
          "metadata": {},
          "output_type": "display_data"
        }
      ],
      "source": [
        "colors = ['red' if x > 0.85 else 'grey' for x in frauduserdf['percentage_activity']]\n",
        "\n",
        "# Creating the bar chart\n",
        "plt.figure(figsize=(10, 6)) # Adjust the size as needed\n",
        "plt.bar(frauduserdf['userID'], frauduserdf['percentage_activity'], color=colors)\n",
        "\n",
        "# Adding names for x and y axis, and a title\n",
        "plt.xlabel('User ID')\n",
        "plt.ylabel('Percentage of activity')\n",
        "plt.title('User Percentage of activity Distribution')\n",
        "\n",
        "# Improving the x-axis labels to better fit, especially if you have many userIds\n",
        "plt.xticks(rotation=45, ha=\"right\")\n",
        "\n",
        "plt.tight_layout() # Adjusts subplot params to give some padding"
      ]
    },
    {
      "cell_type": "code",
      "execution_count": null,
      "metadata": {
        "id": "m-LpTx5vFZjr"
      },
      "outputs": [],
      "source": [
        "account_name = 'iesststreamanalytics0001'\n",
        "account_key = 'pG+SGulHMre57nd0bG2OAzTXp22VyBprS6alDDqem+1DHQWrucMuOriS7i+ZJ46PwPKNjHcIQJH7+AStY1E/tQ=='\n",
        "username = 'dtroje'\n",
        "\n",
        "# The use of `.format()` is unnecessary here as you're using f-string already\n",
        "connection_string = f\"DefaultEndpointsProtocol=https;AccountName={account_name};AccountKey={account_key};EndpointSuffix=core.windows.net\"\n",
        "\n",
        "queues = f\"{username}-frauduser\"\n",
        "\n",
        "queue_service_client = QueueServiceClient.from_connection_string(conn_str=connection_string)\n",
        "\n",
        "try:\n",
        "    queue_service_client.create_queue(queues)\n",
        "except ResourceExistsError:\n",
        "    print(f\"{queues} already exists!.\")\n",
        "else:\n",
        "    print(f\"{queues} created!.\")"
      ]
    },
    {
      "cell_type": "code",
      "execution_count": null,
      "metadata": {
        "id": "6O0dY5w_PVHQ"
      },
      "outputs": [],
      "source": [
        "# Define your schema with the appropriate fields\n",
        "schema = {\n",
        "    \"doc\": \"User Count Data\",\n",
        "    \"name\": \"UserData\",\n",
        "    \"namespace\": \"com.example.userdata\",\n",
        "    \"type\": \"record\",\n",
        "    \"fields\": [\n",
        "        {\"name\": \"userID\", \"type\":  \"string\"},\n",
        "        {\"name\": \"percentile_activity\", \"type\": \"double\"}\n",
        "    ]\n",
        "}\n",
        "\n",
        "# Assuming parse_schema is a function that parses the schema for use in serialization\n",
        "# Here it should be from fastavro\n",
        "parsed_updated_schema = fastavro.parse_schema(schema)\n",
        "\n",
        "# Create the queue client\n",
        "queue_client = QueueClient.from_connection_string(conn_str=connection_string, queue_name=queues)\n",
        "\n",
        "# Serialize and send each row of the DataFrame to the Azure Queue\n",
        "for row in joined_df.collect():\n",
        "    # Convert row to dictionary\n",
        "    record = {'userID': row['userID'], 'percentile_activity': row['percentile_activity']}\n",
        "\n",
        "    # Serialize record using Avro schema\n",
        "    bytes_writer = io.BytesIO()\n",
        "    fastavro.schemaless_writer(bytes_writer, parsed_updated_schema, record)\n",
        "\n",
        "    # Get the bytes value of the serialized data\n",
        "    serialized_record = bytes_writer.getvalue()\n",
        "\n",
        "    # Convert the serialized data to base64 string as Azure Queue Message need to be in this format\n",
        "    encoded_message = base64.b64encode(serialized_record).decode()\n",
        "\n",
        "    # Send message to the queue\n",
        "    try:\n",
        "        queue_client.send_message(encoded_message)\n",
        "        print(f\"Message for user {record['userID']} sent to the queue.\")\n",
        "    except Exception as e:\n",
        "        print(f\"An error occurred while sending message to the queue: {str(e)}\")"
      ]
    },
    {
      "cell_type": "code",
      "execution_count": null,
      "metadata": {
        "id": "Slpatuu2-AR4"
      },
      "outputs": [],
      "source": [
        "#run this before\n",
        "active_queries = spark.streams.active\n",
        "\n",
        "for query in active_queries:\n",
        "  print(query)\n",
        "  query.stop()"
      ]
    },
    {
      "cell_type": "markdown",
      "metadata": {
        "id": "IPNZcYMlHgch"
      },
      "source": [
        "### Group Analysis 2: Spotify Users"
      ]
    },
    {
      "cell_type": "markdown",
      "metadata": {
        "id": "7V4lKVcoUpYl"
      },
      "source": [
        "######**User-Specific Stats**"
      ]
    },
    {
      "cell_type": "markdown",
      "metadata": {
        "id": "hxReAjVHRFCo"
      },
      "source": [
        "Input User ID, retrieve:\n",
        "*   Top 5 Artists\n",
        "*   Top 5 Songs\n",
        "*   Top Genre\n",
        "*   Listening Personality (1 out of 16)"
      ]
    },
    {
      "cell_type": "code",
      "execution_count": null,
      "metadata": {
        "id": "YX5lG7dp-j9h"
      },
      "outputs": [],
      "source": [
        "def setup_top_artists_songs_genre(spark, userid):\n",
        "    # Sanitize user ID to ensure it can be used as part of a SQL identifier\n",
        "    sanitized_userid = userid.replace('-', '')\n",
        "\n",
        "    # Generate unique query names based on the sanitized user ID\n",
        "    query_personality_name = f\"listening_personality_view_{sanitized_userid}\"\n",
        "    query_artist_name = f\"top_artists_view_{sanitized_userid}\"\n",
        "    query_song_name = f\"top_songs_view_{sanitized_userid}\"\n",
        "    query_genre_name = f\"top_genre_view_{sanitized_userid}\"\n",
        "\n",
        "\n",
        "    listening_personality_query = df.filter(col(\"userId\") == userid) \\\n",
        "        .select(\"listeningPersonality\") \\\n",
        "        .distinct() \\\n",
        "        .writeStream \\\n",
        "        .queryName(f\"listening_personality_view_{sanitized_userid}\") \\\n",
        "        .format(\"memory\") \\\n",
        "        .outputMode(\"update\") \\\n",
        "        .start()\n",
        "\n",
        "    top_artists_query = df.filter(col(\"userId\") == userid) \\\n",
        "        .groupBy(\"artist\").count() \\\n",
        "        .withColumnRenamed(\"count\", \"play_count\") \\\n",
        "        .orderBy(desc(\"play_count\")) \\\n",
        "        .limit(5) \\\n",
        "        .writeStream \\\n",
        "        .queryName(query_artist_name) \\\n",
        "        .format(\"memory\") \\\n",
        "        .outputMode(\"complete\") \\\n",
        "        .start()\n",
        "\n",
        "    top_songs_query = df.filter(col(\"userId\") == userid) \\\n",
        "        .groupBy(\"songName\").count() \\\n",
        "        .withColumnRenamed(\"count\", \"play_count\") \\\n",
        "        .orderBy(desc(\"play_count\")) \\\n",
        "        .limit(5) \\\n",
        "        .writeStream \\\n",
        "        .queryName(query_song_name) \\\n",
        "        .format(\"memory\") \\\n",
        "        .outputMode(\"complete\") \\\n",
        "        .start()\n",
        "\n",
        "    top_genre_query = df.filter(col(\"userId\") == userid) \\\n",
        "        .groupBy(\"genre\").count() \\\n",
        "        .withColumnRenamed(\"count\", \"play_count\") \\\n",
        "        .orderBy(desc(\"play_count\")) \\\n",
        "        .limit(1) \\\n",
        "        .writeStream \\\n",
        "        .queryName(query_genre_name) \\\n",
        "        .format(\"memory\") \\\n",
        "        .outputMode(\"complete\") \\\n",
        "        .start()\n",
        "\n",
        "    return listening_personality_query, top_artists_query, top_songs_query, top_genre_query\n",
        "\n",
        "# Example usage\n",
        "user_id = '951a17cb-b4c7-4115-9677-df16199d5d88'\n",
        "listening_personality_query, top_artists_query, top_songs_query, top_genre_query = setup_top_artists_songs_genre(spark, user_id)"
      ]
    },
    {
      "cell_type": "code",
      "execution_count": null,
      "metadata": {
        "colab": {
          "base_uri": "https://localhost:8080/"
        },
        "id": "Nh32KvDB-ne8",
        "outputId": "fb4dd12f-caa1-414a-8c52-3385ad837fed"
      },
      "outputs": [
        {
          "name": "stdout",
          "output_type": "stream",
          "text": [
            "+--------------------+\n",
            "|listeningPersonality|\n",
            "+--------------------+\n",
            "|The Devotee         |\n",
            "|The Musicologist    |\n",
            "+--------------------+\n",
            "\n",
            "+------------------+----------+\n",
            "|artist            |play_count|\n",
            "+------------------+----------+\n",
            "|Coldplay          |3         |\n",
            "|The Beatles       |2         |\n",
            "|The Rolling Stones|2         |\n",
            "|Dire Straits      |2         |\n",
            "|The Doors         |2         |\n",
            "+------------------+----------+\n",
            "\n",
            "+---------------------------+----------+\n",
            "|songName                   |play_count|\n",
            "+---------------------------+----------+\n",
            "|Always Remember Us This Way|2         |\n",
            "|On Every Street            |1         |\n",
            "|Africa                     |1         |\n",
            "|Knowing Me, Knowing You    |1         |\n",
            "|Maid Of Orleans            |1         |\n",
            "+---------------------------+----------+\n",
            "\n",
            "+----------+----------+\n",
            "|genre     |play_count|\n",
            "+----------+----------+\n",
            "|album rock|16        |\n",
            "+----------+----------+\n",
            "\n"
          ]
        }
      ],
      "source": [
        "import time\n",
        "time.sleep(10)\n",
        "\n",
        "# Query the in-memory tables for results using sanitized user IDs\n",
        "sanitized_user_id = user_id.replace('-', '')\n",
        "spark.sql(f\"SELECT * FROM listening_personality_view_{sanitized_user_id}\").show(truncate=False)\n",
        "spark.sql(f\"SELECT * FROM top_artists_view_{sanitized_user_id}\").show(truncate=False)\n",
        "spark.sql(f\"SELECT * FROM top_songs_view_{sanitized_user_id}\").show(truncate=False)\n",
        "spark.sql(f\"SELECT * FROM top_genre_view_{sanitized_user_id}\").show(truncate=False)"
      ]
    },
    {
      "cell_type": "code",
      "execution_count": null,
      "metadata": {
        "colab": {
          "base_uri": "https://localhost:8080/"
        },
        "id": "2dLX31N_oX4x",
        "outputId": "0cf37679-1c87-4871-953c-f31359b6933e"
      },
      "outputs": [
        {
          "name": "stdout",
          "output_type": "stream",
          "text": [
            "<pyspark.sql.streaming.query.StreamingQuery object at 0x7913cdf5f580>\n",
            "<pyspark.sql.streaming.query.StreamingQuery object at 0x7913cdf5ee00>\n",
            "<pyspark.sql.streaming.query.StreamingQuery object at 0x7913cdf5f460>\n",
            "<pyspark.sql.streaming.query.StreamingQuery object at 0x7913cdf5d9f0>\n"
          ]
        }
      ],
      "source": [
        "#run this before\n",
        "active_queries = spark.streams.active\n",
        "\n",
        "for query in active_queries:\n",
        "  print(query)\n",
        "  query.stop()"
      ]
    },
    {
      "cell_type": "markdown",
      "metadata": {
        "id": "k2GQsULyQchS"
      },
      "source": [
        "#####**Continent-Specific Stats**"
      ]
    },
    {
      "cell_type": "markdown",
      "metadata": {
        "id": "w8E3DVEUDILd"
      },
      "source": [
        "Retrieve per continent:\n",
        "*   Top 3 Artists\n",
        "*   Top 3 Songs\n",
        "*   Top 3 Genres\n",
        "*   Top 3 Artists"
      ]
    },
    {
      "cell_type": "markdown",
      "metadata": {
        "id": "S7c748KGpg8o"
      },
      "source": [
        "######Top 3 songs"
      ]
    },
    {
      "cell_type": "code",
      "execution_count": null,
      "metadata": {
        "id": "JkSHHZwh9rD-"
      },
      "outputs": [],
      "source": [
        "def setup_top_songs_stream_for_continent(continent):\n",
        "    # Replace spaces with underscores for the table name\n",
        "    safe_continent_name = continent.replace(\" \", \"_\").lower()\n",
        "    query = df \\\n",
        "        .filter(col(\"continent\") == continent) \\\n",
        "        .groupBy(\"songName\") \\\n",
        "        .count() \\\n",
        "        .withColumnRenamed(\"count\", \"playCount\") \\\n",
        "        .orderBy(col(\"playCount\").desc()) \\\n",
        "        .limit(3) \\\n",
        "        .writeStream \\\n",
        "        .queryName(f\"top_3_songs_{safe_continent_name}\") \\\n",
        "        .format(\"memory\") \\\n",
        "        .outputMode(\"complete\") \\\n",
        "        .start()\n",
        "    return query\n",
        "\n",
        "# List of continents\n",
        "continents = [\"Africa\", \"Asia\", \"Europe\", \"North America\", \"South America\", \"Oceania\", \"Antarctica\"]\n",
        "\n",
        "# Start a streaming query for each continent\n",
        "queries = {continent: setup_top_songs_stream_for_continent(continent) for continent in continents}"
      ]
    },
    {
      "cell_type": "code",
      "execution_count": null,
      "metadata": {
        "colab": {
          "base_uri": "https://localhost:8080/"
        },
        "id": "Cv5DABUj9tPk",
        "outputId": "167c2bc6-45be-4f69-84f1-de9bb34450f1"
      },
      "outputs": [
        {
          "name": "stdout",
          "output_type": "stream",
          "text": [
            "Top 3 Songs for Africa:\n",
            "+--------------------+---------+\n",
            "|            songName|playCount|\n",
            "+--------------------+---------+\n",
            "|                 One|       66|\n",
            "|          Hallelujah|       57|\n",
            "|One Kiss (with Du...|       53|\n",
            "+--------------------+---------+\n",
            "\n",
            "Top 3 Songs for Asia:\n",
            "+----------+---------+\n",
            "|  songName|playCount|\n",
            "+----------+---------+\n",
            "|High Hopes|       63|\n",
            "|Hallelujah|       60|\n",
            "|   Sunrise|       55|\n",
            "+----------+---------+\n",
            "\n",
            "Top 3 Songs for Europe:\n",
            "+----------+---------+\n",
            "|  songName|playCount|\n",
            "+----------+---------+\n",
            "|Hallelujah|       70|\n",
            "|       One|       49|\n",
            "|  Memories|       49|\n",
            "+----------+---------+\n",
            "\n",
            "Top 3 Songs for North America:\n",
            "+------------+---------+\n",
            "|    songName|playCount|\n",
            "+------------+---------+\n",
            "|         One|       45|\n",
            "|Feeling Good|       44|\n",
            "|  High Hopes|       42|\n",
            "+------------+---------+\n",
            "\n",
            "Top 3 Songs for South America:\n",
            "+--------------------+---------+\n",
            "|            songName|playCount|\n",
            "+--------------------+---------+\n",
            "|         Do It Again|       25|\n",
            "|          Hallelujah|       22|\n",
            "|De Vondeling Van ...|       19|\n",
            "+--------------------+---------+\n",
            "\n",
            "Top 3 Songs for Oceania:\n",
            "+------------+---------+\n",
            "|    songName|playCount|\n",
            "+------------+---------+\n",
            "|  Hallelujah|       30|\n",
            "|Feeling Good|       29|\n",
            "|        Home|       28|\n",
            "+------------+---------+\n",
            "\n",
            "Top 3 Songs for Antarctica:\n",
            "+--------------------+---------+\n",
            "|            songName|playCount|\n",
            "+--------------------+---------+\n",
            "|       Not An Addict|        4|\n",
            "|   Chasing Pavements|        4|\n",
            "|Mary Jane's Last ...|        4|\n",
            "+--------------------+---------+\n",
            "\n"
          ]
        }
      ],
      "source": [
        "import time\n",
        "time.sleep(100)  # Adjust based on your stream initialization time\n",
        "\n",
        "for continent in continents:\n",
        "    safe_continent_name = continent.replace(\" \", \"_\").lower()\n",
        "    print(f\"Top 3 Songs for {continent}:\")\n",
        "    spark.sql(f\"SELECT * FROM top_3_songs_{safe_continent_name}\").show()"
      ]
    },
    {
      "cell_type": "markdown",
      "metadata": {
        "id": "sHBOq8e-pt3M"
      },
      "source": [
        "######Top 3 genres"
      ]
    },
    {
      "cell_type": "code",
      "execution_count": null,
      "metadata": {
        "id": "aU_FkLUjpvvf"
      },
      "outputs": [],
      "source": [
        "def setup_top_genres_stream_for_continent(continent):\n",
        "    # Replace spaces with underscores for the table name\n",
        "    safe_continent_name = continent.replace(\" \", \"_\").lower()\n",
        "    query = df \\\n",
        "        .filter(col(\"continent\") == continent) \\\n",
        "        .groupBy(\"genre\") \\\n",
        "        .count() \\\n",
        "        .withColumnRenamed(\"count\", \"playCount\") \\\n",
        "        .orderBy(col(\"playCount\").desc()) \\\n",
        "        .limit(3) \\\n",
        "        .writeStream \\\n",
        "        .queryName(f\"top_3_genres_{safe_continent_name}\") \\\n",
        "        .format(\"memory\") \\\n",
        "        .outputMode(\"complete\") \\\n",
        "        .start()\n",
        "    return query\n",
        "\n",
        "# List of continents\n",
        "continents = [\"Africa\", \"Asia\", \"Europe\", \"North America\", \"South America\", \"Oceania\", \"Antarctica\"]\n",
        "\n",
        "# Start a streaming query for each continent\n",
        "genre_queries = {continent: setup_top_genres_stream_for_continent(continent) for continent in continents}"
      ]
    },
    {
      "cell_type": "code",
      "execution_count": null,
      "metadata": {
        "colab": {
          "base_uri": "https://localhost:8080/"
        },
        "id": "jspSqronp36K",
        "outputId": "34ddd478-c616-4dd5-93f4-fbfead0405cf"
      },
      "outputs": [
        {
          "name": "stdout",
          "output_type": "stream",
          "text": [
            "Top 3 Genres for Africa:\n",
            "+---------------+---------+\n",
            "|          genre|playCount|\n",
            "+---------------+---------+\n",
            "|     album rock|     8689|\n",
            "|adult standards|     2706|\n",
            "|      dutch pop|     2139|\n",
            "+---------------+---------+\n",
            "\n",
            "Top 3 Genres for Asia:\n",
            "+---------------+---------+\n",
            "|          genre|playCount|\n",
            "+---------------+---------+\n",
            "|     album rock|     8319|\n",
            "|adult standards|     2535|\n",
            "|      dutch pop|     2118|\n",
            "+---------------+---------+\n",
            "\n",
            "Top 3 Genres for Europe:\n",
            "+---------------+---------+\n",
            "|          genre|playCount|\n",
            "+---------------+---------+\n",
            "|     album rock|     7817|\n",
            "|adult standards|     2365|\n",
            "|      dutch pop|     1935|\n",
            "+---------------+---------+\n",
            "\n",
            "Top 3 Genres for North America:\n",
            "+---------------+---------+\n",
            "|          genre|playCount|\n",
            "+---------------+---------+\n",
            "|     album rock|     6457|\n",
            "|adult standards|     2122|\n",
            "|      dutch pop|     1611|\n",
            "+---------------+---------+\n",
            "\n",
            "Top 3 Genres for South America:\n",
            "+---------------+---------+\n",
            "|          genre|playCount|\n",
            "+---------------+---------+\n",
            "|     album rock|     2374|\n",
            "|adult standards|      769|\n",
            "|      dutch pop|      603|\n",
            "+---------------+---------+\n",
            "\n",
            "Top 3 Genres for Oceania:\n",
            "+---------------+---------+\n",
            "|          genre|playCount|\n",
            "+---------------+---------+\n",
            "|     album rock|     3952|\n",
            "|adult standards|     1283|\n",
            "|      dutch pop|     1055|\n",
            "+---------------+---------+\n",
            "\n",
            "Top 3 Genres for Antarctica:\n",
            "+-----------+---------+\n",
            "|      genre|playCount|\n",
            "+-----------+---------+\n",
            "| album rock|      176|\n",
            "|dutch indie|       55|\n",
            "|  dutch pop|       49|\n",
            "+-----------+---------+\n",
            "\n"
          ]
        }
      ],
      "source": [
        "import time\n",
        "time.sleep(100)  # Adjust based on your stream initialization time\n",
        "\n",
        "for continent in continents:\n",
        "    safe_continent_name = continent.replace(\" \", \"_\").lower()\n",
        "    print(f\"Top 3 Genres for {continent}:\")\n",
        "    spark.sql(f\"SELECT * FROM top_3_genres_{safe_continent_name}\").show()"
      ]
    },
    {
      "cell_type": "markdown",
      "metadata": {
        "id": "M_Lzf3Qrp6BA"
      },
      "source": [
        "###### Top 3 users"
      ]
    },
    {
      "cell_type": "code",
      "execution_count": null,
      "metadata": {
        "id": "qUffB_nxp5aQ"
      },
      "outputs": [],
      "source": [
        "def setup_top_users_stream_for_continent(continent):\n",
        "    # Replace spaces with underscores for the table name\n",
        "    safe_continent_name = continent.replace(\" \", \"_\").lower()\n",
        "    query = df \\\n",
        "        .filter(col(\"continent\") == continent) \\\n",
        "        .groupBy(\"userId\") \\\n",
        "        .count() \\\n",
        "        .withColumnRenamed(\"count\", \"playCount\") \\\n",
        "        .orderBy(col(\"playCount\").desc()) \\\n",
        "        .limit(3) \\\n",
        "        .writeStream \\\n",
        "        .queryName(f\"top_3_users_{safe_continent_name}\") \\\n",
        "        .format(\"memory\") \\\n",
        "        .outputMode(\"complete\") \\\n",
        "        .start()\n",
        "    return query\n",
        "\n",
        "# List of continents\n",
        "continents = [\"Africa\", \"Asia\", \"Europe\", \"North America\", \"South America\", \"Oceania\", \"Antarctica\"]\n",
        "\n",
        "# Start a streaming query for each continent\n",
        "user_queries = {continent: setup_top_users_stream_for_continent(continent) for continent in continents}"
      ]
    },
    {
      "cell_type": "code",
      "execution_count": null,
      "metadata": {
        "colab": {
          "base_uri": "https://localhost:8080/"
        },
        "id": "ivtA_heTp-Hi",
        "outputId": "592ce90a-1b0c-4d25-aedd-1848e75a742e"
      },
      "outputs": [
        {
          "name": "stdout",
          "output_type": "stream",
          "text": [
            "Top 3 Users for Africa:\n",
            "+------------------------------------+---------+\n",
            "|userId                              |playCount|\n",
            "+------------------------------------+---------+\n",
            "|ed50e13e-8eee-4c57-ba26-d5a130c37b56|76       |\n",
            "|f28db3e4-0845-4a75-a3d8-e99333791619|74       |\n",
            "|c6e2e136-f323-452d-9f7a-bd6ad07d6a44|71       |\n",
            "+------------------------------------+---------+\n",
            "\n",
            "Top 3 Users for Asia:\n",
            "+------------------------------------+---------+\n",
            "|userId                              |playCount|\n",
            "+------------------------------------+---------+\n",
            "|392f0246-4c1f-4beb-b2f5-f6d84a0518dc|86       |\n",
            "|0cc4b656-bc1b-4ef9-b1a4-db7d05550efa|73       |\n",
            "|1041a39c-20b5-4e40-ba09-0e04485ed565|70       |\n",
            "+------------------------------------+---------+\n",
            "\n",
            "Top 3 Users for Europe:\n",
            "+------------------------------------+---------+\n",
            "|userId                              |playCount|\n",
            "+------------------------------------+---------+\n",
            "|07e0f95a-2d28-4495-9c8e-ec47b8da1029|85       |\n",
            "|d8c7359e-cc75-461c-aa3e-9e8ba8966fbd|81       |\n",
            "|b3f37f47-302a-4325-88d1-3415894e31de|79       |\n",
            "+------------------------------------+---------+\n",
            "\n",
            "Top 3 Users for North America:\n",
            "+------------------------------------+---------+\n",
            "|userId                              |playCount|\n",
            "+------------------------------------+---------+\n",
            "|af0af669-9000-45c7-88a3-40185678ac4f|68       |\n",
            "|d5679b27-a6ab-425f-a79b-249693c9474e|68       |\n",
            "|cb0f0b39-7534-42d7-8a02-ab9027712148|65       |\n",
            "+------------------------------------+---------+\n",
            "\n",
            "Top 3 Users for South America:\n",
            "+------------------------------------+---------+\n",
            "|userId                              |playCount|\n",
            "+------------------------------------+---------+\n",
            "|2fbc24d1-2ea4-487b-af3f-8aaaf9b52b42|69       |\n",
            "|951a17cb-b4c7-4115-9677-df16199d5d88|66       |\n",
            "|9dc10b3c-ff07-4c7c-a468-29cc7cce7ef8|55       |\n",
            "+------------------------------------+---------+\n",
            "\n",
            "Top 3 Users for Oceania:\n",
            "+------------------------------------+---------+\n",
            "|userId                              |playCount|\n",
            "+------------------------------------+---------+\n",
            "|2e157b9d-466d-4c93-90ff-649cab6e57a5|90       |\n",
            "|563198b6-e9a1-414d-81f9-8944f5741465|61       |\n",
            "|4e59c0da-ec9a-46dc-b953-364b8b839112|60       |\n",
            "+------------------------------------+---------+\n",
            "\n",
            "Top 3 Users for Antarctica:\n",
            "+------------------------------------+---------+\n",
            "|userId                              |playCount|\n",
            "+------------------------------------+---------+\n",
            "|603a9bc9-a67c-4330-8916-fb455eaf010b|28       |\n",
            "|01eb1db5-4476-494a-adc4-2633c510d913|28       |\n",
            "|010ad024-9b21-4d96-8107-fbcd087857a8|27       |\n",
            "+------------------------------------+---------+\n",
            "\n"
          ]
        }
      ],
      "source": [
        "import time\n",
        "time.sleep(10)  # Adjust based on your stream initialization time\n",
        "\n",
        "for continent in continents:\n",
        "    safe_continent_name = continent.replace(\" \", \"_\").lower()\n",
        "    print(f\"Top 3 Users for {continent}:\")\n",
        "    spark.sql(f\"SELECT * FROM top_3_users_{safe_continent_name}\").show(truncate=False)"
      ]
    },
    {
      "cell_type": "markdown",
      "metadata": {
        "id": "WsiLm_rb0L0V"
      },
      "source": [
        "###### Top 3 Artists"
      ]
    },
    {
      "cell_type": "code",
      "execution_count": null,
      "metadata": {
        "id": "9D-hRun50QW8"
      },
      "outputs": [],
      "source": [
        "def setup_top_artists_stream_for_continent(continent):\n",
        "    # Replace spaces with underscores for the table name\n",
        "    safe_continent_name = continent.replace(\" \", \"_\").lower()\n",
        "    query = df \\\n",
        "        .filter(col(\"continent\") == continent) \\\n",
        "        .groupBy(\"artist\") \\\n",
        "        .count() \\\n",
        "        .withColumnRenamed(\"count\", \"playCount\") \\\n",
        "        .orderBy(col(\"playCount\").desc()) \\\n",
        "        .limit(3) \\\n",
        "        .writeStream \\\n",
        "        .queryName(f\"top_3_artists_{safe_continent_name}\") \\\n",
        "        .format(\"memory\") \\\n",
        "        .outputMode(\"complete\") \\\n",
        "        .start()\n",
        "    return query\n",
        "\n",
        "# List of continents\n",
        "continents = [\"Africa\", \"Asia\", \"Europe\", \"North America\", \"South America\", \"Oceania\", \"Antarctica\"]\n",
        "\n",
        "# Start a streaming query for each continent\n",
        "artist_queries = {continent: setup_top_artists_stream_for_continent(continent) for continent in continents}"
      ]
    },
    {
      "cell_type": "code",
      "execution_count": null,
      "metadata": {
        "colab": {
          "base_uri": "https://localhost:8080/"
        },
        "id": "hr9s0uUj0Ruc",
        "outputId": "5cd91ac2-efa0-4e3f-a4e1-8e47b8e4d821"
      },
      "outputs": [
        {
          "name": "stdout",
          "output_type": "stream",
          "text": [
            "Top 3 Artists for Africa:\n",
            "+-----------+---------+\n",
            "|     artist|playCount|\n",
            "+-----------+---------+\n",
            "|      Queen|     1247|\n",
            "|The Beatles|      674|\n",
            "|   Coldplay|      621|\n",
            "+-----------+---------+\n",
            "\n",
            "Top 3 Artists for Asia:\n",
            "+-----------+---------+\n",
            "|     artist|playCount|\n",
            "+-----------+---------+\n",
            "|      Queen|     1214|\n",
            "|The Beatles|      651|\n",
            "|   Coldplay|      601|\n",
            "+-----------+---------+\n",
            "\n",
            "Top 3 Artists for Europe:\n",
            "+-----------+---------+\n",
            "|     artist|playCount|\n",
            "+-----------+---------+\n",
            "|      Queen|     1201|\n",
            "|   Coldplay|      597|\n",
            "|The Beatles|      587|\n",
            "+-----------+---------+\n",
            "\n",
            "Top 3 Artists for North America:\n",
            "+-----------+---------+\n",
            "|     artist|playCount|\n",
            "+-----------+---------+\n",
            "|      Queen|      910|\n",
            "|The Beatles|      476|\n",
            "|   Coldplay|      439|\n",
            "+-----------+---------+\n",
            "\n",
            "Top 3 Artists for South America:\n",
            "+-----------+---------+\n",
            "|     artist|playCount|\n",
            "+-----------+---------+\n",
            "|      Queen|      372|\n",
            "|The Beatles|      193|\n",
            "|   Coldplay|      183|\n",
            "+-----------+---------+\n",
            "\n",
            "Top 3 Artists for Oceania:\n",
            "+-----------+---------+\n",
            "|     artist|playCount|\n",
            "+-----------+---------+\n",
            "|      Queen|      543|\n",
            "|The Beatles|      306|\n",
            "|   Coldplay|      252|\n",
            "+-----------+---------+\n",
            "\n",
            "Top 3 Artists for Antarctica:\n",
            "+--------+---------+\n",
            "|  artist|playCount|\n",
            "+--------+---------+\n",
            "|   Queen|       29|\n",
            "|Coldplay|       18|\n",
            "|   Anouk|        9|\n",
            "+--------+---------+\n",
            "\n"
          ]
        }
      ],
      "source": [
        "import time\n",
        "time.sleep(10)  # Adjust based on your stream initialization time\n",
        "\n",
        "for continent in continents:\n",
        "    safe_continent_name = continent.replace(\" \", \"_\").lower()\n",
        "    print(f\"Top 3 Artists for {continent}:\")\n",
        "    spark.sql(f\"SELECT * FROM top_3_artists_{safe_continent_name}\").show()"
      ]
    },
    {
      "cell_type": "code",
      "execution_count": null,
      "metadata": {
        "colab": {
          "base_uri": "https://localhost:8080/"
        },
        "id": "mXJXVTz52wSo",
        "outputId": "9c48e1ae-dbd9-4040-99aa-0a7a6063754c"
      },
      "outputs": [
        {
          "name": "stdout",
          "output_type": "stream",
          "text": [
            "<pyspark.sql.streaming.query.StreamingQuery object at 0x7913cdf5eec0>\n",
            "<pyspark.sql.streaming.query.StreamingQuery object at 0x79133edf3cd0>\n",
            "<pyspark.sql.streaming.query.StreamingQuery object at 0x79133edf2620>\n",
            "<pyspark.sql.streaming.query.StreamingQuery object at 0x79133edf1f00>\n",
            "<pyspark.sql.streaming.query.StreamingQuery object at 0x79133edf3490>\n",
            "<pyspark.sql.streaming.query.StreamingQuery object at 0x79133edf2c20>\n",
            "<pyspark.sql.streaming.query.StreamingQuery object at 0x79133edf2ec0>\n",
            "<pyspark.sql.streaming.query.StreamingQuery object at 0x79133edf1990>\n",
            "<pyspark.sql.streaming.query.StreamingQuery object at 0x79133edf3250>\n",
            "<pyspark.sql.streaming.query.StreamingQuery object at 0x79133edf2980>\n",
            "<pyspark.sql.streaming.query.StreamingQuery object at 0x79133edf1ed0>\n",
            "<pyspark.sql.streaming.query.StreamingQuery object at 0x79133edf0760>\n",
            "<pyspark.sql.streaming.query.StreamingQuery object at 0x79133edf0eb0>\n",
            "<pyspark.sql.streaming.query.StreamingQuery object at 0x79133edf2590>\n",
            "<pyspark.sql.streaming.query.StreamingQuery object at 0x79133edf0070>\n"
          ]
        }
      ],
      "source": [
        "#run this before\n",
        "active_queries = spark.streams.active\n",
        "\n",
        "for query in active_queries:\n",
        "  print(query)\n",
        "  query.stop()"
      ]
    },
    {
      "cell_type": "markdown",
      "metadata": {
        "id": "CnUUgnpQI4nP"
      },
      "source": [
        "### Group Analysis 3: Spotify Artists"
      ]
    },
    {
      "cell_type": "markdown",
      "metadata": {
        "id": "pW_hhBx8HDtO"
      },
      "source": [
        "#### Artist-Specific Stats"
      ]
    },
    {
      "cell_type": "code",
      "execution_count": null,
      "metadata": {
        "colab": {
          "base_uri": "https://localhost:8080/"
        },
        "id": "qHiDFlkxvwWk",
        "outputId": "61742612-0f16-41d9-aa23-1e675d223e4c"
      },
      "outputs": [
        {
          "name": "stdout",
          "output_type": "stream",
          "text": [
            "+------------------------------------------+---------+\n",
            "|songName                                  |playCount|\n",
            "+------------------------------------------+---------+\n",
            "|I Want To Hold Your Hand - Remastered 2015|136      |\n",
            "|She's Leaving Home - Remastered 2009      |100      |\n",
            "|Lady Madonna - Remastered 2015            |99       |\n",
            "+------------------------------------------+---------+\n",
            "\n"
          ]
        }
      ],
      "source": [
        "# Define the artist name globally\n",
        "artist_name_of_interest = \"The Beatles\"\n",
        "\n",
        "def setup_top_songs_stream_for_artist_name(artist_name):\n",
        "    \"\"\"\n",
        "    Set up a Spark streaming query to find the top 3 songs played for a specific artist name.\n",
        "    \"\"\"\n",
        "    query = df \\\n",
        "        .filter(col(\"artist\") == artist_name) \\\n",
        "        .groupBy(\"songName\") \\\n",
        "        .count() \\\n",
        "        .withColumnRenamed(\"count\", \"playCount\") \\\n",
        "        .orderBy(col(\"playCount\").desc()) \\\n",
        "        .limit(3) \\\n",
        "        .writeStream \\\n",
        "        .queryName(f\"top_3_songs_for_artist_{artist_name.replace(' ', '_').lower()}\") \\\n",
        "        .format(\"memory\") \\\n",
        "        .outputMode(\"complete\") \\\n",
        "        .start()\n",
        "    return query\n",
        "\n",
        "# Start a streaming query for the specified artist name\n",
        "query_for_artist_name = setup_top_songs_stream_for_artist_name(artist_name_of_interest)\n",
        "\n",
        "# Let the stream run for some time to accumulate data (adjust time as necessary)\n",
        "time.sleep(100)  # Sleep time depends on the volume and velocity of incoming data\n",
        "\n",
        "# Query the in-memory table to display the top 3 songs for the specified artist name\n",
        "spark.sql(f\"SELECT * FROM top_3_songs_for_artist_{artist_name_of_interest.replace(' ', '_').lower()}\").show(truncate=False)"
      ]
    },
    {
      "cell_type": "code",
      "execution_count": null,
      "metadata": {
        "colab": {
          "base_uri": "https://localhost:8080/"
        },
        "id": "LdsjsHAAwl4m",
        "outputId": "c7f2596f-be82-405a-aed3-d5477d6d3a6c"
      },
      "outputs": [
        {
          "name": "stdout",
          "output_type": "stream",
          "text": [
            "+-------------+---------+\n",
            "|    continent|playCount|\n",
            "+-------------+---------+\n",
            "|       Africa|      674|\n",
            "|         Asia|      651|\n",
            "|       Europe|      587|\n",
            "|North America|      476|\n",
            "|      Oceania|      306|\n",
            "|South America|      193|\n",
            "|   Antarctica|        9|\n",
            "+-------------+---------+\n",
            "\n"
          ]
        }
      ],
      "source": [
        "# Define the artist name globally\n",
        "artist_name_of_interest = \"The Beatles\"\n",
        "\n",
        "def setup_play_count_stream_for_artist_by_continent(artist_name):\n",
        "    \"\"\"\n",
        "    Set up a Spark streaming query to count the number of plays for a specific artist across each continent.\n",
        "    \"\"\"\n",
        "    query = df \\\n",
        "        .filter(col(\"artist\") == artist_name) \\\n",
        "        .groupBy(\"continent\") \\\n",
        "        .count() \\\n",
        "        .withColumnRenamed(\"count\", \"playCount\") \\\n",
        "        .orderBy(col(\"playCount\").desc()) \\\n",
        "        .writeStream \\\n",
        "        .queryName(f\"play_count_for_{artist_name.replace(' ', '_').lower()}_by_continent\") \\\n",
        "        .format(\"memory\") \\\n",
        "        .outputMode(\"complete\") \\\n",
        "        .start()\n",
        "    return query\n",
        "\n",
        "# Start a streaming query for the specified artist name to count plays by continent\n",
        "query_for_artist_play_count = setup_play_count_stream_for_artist_by_continent(artist_name_of_interest)\n",
        "\n",
        "# Let the stream run for some time to accumulate data (adjust time as necessary)\n",
        "time.sleep(10)  # Sleep time depends on the volume and velocity of incoming data\n",
        "\n",
        "# Query the in-memory table to display the play counts for the specified artist across each continent\n",
        "spark.sql(f\"SELECT * FROM play_count_for_{artist_name_of_interest.replace(' ', '_').lower()}_by_continent\").show()"
      ]
    },
    {
      "cell_type": "markdown",
      "metadata": {
        "id": "oDPb6i21WBYc"
      },
      "source": [
        "#### PowerBI Using Azure Event Hub"
      ]
    },
    {
      "cell_type": "code",
      "execution_count": null,
      "metadata": {
        "id": "uQiriHraI7Oh"
      },
      "outputs": [],
      "source": [
        "def send_to_hub(row):\n",
        "    # Convert row to JSON string\n",
        "    message = json.dumps(row.asDict(), default=str)\n",
        "\n",
        "    # Create a producer client to send messages to the Event Hub\n",
        "    connection_str = \"Endpoint=sb://iesststreamanalytics0001.servicebus.windows.net/;SharedAccessKeyName=dtroje9;SharedAccessKey=ymaJNrRpig+gvA5ayJlPkE7iJFiWaDeCe+AEhOiUn8k=;EntityPath=eh_group_07\"\n",
        "    eventhub_name = 'eh_group_07'\n",
        "    client = EventHubProducerClient.from_connection_string(connection_str, eventhub_name=eventhub_name)\n",
        "\n",
        "    # Send message\n",
        "    with client:\n",
        "        event_data_batch = client.create_batch()\n",
        "        event_data_batch.add(EventData(message))\n",
        "        client.send_batch(event_data_batch)\n",
        "\n",
        "query10 = df \\\n",
        "    .writeStream \\\n",
        "    .outputMode(\"update\") \\\n",
        "    .foreach(send_to_hub) \\\n",
        "    .queryName(\"azure4\") \\\n",
        "    .start()"
      ]
    }
  ],
  "metadata": {
    "accelerator": "GPU",
    "colab": {
      "collapsed_sections": [
        "-YfukhLxkWs_",
        "Z8mLidvjIi6x",
        "KikUUu2-AV-R",
        "c7MlmT21UfVr",
        "zm_zngQGFPqF"
      ],
      "gpuType": "T4",
      "machine_shape": "hm",
      "provenance": []
    },
    "kernelspec": {
      "display_name": "Python 3",
      "name": "python3"
    },
    "language_info": {
      "name": "python"
    }
  },
  "nbformat": 4,
  "nbformat_minor": 0
}
